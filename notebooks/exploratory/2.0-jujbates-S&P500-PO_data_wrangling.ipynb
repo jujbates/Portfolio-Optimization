{
 "cells": [
  {
   "cell_type": "markdown",
   "metadata": {},
   "source": [
    "\n",
    "# **The Data Science Method**  \n",
    "\n",
    "\n",
    "1.   [Problem Identification](https://medium.com/@aiden.dataminer/the-data-science-method-problem-identification-6ffcda1e5152)\n",
    "\n",
    "2.   [**Data Wrangling**](https://medium.com/@aiden.dataminer/the-data-science-method-dsm-data-collection-organization-and-definitions-d19b6ff141c4) \n",
    "  * Data Organization - Using cookiecutter template with some modifications to start.\n",
    "  * Data Collection - Collected data from wikipedia and yahoo finance price dataset. The wikipedia showed us the currect S&P 500 companies and then used their ticker symbols to query yahoo finance adj. close prices.\n",
    "      - Load the S&P 500 tickers from wikipedia page\n",
    "      - Get S&P 500 Index (^GSPC) as a Bench Mark\n",
    "      - Use S&P Symbols to Get Adj Close from Yahoo Finance\n",
    "  * Data Cleaning - The S&P 500 data from yahoo finance price is almost clean and ready for analysis use. Need to remove tickers that IPO or die mid year, creating usable Nan values.\n",
    "  * Basic Data Visualizations \n",
    "  * Data Definition \n",
    "\n",
    " \n",
    "3.   [Exploratory Data Analysis](https://medium.com/@aiden.dataminer/the-data-science-method-dsm-exploratory-data-analysis-bc84d4d8d3f9)\n",
    " * Build data profile tables and plots\n",
    "        - Outliers & Anomalies\n",
    " * Explore data relationships\n",
    " * Identification and creation of features\n",
    "\n",
    "4.   [Pre-processing and Training Data Development](https://medium.com/@aiden.dataminer/the-data-science-method-dsm-pre-processing-and-training-data-development-fd2d75182967)\n",
    "  * Create dummy or indicator features for categorical variables\n",
    "  * Standardize the magnitude of numeric features\n",
    "  * Split into testing and training datasets\n",
    "  * Apply scaler to the testing set\n",
    "5.   [Modeling](https://medium.com/@aiden.dataminer/the-data-science-method-dsm-modeling-56b4233cad1b)\n",
    "  * Create dummy or indicator features for categorical variable\n",
    "  * Fit Models with Training Data Set\n",
    "  * Review Model Outcomes — Iterate over additional models as needed.\n",
    "  * Identify the Final Model\n",
    "\n",
    "6.   [Documentation](https://medium.com/@aiden.dataminer/the-data-science-method-dsm-documentation-c92c28bd45e6)\n",
    "\n",
    "  * Review the Results\n",
    "  * Present and share your findings - storytelling\n",
    "  * Finalize Code \n",
    "  * Finalize Documentation\n",
    "\n"
   ]
  },
  {
   "cell_type": "markdown",
   "metadata": {
    "pycharm": {
     "name": "#%% md\n"
    }
   },
   "source": [
    "# Data Wrangling"
   ]
  },
  {
   "cell_type": "markdown",
   "metadata": {},
   "source": [
    "## Data Organization"
   ]
  },
  {
   "cell_type": "markdown",
   "metadata": {},
   "source": [
    "First, loads the needed packages and modules into Python. \n",
    "Then, look at project data structure similar to cookie cutter to create directory path variables."
   ]
  },
  {
   "cell_type": "code",
   "execution_count": 1,
   "metadata": {
    "pycharm": {
     "name": "#%%\n"
    }
   },
   "outputs": [],
   "source": [
    "#load python packages\n",
    "import os\n",
    "from bs4 import BeautifulSoup\n",
    "import pandas as pd\n",
    "\n",
    "# import datetime\n",
    "import seaborn as sns\n",
    "import matplotlib.pyplot as plt\n",
    "import numpy as np\n",
    "# import quandl\n",
    "from yahooquery import Ticker\n",
    "import requests\n",
    "# import dotenv\n",
    "\n",
    "# from IPython.html import widgets\n",
    "from IPython.display import display\n",
    "\n",
    "\n",
    "\n",
    "# from __future__ import print_function\n",
    "from ipywidgets import interact, interactive, fixed, interact_manual\n",
    "import ipywidgets as widgets\n"
   ]
  },
  {
   "cell_type": "code",
   "execution_count": 2,
   "metadata": {},
   "outputs": [
    {
     "name": "stdout",
     "output_type": "stream",
     "text": [
      "Current Directory: \n",
      "/Users/jb/Development/courses/springboard/ds/Assignments/Portfolio-Optimization/notebooks/exploratory\n"
     ]
    }
   ],
   "source": [
    "# prints current directory \n",
    "current_dir = os.getcwd() \n",
    "print(\"Current Directory: \") \n",
    "print(current_dir) "
   ]
  },
  {
   "cell_type": "code",
   "execution_count": 3,
   "metadata": {},
   "outputs": [
    {
     "name": "stdout",
     "output_type": "stream",
     "text": [
      "Parent Directory: \n",
      "/Users/jb/Development/courses/springboard/ds/Assignments/Portfolio-Optimization\n"
     ]
    }
   ],
   "source": [
    "# prints parent directory \n",
    "project_dir = os.path.abspath(os.path.join(os.path.join(current_dir, os.pardir), os.pardir))\n",
    "print(\"Parent Directory: \") \n",
    "print(project_dir) "
   ]
  },
  {
   "cell_type": "code",
   "execution_count": 4,
   "metadata": {},
   "outputs": [
    {
     "data": {
      "text/plain": [
       "['LICENSE',\n",
       " 'environment.yml',\n",
       " 'models',\n",
       " 'README.md',\n",
       " '.gitignore',\n",
       " '.git',\n",
       " 'data',\n",
       " 'notebooks',\n",
       " 'reports',\n",
       " '.idea',\n",
       " 'src']"
      ]
     },
     "execution_count": 4,
     "metadata": {},
     "output_type": "execute_result"
    }
   ],
   "source": [
    "os.chdir(project_dir)\n",
    "os.listdir()"
   ]
  },
  {
   "cell_type": "code",
   "execution_count": 5,
   "metadata": {},
   "outputs": [],
   "source": [
    "data_interim_dir = '/data/interim/'\n",
    "data_raw_dir = '/data/raw/'"
   ]
  },
  {
   "cell_type": "markdown",
   "metadata": {
    "pycharm": {
     "name": "#%% md\n"
    }
   },
   "source": [
    "## Data Collection"
   ]
  },
  {
   "cell_type": "markdown",
   "metadata": {},
   "source": [
    "Setup for future visualizations."
   ]
  },
  {
   "cell_type": "code",
   "execution_count": 6,
   "metadata": {
    "pycharm": {
     "name": "#%%\n"
    }
   },
   "outputs": [],
   "source": [
    "%matplotlib inline\n",
    "\n",
    "plt.style.use('dark_background')\n",
    "c = ['white', 'springgreen', 'fuchsia', 'lightcoral', 'red'] # Color\n",
    "s = [24, 20, 16, 12]  # Size\n",
    "w = [0.75, 1, 1.25, 1.50] # Line Width\n",
    "ga = 0.10 # Grid Alpha"
   ]
  },
  {
   "cell_type": "markdown",
   "metadata": {
    "pycharm": {
     "name": "#%% md\n"
    }
   },
   "source": [
    "The start and end date window for S&P 500 analysis"
   ]
  },
  {
   "cell_type": "code",
   "execution_count": 7,
   "metadata": {
    "pycharm": {
     "name": "#%%\n"
    }
   },
   "outputs": [],
   "source": [
    "start_date = \"2019-01-01\"\n",
    "end_date = \"2020-01-01\""
   ]
  },
  {
   "cell_type": "markdown",
   "metadata": {
    "pycharm": {
     "name": "#%% md\n"
    }
   },
   "source": [
    "### Load the S&P 500 tickers from wikipedia page - https://en.wikipedia.org/wiki/List_of_S%26P_500_companies\n",
    "\n",
    "We will find the current S&P 500 companies from wikipedia using panads html table scraper.\n",
    "Read S&P 500 data into a list, pandas dataframe and save in csv for future pipelining.\n"
   ]
  },
  {
   "cell_type": "code",
   "execution_count": 8,
   "metadata": {},
   "outputs": [
    {
     "name": "stdout",
     "output_type": "stream",
     "text": [
      "  Symbol             Security SEC filings             GICS Sector  \\\n",
      "0    MMM           3M Company     reports             Industrials   \n",
      "1    ABT  Abbott Laboratories     reports             Health Care   \n",
      "2   ABBV          AbbVie Inc.     reports             Health Care   \n",
      "3   ABMD          ABIOMED Inc     reports             Health Care   \n",
      "4    ACN        Accenture plc     reports  Information Technology   \n",
      "\n",
      "                GICS Sub-Industry    Headquarters Location Date first added  \\\n",
      "0        Industrial Conglomerates      St. Paul, Minnesota       1976-08-09   \n",
      "1           Health Care Equipment  North Chicago, Illinois       1964-03-31   \n",
      "2                 Pharmaceuticals  North Chicago, Illinois       2012-12-31   \n",
      "3           Health Care Equipment   Danvers, Massachusetts       2018-05-31   \n",
      "4  IT Consulting & Other Services          Dublin, Ireland       2011-07-06   \n",
      "\n",
      "       CIK      Founded  \n",
      "0    66740         1902  \n",
      "1     1800         1888  \n",
      "2  1551152  2013 (1888)  \n",
      "3   815094         1981  \n",
      "4  1467373         1989  \n",
      "-----------------------------------------------------------------------------------------\n",
      "                 Date  Added                        Removed  \\\n",
      "                 Date Ticker               Security  Ticker   \n",
      "0  September 21, 2020   ETSY                   Etsy     HRB   \n",
      "1  September 21, 2020    TER               Teradyne    COTY   \n",
      "2  September 21, 2020   CTLT               Catalent     KSS   \n",
      "3       June 22, 2020    BIO   Bio-Rad Laboratories     ADS   \n",
      "4       June 22, 2020    TDY  Teledyne Technologies     HOG   \n",
      "\n",
      "                                                    Reason  \n",
      "                Security                            Reason  \n",
      "0              H&R Block  Market capitalization change.[6]  \n",
      "1              Coty Inc.  Market capitalization change.[6]  \n",
      "2           Kohl's Corp.  Market capitalization change.[6]  \n",
      "3  Alliance Data Systems  Market capitalization change.[7]  \n",
      "4        Harley-Davidson  Market capitalization change.[7]  \n",
      "-----------------------------------------------------------------------------------------\n"
     ]
    }
   ],
   "source": [
    "input_url = \"https://en.wikipedia.org/wiki/List_of_S%26P_500_companies\"\n",
    "wiki_tables = pd.read_html(input_url)\n",
    "for table in wiki_tables:\n",
    "    print(table.head())\n",
    "    print('-----------------------------------------------------------------------------------------')"
   ]
  },
  {
   "cell_type": "markdown",
   "metadata": {
    "pycharm": {
     "name": "#%% md\n"
    }
   },
   "source": [
    "sp500_wiki_df = wiki_tables[0]\n",
    "print(sp500_wiki_df.head())\n"
   ]
  },
  {
   "cell_type": "code",
   "execution_count": null,
   "metadata": {},
   "outputs": [],
   "source": [
    "\n",
    "Save wiki query dataframe in raw directory."
   ]
  },
  {
   "cell_type": "code",
   "execution_count": null,
   "metadata": {},
   "outputs": [],
   "source": [
    "sp500_wiki_df.to_csv(project_dir + '/data/raw/'+ 'sp500_wiki_df_raw.csv', index=False)"
   ]
  },
  {
   "cell_type": "code",
   "execution_count": null,
   "metadata": {
    "scrolled": true
   },
   "outputs": [],
   "source": [
    "sp500_wiki_df = pd.read_csv(project_dir + '/data/raw/'+ 'sp500_wiki_df_raw.csv')"
   ]
  },
  {
   "cell_type": "code",
   "execution_count": null,
   "metadata": {},
   "outputs": [],
   "source": [
    "sp500_wiki_df['Symbol'] = sp500_wiki_df['Symbol'].str.replace('.', '-', regex=False)\n",
    "sp500_tickers = sp500_wiki_df['Symbol'].tolist()\n",
    "sp500_tickers_df = sp500_wiki_df['Symbol'].copy()\n",
    "sp500_tickers_df"
   ]
  },
  {
   "cell_type": "markdown",
   "metadata": {
    "pycharm": {
     "name": "#%% md\n"
    }
   },
   "source": [
    "# from src.util import SP500SymbolDataRequest\n",
    "\n",
    "# sp500_sdr = SP500SymbolDataRequest()\n",
    "# sp500_sdr.to_csv(project_dir + data_interim_dir + 'SP500_from_wiki.csv')\n",
    "# sp500_tickers = sp500_sdr.to_list()\n",
    "# sp500_tickers_df  = pd.DataFrame(sp500_tickers, columns=['Symbol']) "
   ]
  },
  {
   "cell_type": "code",
   "execution_count": null,
   "metadata": {
    "scrolled": true
   },
   "outputs": [],
   "source": [
    "Let's take a look at the SP500 GICS Sector & sub sector count to see the how many tickers correspond to each sector. "
   ]
  },
  {
   "cell_type": "code",
   "execution_count": null,
   "metadata": {
    "scrolled": true
   },
   "outputs": [],
   "source": [
    "sp500_wiki_df_sectors = sp500_wiki_df.groupby([\"GICS Sector\"])[\"Symbol\"].count()\n",
    "\n",
    "ax = sp500_wiki_df_sectors.plot(kind='bar', figsize=(10,6), fontsize=13)\n",
    "ax.set_alpha(0.8)\n",
    "ax.set_title(\"S&P 500 (^GSPC) GICS Sectors\", fontsize=22)\n",
    "ax.set_ylabel(\"Sector Count\", fontsize=15)\n",
    "plt.show()\n"
   ]
  },
  {
   "cell_type": "code",
   "execution_count": null,
   "metadata": {
    "scrolled": false
   },
   "outputs": [],
   "source": [
    "sp500_wiki_df_sectors_sub_ind = sp500_wiki_df.groupby([\"GICS Sector\", \"GICS Sub-Industry\"])[\"Symbol\"].count()\n",
    "sp500_sectors = sp500_wiki_df[\"GICS Sector\"].unique()\n",
    "\n",
    "for sector in sp500_sectors:\n",
    "    sp500_sector = sp500_wiki_df[sp500_wiki_df[\"GICS Sector\"] == sector]\n",
    "    sp500_wiki_df_sub_sectors = sp500_sector.groupby([\"GICS Sub-Industry\"])[\"Symbol\"].count()\n",
    "\n",
    "    ax = sp500_wiki_df_sub_sectors.plot(kind='bar', figsize=(10,6), fontsize=13)\n",
    "    ax.set_alpha(0.8)\n",
    "    ax.set_title(f\"S&P 500 ({sector}) GICS Sub Industry\", fontsize=22)\n",
    "    ax.set_ylabel(\"GICS Sub Industry Count\", fontsize=15)\n",
    "    plt.show()"
   ]
  },
  {
   "cell_type": "markdown",
   "metadata": {
    "pycharm": {
     "name": "#%% md\n"
    }
   },
   "source": [
    "sp500_wiki_df.groupby([\"GICS Sector\", \"GICS Sub-Industry\"])[\"Symbol\"].count().tail(60)"
   ]
  },
  {
   "cell_type": "code",
   "execution_count": null,
   "metadata": {},
   "outputs": [],
   "source": [
    "### Load the S&P 500 weights per tickers via  slick charts sp500 page - https://www.slickcharts.com/sp500"
   ]
  },
  {
   "cell_type": "markdown",
   "metadata": {
    "pycharm": {
     "name": "#%% md\n"
    }
   },
   "source": [
    "input_url = \"https://www.slickcharts.com/sp500\"\n",
    "headers = {'User-Agent': 'Mozilla/5.0 (Macintosh; Intel Mac OS X 10_11_5) AppleWebKit/537.36 (KHTML, like Gecko) Chrome/50.0.2661.102 Safari/537.36'}\n",
    "res = requests.get(input_url, headers=headers)\n",
    "\n",
    "soup = BeautifulSoup(res.content, 'lxml')\n",
    "tables = soup.find_all('table') \n",
    "\n",
    "sp500_slick_df = pd.read_html(str(tables[0]))[0]\n",
    "print(sp500_slick_df.head())\n"
   ]
  },
  {
   "cell_type": "code",
   "execution_count": null,
   "metadata": {},
   "outputs": [],
   "source": [
    "Save slick query dataframe in raw directory."
   ]
  },
  {
   "cell_type": "code",
   "execution_count": null,
   "metadata": {},
   "outputs": [],
   "source": [
    "sp500_slick_df.to_csv(project_dir + '/data/raw/'+ 'sp500_slick_df_raw.csv', index=False)"
   ]
  },
  {
   "cell_type": "code",
   "execution_count": null,
   "metadata": {},
   "outputs": [],
   "source": [
    "# sp500_slick_df1 = pd.read_csv(project_dir + '/data/raw/'+ 'sp500_slick_df_raw.csv')"
   ]
  },
  {
   "cell_type": "code",
   "execution_count": null,
   "metadata": {
    "pycharm": {
     "name": "#%%\n"
    }
   },
   "outputs": [],
   "source": [
    "print(sp500_slick_df.Weight.sum())\n",
    "print(sp500_slick_df.shape)\n",
    "print(sp500_slick_df)\n"
   ]
  },
  {
   "cell_type": "code",
   "execution_count": null,
   "metadata": {
    "pycharm": {
     "name": "#%%\n"
    }
   },
   "outputs": [],
   "source": [
    "\n",
    "\n",
    "# sp500_info_df = sp500_slick_df.copy()\n",
    "# sp500_info_df.head()\n"
   ]
  },
  {
   "cell_type": "code",
   "execution_count": null,
   "metadata": {
    "pycharm": {
     "name": "#%%\n"
    }
   },
   "outputs": [],
   "source": [
    "# sp500_info_df[\"Market Cap\"] = np.nan\n",
    "# sp500_info_df.head()"
   ]
  },
  {
   "cell_type": "code",
   "execution_count": null,
   "metadata": {
    "pycharm": {
     "name": "#%%\n"
    }
   },
   "outputs": [],
   "source": [
    "# sp500_info_df.drop('#', axis=1, inplace=True)\n",
    "# sp500_info_df.set_index('Symbol', inplace=True)\n",
    "# sp500_info_df.head()"
   ]
  },
  {
   "cell_type": "code",
   "execution_count": null,
   "metadata": {
    "pycharm": {
     "name": "#%%\n"
    }
   },
   "outputs": [],
   "source": [
    "# sp500_info_df.index = sp500_info_df.index.str.replace('.', '-', regex=False)\n"
   ]
  },
  {
   "cell_type": "code",
   "execution_count": null,
   "metadata": {
    "pycharm": {
     "name": "#%%\n"
    }
   },
   "outputs": [],
   "source": [
    "# for k, v in yf_data_price.items():\n",
    "#     sp500_info_df.loc[k,'Market Cap'] = v['marketCap'] "
   ]
  },
  {
   "cell_type": "code",
   "execution_count": null,
   "metadata": {
    "pycharm": {
     "name": "#%%\n"
    }
   },
   "outputs": [],
   "source": [
    "# print(sp500_info_df.head())\n",
    "# print()\n",
    "# print('Nan Count: ', sp500_info_df['Market Cap'].isna().sum())\n",
    "# sp500_info_df[sp500_info_df['Market Cap'].isna()]"
   ]
  },
  {
   "cell_type": "code",
   "execution_count": null,
   "metadata": {
    "pycharm": {
     "name": "#%%\n"
    }
   },
   "outputs": [],
   "source": []
  },
  {
   "cell_type": "code",
   "execution_count": null,
   "metadata": {
    "pycharm": {
     "name": "#%%\n"
    }
   },
   "outputs": [],
   "source": [
    "# sp500_info_df['www1'] = sp500_info_df['Market Cap']\n",
    "# sp500_info_df['www2'] = sp500_info_df['Market Cap'].sum()\n",
    "# sp500_info_df['Change'] =  sp500_info_df['Market Cap']/sp500_info_df['Market Cap'].sum() * 100\n",
    "\n",
    "\n",
    "# sp500_info_df['www'].sum()"
   ]
  },
  {
   "cell_type": "code",
   "execution_count": null,
   "metadata": {
    "pycharm": {
     "name": "#%%\n"
    }
   },
   "outputs": [],
   "source": [
    "# sp500_info_df"
   ]
  },
  {
   "cell_type": "code",
   "execution_count": null,
   "metadata": {
    "pycharm": {
     "name": "#%%\n"
    }
   },
   "outputs": [],
   "source": [
    "# xxxx = sp500_info_df['Market Cap']*sp500_info_df['Market Cap'].sum()\n",
    "# xxxx\n"
   ]
  },
  {
   "cell_type": "markdown",
   "metadata": {
    "pycharm": {
     "name": "#%%\n"
    }
   },
   "source": []
  },
  {
   "cell_type": "code",
   "execution_count": null,
   "metadata": {
    "pycharm": {
     "name": "#%%\n"
    }
   },
   "outputs": [],
   "source": [
    "## Big todo: Do this for slick charts for weights"
   ]
  },
  {
   "cell_type": "markdown",
   "metadata": {},
   "source": [
    "# from src.util import SP500SymbolDataRequest\n",
    "\n",
    "# sp500_sdr = SP500SymbolDataRequest()\n",
    "# sp500_sdr.to_csv(project_dir + data_interim_dir + 'SP500_from_wiki.csv')"
   ]
  },
  {
   "cell_type": "code",
   "execution_count": null,
   "metadata": {},
   "outputs": [],
   "source": [
    "### Get S&P 500 Index (^GSPC) as a Bench Mark from Yahoo Finance with yahooquery's Ticker"
   ]
  },
  {
   "cell_type": "markdown",
   "metadata": {
    "pycharm": {
     "name": "#%%\n"
    }
   },
   "source": [
    "tickers = Ticker('^GSPC', asynchronous=True)\n",
    "yf_data = tickers.history(start=start_date, end=end_date)\n",
    "yf_data = yf_data.adjclose\n",
    "df = yf_data.reset_index(level='symbol')\n",
    "\n",
    "table = df.pivot(columns='symbol')\n",
    "\n",
    "table.columns = [col[1] for col in table.columns]\n",
    "sp500_index = table\n",
    "sp500_index"
   ]
  },
  {
   "cell_type": "code",
   "execution_count": null,
   "metadata": {
    "pycharm": {
     "name": "#%%\n"
    }
   },
   "outputs": [],
   "source": [
    "## Big todo: Do this for S&P Index Data"
   ]
  },
  {
   "cell_type": "code",
   "execution_count": null,
   "metadata": {},
   "outputs": [],
   "source": [
    "# from src.util import SP500SymbolDataRequest\n",
    "\n",
    "# sp500_sdr = SP500SymbolDataRequest()\n",
    "# sp500_sdr.to_csv(project_dir + data_interim_dir + 'SP500_from_wiki.csv')"
   ]
  },
  {
   "cell_type": "markdown",
   "metadata": {},
   "source": [
    "fig, ax1 = plt.subplots(1, figsize=(16, 8))\n",
    "  \n",
    "ax1.set_title(f\"S&P 500 Index (^GSPC)\", fontsize=s[1])\n",
    "ax1.set_ylabel(f\"Price\", fontsize=s[2])\n",
    "ax1.plot(sp500_index.index.values, sp500_index['^GSPC'], label='^GSPC', linewidth=w[1], color=c[0])\n",
    "ax1.legend(loc='upper left', title = 'Tickers')\n",
    "ax1.grid(alpha=ga)\n",
    "\n",
    "plt.xticks(fontsize=s[3])\n",
    "plt.yticks(fontsize=s[3])\n",
    "plt.show()\n"
   ]
  },
  {
   "cell_type": "code",
   "execution_count": null,
   "metadata": {},
   "outputs": [],
   "source": [
    "### Use S&P Symbols to Get Adj Close from Yahoo Finance"
   ]
  },
  {
   "cell_type": "code",
   "execution_count": null,
   "metadata": {},
   "outputs": [],
   "source": [
    "tickers = Ticker(sp500_tickers, asynchronous=True)"
   ]
  },
  {
   "cell_type": "code",
   "execution_count": null,
   "metadata": {},
   "outputs": [],
   "source": [
    "yf_data_history = tickers.history(start=start_date, end=end_date)"
   ]
  },
  {
   "cell_type": "code",
   "execution_count": null,
   "metadata": {},
   "outputs": [],
   "source": [
    "yf_data_price = tickers.price"
   ]
  },
  {
   "cell_type": "code",
   "execution_count": null,
   "metadata": {},
   "outputs": [],
   "source": [
    "good_tickers = []\n",
    "error_tickers = {}\n",
    "\n",
    "for k, v in yf_data_history.items():\n",
    "    if isinstance(v, pd.DataFrame):\n",
    "        adjclose = pd.DataFrame(v['adjclose'])\n",
    "        adjclose['ticker'] = k\n",
    "        adjclose.index.name = 'date'\n",
    "        adjclose_df = adjclose.pivot(columns='ticker')\n",
    "        adjclose_df.columns = [col[1] for col in adjclose_df.columns]\n",
    "        good_tickers.append(adjclose_df)\n",
    "\n",
    "    else:\n",
    "        error_tickers[k] = v\n",
    "    \n",
    "sp500_adjclose_df = pd.concat(good_tickers, axis=1)\n"
   ]
  },
  {
   "cell_type": "markdown",
   "metadata": {
    "pycharm": {
     "name": "#%%\n"
    }
   },
   "source": [
    "sp500_adjclose_df.head()\n"
   ]
  },
  {
   "cell_type": "code",
   "execution_count": null,
   "metadata": {
    "pycharm": {
     "name": "#%%\n"
    }
   },
   "outputs": [],
   "source": [
    "## Big todo: Do this for S&P Index Data"
   ]
  },
  {
   "cell_type": "markdown",
   "metadata": {},
   "source": [
    "# from src.util import SP500SymbolDataRequest\n",
    "\n",
    "# sp500_sdr = SP500SymbolDataRequest()\n",
    "# sp500_sdr.to_csv(project_dir + data_interim_dir + 'SP500_from_wiki.csv')"
   ]
  },
  {
   "cell_type": "code",
   "execution_count": null,
   "metadata": {
    "pycharm": {
     "name": "#%%\n"
    }
   },
   "outputs": [],
   "source": [
    "## Data Cleaning\n",
    "The S&P 500 data from yahoo finance adj close price is almost clean and ready for analysis use. we need to remove tickers that IPO or die mid year, dropping unusable Nan values between specified dates."
   ]
  },
  {
   "cell_type": "code",
   "execution_count": null,
   "metadata": {
    "pycharm": {
     "name": "#%%\n"
    }
   },
   "outputs": [],
   "source": [
    "# for k, v in error_tickers.items():\n",
    "#     print(k, '\\t', v)\n",
    "error_tickers_list = list(error_tickers.keys())\n",
    "print(error_tickers_list)\n",
    "len(error_tickers_list)"
   ]
  },
  {
   "cell_type": "markdown",
   "metadata": {},
   "source": [
    "\n",
    "print(start_date, ' through ', end_date ,\n",
    "      '\\n------------------------------------------------------------------------------\\n')\n",
    "for k, v in error_tickers.items():\n",
    "    print(k, '\\t', v)\n"
   ]
  },
  {
   "cell_type": "code",
   "execution_count": null,
   "metadata": {
    "pycharm": {
     "name": "#%%\n"
    }
   },
   "outputs": [],
   "source": [
    "#### Check for Nan values"
   ]
  },
  {
   "cell_type": "markdown",
   "metadata": {},
   "source": [
    "tickers_with_nan_values = sp500_adjclose_df.columns[sp500_adjclose_df.isna().any()].tolist()\n",
    "print(tickers_with_nan_values)\n"
   ]
  },
  {
   "cell_type": "code",
   "execution_count": null,
   "metadata": {
    "pycharm": {
     "name": "#%%\n"
    }
   },
   "outputs": [],
   "source": [
    "#### Full list of usable tickers"
   ]
  },
  {
   "cell_type": "markdown",
   "metadata": {},
   "source": [
    "[error_tickers_list.append(x) for x in tickers_with_nan_values]\n",
    "print(error_tickers_list)\n",
    "len(error_tickers_list)\n",
    "sp500_adjclose_df = sp500_adjclose_df.drop(columns=tickers_with_nan_values)\n",
    "sp500_adjclose_df"
   ]
  },
  {
   "cell_type": "code",
   "execution_count": null,
   "metadata": {
    "pycharm": {
     "name": "#%%\n"
    }
   },
   "outputs": [],
   "source": [
    "#### Full list of usable tickers"
   ]
  },
  {
   "cell_type": "code",
   "execution_count": null,
   "metadata": {},
   "outputs": [],
   "source": [
    "sp500_wiki_df = sp500_wiki_df[~sp500_wiki_df.Symbol.isin(error_tickers_list)]\n",
    "print(sp500_wiki_df.Symbol)\n",
    "print(len(sp500_wiki_df))\n",
    "\n",
    "sp500_wiki_df = sp500_wiki_df.reset_index()\n",
    "\n",
    "print(sp500_wiki_df)"
   ]
  },
  {
   "cell_type": "markdown",
   "metadata": {},
   "source": [
    "sp500_df = sp500_adjclose_df.copy()"
   ]
  },
  {
   "cell_type": "code",
   "execution_count": null,
   "metadata": {},
   "outputs": [],
   "source": [
    "#### Visualize the adj close data"
   ]
  },
  {
   "cell_type": "code",
   "execution_count": null,
   "metadata": {
    "scrolled": false
   },
   "outputs": [],
   "source": [
    "sp500_sort_by_amax_columns = sp500_df.iloc[:,:].agg([np.min, np.max]).T.sort_values(['amax']).T.columns\n",
    "sp500_df = sp500_df[sp500_sort_by_amax_columns]\n",
    "sp500_df.head()"
   ]
  },
  {
   "cell_type": "code",
   "execution_count": null,
   "metadata": {},
   "outputs": [],
   "source": [
    "def _plot_adj_close(ax, df, df_cols, ticker, title=None, ylabel=None):\n",
    "    ax.set_title(title, fontsize=s[1])\n",
    "    ax.set_ylabel(ylabel, fontsize=s[2])\n",
    "    ax.plot(df.index.values, df.iloc[:,:100], linewidth=w[0], color=c[0], alpha=0.15)\n",
    "    ax.plot(df.index.values, df[ticker], label=ticker, linewidth=w[3], color=c[2])\n",
    "    \n",
    "    ax.legend(loc='upper left', title = 'Tickers')\n",
    "    ax.grid(alpha=ga)\n",
    "\n",
    "\n",
    "def plot_adj_close(ticker1, ticker2, ticker3, ticker4, ticker5):\n",
    "    \n",
    "    fig, (ax1, ax2, ax3, ax4, ax5) = plt.subplots(5, figsize=(20, 24))\n",
    "    \n",
    "    _plot_adj_close(ax1, sp500_df, sp500_df.loc[:,ticker1], ticker1,\n",
    "                   f\"S&P 500 Stocks ({ticker1})\",\n",
    "                   f\"Price\")\n",
    "    _plot_adj_close(ax2, sp500_df, sp500_df.loc[:,ticker2], ticker2,\n",
    "                   f\"S&P 500 Stocks ({ticker1})\",\n",
    "                   f\"Price\")\n",
    "    _plot_adj_close(ax3, sp500_df, sp500_df.loc[:,ticker3], ticker3,\n",
    "                   f\"S&P 500 Stocks ({ticker1})\",\n",
    "                   f\"Price\")\n",
    "    _plot_adj_close(ax4, sp500_df, sp500_df.loc[:,ticker4], ticker4,\n",
    "                   f\"S&P 500 Stocks ({ticker1})\",\n",
    "                   f\"Price\")\n",
    "    _plot_adj_close(ax5, sp500_df, sp500_df.loc[:,ticker5], ticker5,\n",
    "                   f\"S&P 500 Stocks ({ticker1})\",\n",
    "                   f\"Price\")\n",
    "    \n",
    "    plt.xticks(fontsize=s[3])\n",
    "    plt.yticks(fontsize=s[3])\n",
    "    plt.show()\n",
    "    return \n",
    "\n",
    "interact(plot_adj_close, \n",
    "         ticker1=sp500_df.iloc[:,:100], \n",
    "         ticker2=sp500_df.iloc[:,100:200], \n",
    "         ticker3=sp500_df.iloc[:,200:300], \n",
    "         ticker4=sp500_df.iloc[:,300:400], \n",
    "         ticker5=sp500_df.iloc[:,400:]\n",
    "        );\n",
    "\n"
   ]
  },
  {
   "cell_type": "code",
   "execution_count": null,
   "metadata": {},
   "outputs": [],
   "source": [
    "ALL = 'SELECT ALL'\n",
    "def unique_sorted_values_plus_ALL(array):\n",
    "    unique = array.unique().tolist()\n",
    "    unique.sort()\n",
    "    unique.insert(0, ALL)\n",
    "    return unique"
   ]
  },
  {
   "cell_type": "code",
   "execution_count": null,
   "metadata": {
    "scrolled": false
   },
   "outputs": [],
   "source": [
    "\n",
    "\n",
    "tickers = None"
   ]
  },
  {
   "cell_type": "code",
   "execution_count": null,
   "metadata": {
    "scrolled": false
   },
   "outputs": [],
   "source": [
    "\n",
    "def _plot_tickers(ax, df, background_tickers, focus_tickers, legend=True, title=None, ylabel=None):\n",
    "    ax.set_title(title, fontsize=s[1])\n",
    "    ax.set_ylabel(ylabel, fontsize=s[2])\n",
    " \n",
    "    for i in range(len(focus_tickers)):\n",
    "        ax.plot(df.index.values, df[focus_tickers[i]], label=focus_tickers[i], linewidth=w[3], color=c[2])\n",
    "    \n",
    "    if background_tickers is not None:  \n",
    "        for i in focus_tickers:\n",
    "            background_tickers.remove(i)\n",
    "            \n",
    "        if len(background_tickers) <= 10 and len(background_tickers) > 1:\n",
    "            for i in range(len(background_tickers)):\n",
    "                ax.plot(df.index.values, df[background_tickers[i]], label=background_tickers[i],  linewidth=w[3], color=c[0], alpha=0.75)\n",
    "        else:\n",
    "            ax.plot(df.index.values, df[background_tickers], linewidth=w[3], color=c[0], alpha=0.75)\n",
    "    \n",
    "    if legend:\n",
    "        ax.legend(bbox_to_anchor=(1.05, 1), loc='upper left', borderaxespad=0., title='Tickers', ncol=2)\n",
    "    ax.grid(alpha=ga)\n",
    "\n",
    "\n",
    "def plot_ticker_list(sector, sub_sector, ticker):\n",
    "\n",
    "    background_tickers = None\n",
    "    legend = True   \n",
    "    if sector == 'SELECT ALL':\n",
    "        legend = False\n",
    "    else:\n",
    "        if ticker != 'SELECT ALL' :\n",
    "            if sub_sector == 'SELECT ALL' : \n",
    "                background_tickers = unique_sorted_values_plus_ALL(sp500_wiki_df[sp500_wiki_df[\"GICS Sector\"] == sector]['Symbol'])\n",
    "                background_tickers.remove('SELECT ALL')   \n",
    "            elif sub_sector != 'SELECT ALL' : \n",
    "                background_tickers = unique_sorted_values_plus_ALL(sp500_wiki_df[sp500_wiki_df[\"GICS Sub-Industry\"] == sub_sector]['Symbol'])\n",
    "                background_tickers.remove('SELECT ALL')              \n",
    "              \n",
    "    fig, (ax1) = plt.subplots(1, figsize=(20, 10))\n",
    "    \n",
    "    _plot_tickers(ax1, sp500_df, background_tickers, tickers, legend=legend, \n",
    "                  title=f\"S&P 500 Stocks\\nSector: {sector} \\n Sub Industry: {sub_sector} \\n Tickers: {ticker}\",\n",
    "                    ylabel=f\"Price\")\n",
    "    plt.xticks(fontsize=s[3])\n",
    "    plt.yticks(fontsize=s[3])\n",
    "    plt.show()\n",
    "\n",
    "    \n",
    "    \n",
    "def select_ticker_list(ticker):\n",
    "\n",
    "    global tickers\n",
    "    \n",
    "    if ticker != 'SELECT ALL':        \n",
    "        tickers = [dropdown_ticker.value]\n",
    "    else:\n",
    "        if dropdown_sector.value != 'SELECT ALL':\n",
    "            if dropdown_sub_sector.value == 'SELECT ALL':\n",
    "                tickers = unique_sorted_values_plus_ALL(sp500_wiki_df[sp500_wiki_df[\"GICS Sector\"] == dropdown_sector.value]['Symbol'])\n",
    "                tickers.remove('SELECT ALL')\n",
    "            elif dropdown_sub_sector.value != 'SELECT ALLf':\n",
    "                tickers = unique_sorted_values_plus_ALL(sp500_wiki_df[sp500_wiki_df[\"GICS Sub-Industry\"] == dropdown_sub_sector.value]['Symbol'])\n",
    "                tickers.remove('SELECT ALL')\n",
    "        else:\n",
    "            tickers = unique_sorted_values_plus_ALL(sp500_wiki_df['Symbol'])\n",
    "            tickers.remove('SELECT ALL')\n",
    "    return tickers\n",
    "\n",
    "\n",
    "def get_ticker(sub_sector):\n",
    "    global tickers\n",
    "\n",
    "    if sub_sector != 'SELECT ALL':\n",
    "        dropdown_ticker.options = unique_sorted_values_plus_ALL(\n",
    "            sp500_wiki_df[sp500_wiki_df[\"GICS Sub-Industry\"] == dropdown_sub_sector.value]['Symbol']\n",
    "        )\n",
    "        tickers = unique_sorted_values_plus_ALL(sp500_wiki_df[sp500_wiki_df[\"GICS Sub-Industry\"] == dropdown_sub_sector.value]['Symbol'])\n",
    "    else:\n",
    "        dropdown_ticker.options = unique_sorted_values_plus_ALL(\n",
    "            sp500_wiki_df[sp500_wiki_df[\"GICS Sector\"] == dropdown_sector.value]['Symbol']\n",
    "        )\n",
    "        tickers = unique_sorted_values_plus_ALL(sp500_wiki_df[sp500_wiki_df[\"GICS Sector\"] == dropdown_sector.value]['Symbol'])\n",
    "    tickers.remove('SELECT ALL')\n",
    "\n",
    "\n",
    "def get_sub_sector(sector):   \n",
    "    global tickers\n",
    "\n",
    "    dropdown_sub_sector.options = unique_sorted_values_plus_ALL(\n",
    "        sp500_wiki_df[sp500_wiki_df[\"GICS Sector\"] == dropdown_sector.value]['GICS Sub-Industry']\n",
    "    )\n",
    "    get_ticker(dropdown_sub_sector.value)\n",
    "    if  dropdown_sector.value != 'SELECT ALL':\n",
    "        tickers = unique_sorted_values_plus_ALL(sp500_wiki_df[sp500_wiki_df[\"GICS Sector\"] == dropdown_sector.value]['Symbol'])\n",
    "    else:\n",
    "        tickers = unique_sorted_values_plus_ALL(sp500_wiki_df['Symbol'])\n",
    "    tickers.remove('SELECT ALL')\n",
    "\n",
    "\n",
    "dropdown_sector = widgets.Dropdown(\n",
    "    options=unique_sorted_values_plus_ALL(sp500_wiki_df['GICS Sector']),\n",
    "        description='GICS Sector:'\n",
    ")\n",
    "\n",
    "dropdown_sub_sector = widgets.Dropdown(\n",
    "    options=unique_sorted_values_plus_ALL(sp500_wiki_df[sp500_wiki_df[\"GICS Sector\"] == dropdown_sector.value]['GICS Sub-Industry']),\n",
    "    description='Sub Sector:'\n",
    ")\n",
    "\n",
    "dropdown_ticker = widgets.Dropdown(\n",
    "    options=unique_sorted_values_plus_ALL(sp500_wiki_df[sp500_wiki_df[\"GICS Sector\"] == dropdown_sector.value]['Symbol']),\n",
    "    description='Ticker:'\n",
    ")\n",
    "\n",
    "btn_plot = widgets.Button(description='Plot')\n",
    "\n",
    "\n",
    "i = widgets.interactive(get_sub_sector, sector=dropdown_sector)\n",
    "j = widgets.interactive(get_ticker, sub_sector=dropdown_sub_sector)\n",
    "k = widgets.interactive(select_ticker_list, ticker=dropdown_ticker)\n",
    "\n",
    "output_ticker = widgets.Output()\n",
    "\n",
    "def btn_plot_eventhandler(obj):\n",
    "    output_ticker.clear_output()\n",
    "    with output_ticker:\n",
    "        plot_ticker_list(dropdown_sector.value, dropdown_sub_sector.value, dropdown_ticker.value)\n",
    "\n",
    "\n",
    "display(i)\n",
    "display(j)\n",
    "display(k)\n",
    "\n",
    "display(btn_plot)\n",
    "\n",
    "btn_plot.on_click(btn_plot_eventhandler)\n",
    "\n",
    "tickers = unique_sorted_values_plus_ALL(sp500_wiki_df['Symbol'])\n",
    "tickers.remove('SELECT ALL')\n",
    "\n"
   ]
  },
  {
   "cell_type": "markdown",
   "metadata": {},
   "source": [
    "## Data Definition"
   ]
  },
  {
   "cell_type": "markdown",
   "metadata": {
    "pycharm": {
     "name": "#%% md\n"
    }
   },
   "source": [
    "Descriptions of columns values avalible on yahoo finance, might be used later but for now only Adj. Close will be used. \n",
    "\n",
    "| # | Column | Description |\n",
    "| --- | --- | --- |\n",
    "| 0  | Open        | The price at which a stock trades when an exchange opening of the regular trading day. |\n",
    "| 1  | High        | The highest price at which a stock traded during the course of the regular trading day. |\n",
    "| 2  | Low         | The lowest price at which a stock traded during the course of the  regular trading day. |\n",
    "| 3  | Close       | The last price at which the stock traded during the regular trading day. |\n",
    "| 4  | Volume      | The number of shares of a stock traded during a given period of time. |\n",
    "| 5  | Ex-Dividend | The ex-dividend date of a stock is the day on which the stock begins trading without the subsequent dividend value.\n",
    " |\n",
    "| 6  | Split Ratio | A corporate action in which a company divides its existing shares into multiple shares to boost the liquidity of the shares. |\n",
    "| 7  | Adj. Open   | A stock's opening price to reflect that stock's value after accounting for any corporate actions. |\n",
    "| 8  | Adj. High   | A stock's high price during the course of the  regular trading day that reflect that stock's value after accounting for any corporate actions. |\n",
    "| 9  | Adj. Low    | A stock's low price during the course of the  regular trading day that reflect that stock's value after accounting for any corporate actions. |\n",
    "| 10 | Adj. Close  | A stock's closing price to reflect that stock's value after accounting for any corporate actions. |\n",
    "| 11 | Adj. Volume | The number of shares of a stock traded during a given period of time after accounting for any corporate actions. |"
   ]
  },
  {
   "cell_type": "code",
   "execution_count": null,
   "metadata": {
    "pycharm": {
     "name": "#%%\n"
    }
   },
   "outputs": [],
   "source": [
    "sp500_df.info()"
   ]
  },
  {
   "cell_type": "code",
   "execution_count": null,
   "metadata": {},
   "outputs": [],
   "source": [
    "sp500_index.info()"
   ]
  },
  {
   "cell_type": "code",
   "execution_count": null,
   "metadata": {},
   "outputs": [],
   "source": [
    "sp500_wiki_df.info()"
   ]
  },
  {
   "cell_type": "markdown",
   "metadata": {},
   "source": [
    "Now lets look at price range. We can see how high and low a stock might be with the given start/end date window within the S&P 500."
   ]
  },
  {
   "cell_type": "code",
   "execution_count": null,
   "metadata": {
    "pycharm": {
     "name": "#%%\n"
    }
   },
   "outputs": [],
   "source": [
    "sp500_df.iloc[:,:].agg([np.min, np.max]).T.sort_values(['amax'])"
   ]
  },
  {
   "cell_type": "code",
   "execution_count": null,
   "metadata": {},
   "outputs": [],
   "source": [
    "sp500_df.describe().T"
   ]
  },
  {
   "cell_type": "code",
   "execution_count": null,
   "metadata": {},
   "outputs": [],
   "source": [
    "sp500_df.index.name = 'Date'\n",
    "sp500_df"
   ]
  },
  {
   "cell_type": "markdown",
   "metadata": {
    "pycharm": {
     "name": "#%% md\n"
    }
   },
   "source": [
    "## Export SP500 data to a new csv file\n",
    "In order to bring the changes you made here into the next notebook, write out the updated data frame to a new csv file.\n",
    "\n",
    "Export the processed dataframe as a csv file to the data folder created earlier. Name this new csv file `data_wrangle_sp500_df_output.csv`.\n"
   ]
  },
  {
   "cell_type": "code",
   "execution_count": null,
   "metadata": {
    "pycharm": {
     "name": "#%%\n"
    },
    "scrolled": true
   },
   "outputs": [],
   "source": [
    "sp500_df.to_csv(project_dir + '/data/interim/'+ 'data_wrangle_sp500_df_output.csv', index=True)\n",
    "sp500_index.to_csv(project_dir + '/data/interim/'+ 'data_wrangle_sp500_index_df_output.csv', index=True)\n",
    "sp500_wiki_df.to_csv(project_dir + '/data/interim/'+ 'data_wrangle_sp500_wiki_data_df_output.csv', index=True)\n",
    "sp500_slick_df.to_csv(project_dir + '/data/interim/'+ 'data_wrangle_sp500_slick_data_df_output.csv', index=True)\n",
    "\n"
   ]
  },
  {
   "cell_type": "code",
   "execution_count": null,
   "metadata": {},
   "outputs": [],
   "source": []
  },
  {
   "cell_type": "code",
   "execution_count": null,
   "metadata": {},
   "outputs": [],
   "source": []
  },
  {
   "cell_type": "code",
   "execution_count": null,
   "metadata": {},
   "outputs": [],
   "source": [
    "\n"
   ]
  },
  {
   "cell_type": "code",
   "execution_count": null,
   "metadata": {},
   "outputs": [],
   "source": [
    "sp500_slick_df"
   ]
  },
  {
   "cell_type": "code",
   "execution_count": null,
   "metadata": {},
   "outputs": [],
   "source": []
  }
 ],
 "metadata": {
  "kernelspec": {
   "display_name": "port-opt-py38",
   "language": "python",
   "name": "port-opt-py38"
  },
  "language_info": {
   "codemirror_mode": {
    "name": "ipython",
    "version": 3
   },
   "file_extension": ".py",
   "mimetype": "text/x-python",
   "name": "python",
   "nbconvert_exporter": "python",
   "pygments_lexer": "ipython3",
   "version": "3.8.0"
  }
 },
 "nbformat": 4,
 "nbformat_minor": 4
}