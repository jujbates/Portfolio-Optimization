{
 "cells": [
  {
   "cell_type": "markdown",
   "metadata": {},
   "source": [
    "**The Data Science Method**\n",
    "\n",
    "\n",
    "1.   [Problem Identification](https://medium.com/@aiden.dataminer/the-data-science-method-problem-identification-6ffcda1e5152)\n",
    "\n",
    "2.   [Data Wrangling](https://medium.com/@aiden.dataminer/the-data-science-method-dsm-data-collection-organization-and-definitions-d19b6ff141c4)\n",
    "  * Data Collection - Collected data from wikipedia and quandl wiki price dataset. The wikipedia showed us the currect S&P 500 companies and used their ticker symbols to query quandl wiki prices.\n",
    "  * Data Organization - Done using cookiecutter\n",
    "  * Data Definition\n",
    "  * Data Cleaning - The S&P 500 data from quandls wiki price is clean and ready for analysis use but has lost its support from Quandl community as of April 11, 2018. So we will use this dataset to setup the protfolio optimizer with proof of concept then use a different data source later for cost efficiencies.\n",
    "\n",
    "3.   [**Exploratory Data Analysis**](https://medium.com/@aiden.dataminer/the-data-science-method-dsm-exploratory-data-analysis-bc84d4d8d3f9)\n",
    " * Build data profile tables and plots\n",
    "        - Outliers & Anomalies\n",
    " * Explore data relationships\n",
    " * Identification and creation of features\n",
    "\n",
    "4.   [Pre-processing and Training Data Development](https://medium.com/@aiden.dataminer/the-data-science-method-dsm-pre-processing-and-training-data-development-fd2d75182967)\n",
    "  * Create dummy or indicator features for categorical variables\n",
    "  * Standardize the magnitude of numeric features\n",
    "  * Split into testing and training datasets\n",
    "  * Apply scaler to the testing set\n",
    "5.   [Modeling](https://medium.com/@aiden.dataminer/the-data-science-method-dsm-modeling-56b4233cad1b)\n",
    "  * Create dummy or indicator features for categorical variable\n",
    "  * Fit Models with Training Data Set\n",
    "  * Review Model Outcomes — Iterate over additional models as needed.\n",
    "  * Identify the Final Model\n",
    "\n",
    "6.   [Documentation](https://medium.com/@aiden.dataminer/the-data-science-method-dsm-documentation-c92c28bd45e6)\n",
    "\n",
    "  * Review the Results\n",
    "  * Present and share your findings - storytelling\n",
    "  * Finalize Code\n",
    "  * Finalize Documentation\n"
   ]
  },
  {
   "cell_type": "markdown",
   "metadata": {},
   "source": [
    "First, loads the needed packages and modules into Python. Then loads the data into a pandas dataframe for ease of use."
   ]
  },
  {
   "cell_type": "code",
   "execution_count": 14,
   "metadata": {
    "pycharm": {
     "name": "#%%\n"
    }
   },
   "outputs": [],
   "source": [
    "#load python packages\n",
    "import os\n",
    "import pandas as pd\n",
    "import datetime\n",
    "import seaborn as sns\n",
    "import matplotlib.pyplot as plt\n",
    "import numpy as np\n",
    "from scipy.stats import norm\n",
    "\n",
    "\n",
    "\n",
    "import ipywidgets as widgets\n",
    "%matplotlib inline\n",
    "\n"
   ]
  },
  {
   "cell_type": "code",
   "execution_count": 15,
   "metadata": {
    "pycharm": {
     "name": "#%%\n"
    }
   },
   "outputs": [
    {
     "name": "stdout",
     "output_type": "stream",
     "text": [
      "Current Directory: \n",
      "/Users/jb/Development/courses/springboard/ds/Assignments/Portfolio-Optimization/portopt/notebooks/exploratory\n"
     ]
    }
   ],
   "source": [
    "# prints current directory\n",
    "current_dir = os.getcwd()\n",
    "print(\"Current Directory: \")\n",
    "print(current_dir)"
   ]
  },
  {
   "cell_type": "code",
   "execution_count": 16,
   "metadata": {
    "pycharm": {
     "name": "#%%\n"
    }
   },
   "outputs": [
    {
     "name": "stdout",
     "output_type": "stream",
     "text": [
      "Parent Directory: \n",
      "/Users/jb/Development/courses/springboard/ds/Assignments/Portfolio-Optimization/portopt\n"
     ]
    }
   ],
   "source": [
    "# prints parent directory\n",
    "project_dir = os.path.abspath(os.path.join(os.path.join(current_dir, os.pardir), os.pardir))\n",
    "print(\"Parent Directory: \")\n",
    "print(project_dir)"
   ]
  },
  {
   "cell_type": "code",
   "execution_count": 17,
   "metadata": {
    "pycharm": {
     "name": "#%%\n"
    }
   },
   "outputs": [
    {
     "name": "stdout",
     "output_type": "stream",
     "text": [
      "['3.0-jujbates-S&P500-PO_eda.ipynb', '.DS_Store', '.ipynb_checkpoints', '2.0-jujbates-S&P500-PO_data_wrangling.ipynb']\n"
     ]
    }
   ],
   "source": [
    "print(os.listdir())"
   ]
  },
  {
   "cell_type": "code",
   "execution_count": 18,
   "metadata": {},
   "outputs": [],
   "source": [
    "plt.style.use('dark_background')\n",
    "c = ['white', 'springgreen', 'fuchsia', 'lightcoral', 'red'] # Color\n",
    "s = [24, 20, 16, 12]  # Size\n",
    "w = [0.75, 1, 1.25, 1.50] # Line Width\n",
    "ga = 0.10 # Grid Alpha"
   ]
  },
  {
   "cell_type": "code",
   "execution_count": 40,
   "metadata": {
    "pycharm": {
     "name": "#%%\n"
    }
   },
   "outputs": [],
   "source": [
    "\n",
    "wiki_df = pd.read_csv(project_dir + '/data/interim/'+ 'wiki_sp500_interim.csv', index_col=['Symbol'])\n",
    "slick_df = pd.read_csv(project_dir + '/data/interim/'+ 'slick_sp500_interim.csv', index_col=['#'])\n",
    "sp500_adj_close_df = pd.read_csv(project_dir + '/data/interim/'+ 'yahoo_sp500_adj_close_interim.csv', index_col=['date'])\n",
    "sp500_df = pd.read_csv(project_dir + '/data/interim/'+ 'yahoo_sp500_shares_outstanding_interim.csv', index_col=['symbol'])\n",
    "sp500_index_adj_close_df = pd.read_csv(project_dir + '/data/interim/'+ 'yahoo_sp500_index_adj_close_interim.csv', index_col=['date'])\n",
    "\n"
   ]
  },
  {
   "cell_type": "code",
   "execution_count": 41,
   "metadata": {},
   "outputs": [
    {
     "data": {
      "text/html": [
       "<div>\n",
       "<style scoped>\n",
       "    .dataframe tbody tr th:only-of-type {\n",
       "        vertical-align: middle;\n",
       "    }\n",
       "\n",
       "    .dataframe tbody tr th {\n",
       "        vertical-align: top;\n",
       "    }\n",
       "\n",
       "    .dataframe thead th {\n",
       "        text-align: right;\n",
       "    }\n",
       "</style>\n",
       "<table border=\"1\" class=\"dataframe\">\n",
       "  <thead>\n",
       "    <tr style=\"text-align: right;\">\n",
       "      <th></th>\n",
       "      <th>Security</th>\n",
       "      <th>SEC filings</th>\n",
       "      <th>GICS Sector</th>\n",
       "      <th>GICS Sub-Industry</th>\n",
       "      <th>Headquarters Location</th>\n",
       "      <th>Date first added</th>\n",
       "      <th>CIK</th>\n",
       "      <th>Founded</th>\n",
       "    </tr>\n",
       "    <tr>\n",
       "      <th>Symbol</th>\n",
       "      <th></th>\n",
       "      <th></th>\n",
       "      <th></th>\n",
       "      <th></th>\n",
       "      <th></th>\n",
       "      <th></th>\n",
       "      <th></th>\n",
       "      <th></th>\n",
       "    </tr>\n",
       "  </thead>\n",
       "  <tbody>\n",
       "    <tr>\n",
       "      <th>MMM</th>\n",
       "      <td>3M Company</td>\n",
       "      <td>reports</td>\n",
       "      <td>Industrials</td>\n",
       "      <td>Industrial Conglomerates</td>\n",
       "      <td>St. Paul, Minnesota</td>\n",
       "      <td>1976-08-09</td>\n",
       "      <td>66740</td>\n",
       "      <td>1902</td>\n",
       "    </tr>\n",
       "    <tr>\n",
       "      <th>ABT</th>\n",
       "      <td>Abbott Laboratories</td>\n",
       "      <td>reports</td>\n",
       "      <td>Health Care</td>\n",
       "      <td>Health Care Equipment</td>\n",
       "      <td>North Chicago, Illinois</td>\n",
       "      <td>1964-03-31</td>\n",
       "      <td>1800</td>\n",
       "      <td>1888</td>\n",
       "    </tr>\n",
       "    <tr>\n",
       "      <th>ABBV</th>\n",
       "      <td>AbbVie Inc.</td>\n",
       "      <td>reports</td>\n",
       "      <td>Health Care</td>\n",
       "      <td>Pharmaceuticals</td>\n",
       "      <td>North Chicago, Illinois</td>\n",
       "      <td>2012-12-31</td>\n",
       "      <td>1551152</td>\n",
       "      <td>2013 (1888)</td>\n",
       "    </tr>\n",
       "    <tr>\n",
       "      <th>ABMD</th>\n",
       "      <td>ABIOMED Inc</td>\n",
       "      <td>reports</td>\n",
       "      <td>Health Care</td>\n",
       "      <td>Health Care Equipment</td>\n",
       "      <td>Danvers, Massachusetts</td>\n",
       "      <td>2018-05-31</td>\n",
       "      <td>815094</td>\n",
       "      <td>1981</td>\n",
       "    </tr>\n",
       "    <tr>\n",
       "      <th>ACN</th>\n",
       "      <td>Accenture plc</td>\n",
       "      <td>reports</td>\n",
       "      <td>Information Technology</td>\n",
       "      <td>IT Consulting &amp; Other Services</td>\n",
       "      <td>Dublin, Ireland</td>\n",
       "      <td>2011-07-06</td>\n",
       "      <td>1467373</td>\n",
       "      <td>1989</td>\n",
       "    </tr>\n",
       "  </tbody>\n",
       "</table>\n",
       "</div>"
      ],
      "text/plain": [
       "                   Security SEC filings             GICS Sector  \\\n",
       "Symbol                                                            \n",
       "MMM              3M Company     reports             Industrials   \n",
       "ABT     Abbott Laboratories     reports             Health Care   \n",
       "ABBV            AbbVie Inc.     reports             Health Care   \n",
       "ABMD            ABIOMED Inc     reports             Health Care   \n",
       "ACN           Accenture plc     reports  Information Technology   \n",
       "\n",
       "                     GICS Sub-Industry    Headquarters Location  \\\n",
       "Symbol                                                            \n",
       "MMM           Industrial Conglomerates      St. Paul, Minnesota   \n",
       "ABT              Health Care Equipment  North Chicago, Illinois   \n",
       "ABBV                   Pharmaceuticals  North Chicago, Illinois   \n",
       "ABMD             Health Care Equipment   Danvers, Massachusetts   \n",
       "ACN     IT Consulting & Other Services          Dublin, Ireland   \n",
       "\n",
       "       Date first added      CIK      Founded  \n",
       "Symbol                                         \n",
       "MMM          1976-08-09    66740         1902  \n",
       "ABT          1964-03-31     1800         1888  \n",
       "ABBV         2012-12-31  1551152  2013 (1888)  \n",
       "ABMD         2018-05-31   815094         1981  \n",
       "ACN          2011-07-06  1467373         1989  "
      ]
     },
     "execution_count": 41,
     "metadata": {},
     "output_type": "execute_result"
    }
   ],
   "source": [
    "wiki_df.head()"
   ]
  },
  {
   "cell_type": "code",
   "execution_count": 42,
   "metadata": {},
   "outputs": [
    {
     "name": "stdout",
     "output_type": "stream",
     "text": [
      "<class 'pandas.core.frame.DataFrame'>\n",
      "Index: 505 entries, MMM to ZTS\n",
      "Data columns (total 8 columns):\n",
      " #   Column                 Non-Null Count  Dtype \n",
      "---  ------                 --------------  ----- \n",
      " 0   Security               505 non-null    object\n",
      " 1   SEC filings            505 non-null    object\n",
      " 2   GICS Sector            505 non-null    object\n",
      " 3   GICS Sub-Industry      505 non-null    object\n",
      " 4   Headquarters Location  505 non-null    object\n",
      " 5   Date first added       450 non-null    object\n",
      " 6   CIK                    505 non-null    int64 \n",
      " 7   Founded                496 non-null    object\n",
      "dtypes: int64(1), object(7)\n",
      "memory usage: 35.5+ KB\n"
     ]
    }
   ],
   "source": [
    "wiki_df.info()"
   ]
  },
  {
   "cell_type": "code",
   "execution_count": 43,
   "metadata": {},
   "outputs": [
    {
     "data": {
      "text/html": [
       "<div>\n",
       "<style scoped>\n",
       "    .dataframe tbody tr th:only-of-type {\n",
       "        vertical-align: middle;\n",
       "    }\n",
       "\n",
       "    .dataframe tbody tr th {\n",
       "        vertical-align: top;\n",
       "    }\n",
       "\n",
       "    .dataframe thead th {\n",
       "        text-align: right;\n",
       "    }\n",
       "</style>\n",
       "<table border=\"1\" class=\"dataframe\">\n",
       "  <thead>\n",
       "    <tr style=\"text-align: right;\">\n",
       "      <th></th>\n",
       "      <th>Company</th>\n",
       "      <th>Symbol</th>\n",
       "      <th>Weight</th>\n",
       "      <th>Price</th>\n",
       "      <th>Chg</th>\n",
       "      <th>% Chg</th>\n",
       "    </tr>\n",
       "    <tr>\n",
       "      <th>#</th>\n",
       "      <th></th>\n",
       "      <th></th>\n",
       "      <th></th>\n",
       "      <th></th>\n",
       "      <th></th>\n",
       "      <th></th>\n",
       "    </tr>\n",
       "  </thead>\n",
       "  <tbody>\n",
       "    <tr>\n",
       "      <th>1</th>\n",
       "      <td>Apple Inc.</td>\n",
       "      <td>AAPL</td>\n",
       "      <td>6.499271</td>\n",
       "      <td>114.48</td>\n",
       "      <td>-1.27</td>\n",
       "      <td>(-1.10%)</td>\n",
       "    </tr>\n",
       "    <tr>\n",
       "      <th>2</th>\n",
       "      <td>Microsoft Corporation</td>\n",
       "      <td>MSFT</td>\n",
       "      <td>5.679779</td>\n",
       "      <td>215.67</td>\n",
       "      <td>0.78</td>\n",
       "      <td>(0.36%)</td>\n",
       "    </tr>\n",
       "    <tr>\n",
       "      <th>3</th>\n",
       "      <td>Amazon.com Inc.</td>\n",
       "      <td>AMZN</td>\n",
       "      <td>4.723456</td>\n",
       "      <td>3178.26</td>\n",
       "      <td>1.86</td>\n",
       "      <td>(0.06%)</td>\n",
       "    </tr>\n",
       "    <tr>\n",
       "      <th>4</th>\n",
       "      <td>Facebook Inc. Class A</td>\n",
       "      <td>FB</td>\n",
       "      <td>2.335458</td>\n",
       "      <td>282.94</td>\n",
       "      <td>4.82</td>\n",
       "      <td>(1.73%)</td>\n",
       "    </tr>\n",
       "    <tr>\n",
       "      <th>5</th>\n",
       "      <td>Alphabet Inc. Class A</td>\n",
       "      <td>GOOGL</td>\n",
       "      <td>1.686059</td>\n",
       "      <td>1622.11</td>\n",
       "      <td>15.45</td>\n",
       "      <td>(0.96%)</td>\n",
       "    </tr>\n",
       "  </tbody>\n",
       "</table>\n",
       "</div>"
      ],
      "text/plain": [
       "                 Company Symbol    Weight    Price    Chg     % Chg\n",
       "#                                                                  \n",
       "1             Apple Inc.   AAPL  6.499271   114.48  -1.27  (-1.10%)\n",
       "2  Microsoft Corporation   MSFT  5.679779   215.67   0.78   (0.36%)\n",
       "3        Amazon.com Inc.   AMZN  4.723456  3178.26   1.86   (0.06%)\n",
       "4  Facebook Inc. Class A     FB  2.335458   282.94   4.82   (1.73%)\n",
       "5  Alphabet Inc. Class A  GOOGL  1.686059  1622.11  15.45   (0.96%)"
      ]
     },
     "execution_count": 43,
     "metadata": {},
     "output_type": "execute_result"
    }
   ],
   "source": [
    "slick_df.head()\n"
   ]
  },
  {
   "cell_type": "code",
   "execution_count": 44,
   "metadata": {},
   "outputs": [
    {
     "name": "stdout",
     "output_type": "stream",
     "text": [
      "<class 'pandas.core.frame.DataFrame'>\n",
      "Int64Index: 505 entries, 1 to 505\n",
      "Data columns (total 6 columns):\n",
      " #   Column   Non-Null Count  Dtype  \n",
      "---  ------   --------------  -----  \n",
      " 0   Company  505 non-null    object \n",
      " 1   Symbol   505 non-null    object \n",
      " 2   Weight   505 non-null    float64\n",
      " 3   Price    505 non-null    float64\n",
      " 4   Chg      505 non-null    float64\n",
      " 5   % Chg    505 non-null    object \n",
      "dtypes: float64(3), object(3)\n",
      "memory usage: 27.6+ KB\n"
     ]
    }
   ],
   "source": [
    "slick_df.info()"
   ]
  },
  {
   "cell_type": "code",
   "execution_count": 45,
   "metadata": {},
   "outputs": [
    {
     "data": {
      "text/html": [
       "<div>\n",
       "<style scoped>\n",
       "    .dataframe tbody tr th:only-of-type {\n",
       "        vertical-align: middle;\n",
       "    }\n",
       "\n",
       "    .dataframe tbody tr th {\n",
       "        vertical-align: top;\n",
       "    }\n",
       "\n",
       "    .dataframe thead th {\n",
       "        text-align: right;\n",
       "    }\n",
       "</style>\n",
       "<table border=\"1\" class=\"dataframe\">\n",
       "  <thead>\n",
       "    <tr style=\"text-align: right;\">\n",
       "      <th></th>\n",
       "      <th>MMM</th>\n",
       "      <th>ABT</th>\n",
       "      <th>ABBV</th>\n",
       "      <th>ABMD</th>\n",
       "      <th>ACN</th>\n",
       "      <th>ATVI</th>\n",
       "      <th>ADBE</th>\n",
       "      <th>AMD</th>\n",
       "      <th>AAP</th>\n",
       "      <th>AES</th>\n",
       "      <th>...</th>\n",
       "      <th>WYNN</th>\n",
       "      <th>XEL</th>\n",
       "      <th>XRX</th>\n",
       "      <th>XLNX</th>\n",
       "      <th>XYL</th>\n",
       "      <th>YUM</th>\n",
       "      <th>ZBRA</th>\n",
       "      <th>ZBH</th>\n",
       "      <th>ZION</th>\n",
       "      <th>ZTS</th>\n",
       "    </tr>\n",
       "    <tr>\n",
       "      <th>date</th>\n",
       "      <th></th>\n",
       "      <th></th>\n",
       "      <th></th>\n",
       "      <th></th>\n",
       "      <th></th>\n",
       "      <th></th>\n",
       "      <th></th>\n",
       "      <th></th>\n",
       "      <th></th>\n",
       "      <th></th>\n",
       "      <th></th>\n",
       "      <th></th>\n",
       "      <th></th>\n",
       "      <th></th>\n",
       "      <th></th>\n",
       "      <th></th>\n",
       "      <th></th>\n",
       "      <th></th>\n",
       "      <th></th>\n",
       "      <th></th>\n",
       "      <th></th>\n",
       "    </tr>\n",
       "  </thead>\n",
       "  <tbody>\n",
       "    <tr>\n",
       "      <th>2019-01-02</th>\n",
       "      <td>179.635086</td>\n",
       "      <td>67.305016</td>\n",
       "      <td>78.864014</td>\n",
       "      <td>309.959991</td>\n",
       "      <td>136.644974</td>\n",
       "      <td>46.350380</td>\n",
       "      <td>224.570007</td>\n",
       "      <td>18.830000</td>\n",
       "      <td>156.437698</td>\n",
       "      <td>13.369433</td>\n",
       "      <td>...</td>\n",
       "      <td>100.250526</td>\n",
       "      <td>46.041862</td>\n",
       "      <td>18.711531</td>\n",
       "      <td>84.600266</td>\n",
       "      <td>65.003914</td>\n",
       "      <td>88.636864</td>\n",
       "      <td>156.240005</td>\n",
       "      <td>100.891823</td>\n",
       "      <td>39.315971</td>\n",
       "      <td>83.466866</td>\n",
       "    </tr>\n",
       "    <tr>\n",
       "      <th>2019-01-03</th>\n",
       "      <td>172.871124</td>\n",
       "      <td>64.128601</td>\n",
       "      <td>76.265549</td>\n",
       "      <td>302.290009</td>\n",
       "      <td>131.979675</td>\n",
       "      <td>44.704514</td>\n",
       "      <td>215.699997</td>\n",
       "      <td>17.049999</td>\n",
       "      <td>161.321426</td>\n",
       "      <td>13.360003</td>\n",
       "      <td>...</td>\n",
       "      <td>99.280663</td>\n",
       "      <td>45.860447</td>\n",
       "      <td>18.302540</td>\n",
       "      <td>81.414970</td>\n",
       "      <td>62.775536</td>\n",
       "      <td>86.407372</td>\n",
       "      <td>146.880005</td>\n",
       "      <td>99.066940</td>\n",
       "      <td>39.098495</td>\n",
       "      <td>80.581871</td>\n",
       "    </tr>\n",
       "    <tr>\n",
       "      <th>2019-01-04</th>\n",
       "      <td>179.983185</td>\n",
       "      <td>65.958916</td>\n",
       "      <td>78.722588</td>\n",
       "      <td>313.440002</td>\n",
       "      <td>137.111526</td>\n",
       "      <td>46.488358</td>\n",
       "      <td>226.190002</td>\n",
       "      <td>19.000000</td>\n",
       "      <td>157.319321</td>\n",
       "      <td>13.803139</td>\n",
       "      <td>...</td>\n",
       "      <td>103.284927</td>\n",
       "      <td>46.309223</td>\n",
       "      <td>19.008987</td>\n",
       "      <td>85.184715</td>\n",
       "      <td>65.424149</td>\n",
       "      <td>88.656235</td>\n",
       "      <td>152.970001</td>\n",
       "      <td>102.450378</td>\n",
       "      <td>40.299343</td>\n",
       "      <td>83.743507</td>\n",
       "    </tr>\n",
       "    <tr>\n",
       "      <th>2019-01-07</th>\n",
       "      <td>179.569214</td>\n",
       "      <td>66.946693</td>\n",
       "      <td>79.871574</td>\n",
       "      <td>314.799988</td>\n",
       "      <td>137.587784</td>\n",
       "      <td>47.799141</td>\n",
       "      <td>229.259995</td>\n",
       "      <td>20.570000</td>\n",
       "      <td>159.627472</td>\n",
       "      <td>13.869138</td>\n",
       "      <td>...</td>\n",
       "      <td>105.119019</td>\n",
       "      <td>46.108707</td>\n",
       "      <td>19.417980</td>\n",
       "      <td>87.434891</td>\n",
       "      <td>64.456589</td>\n",
       "      <td>88.559319</td>\n",
       "      <td>155.289993</td>\n",
       "      <td>102.489838</td>\n",
       "      <td>40.460091</td>\n",
       "      <td>84.247383</td>\n",
       "    </tr>\n",
       "    <tr>\n",
       "      <th>2019-01-08</th>\n",
       "      <td>180.321808</td>\n",
       "      <td>66.142906</td>\n",
       "      <td>80.242790</td>\n",
       "      <td>318.420013</td>\n",
       "      <td>141.067322</td>\n",
       "      <td>49.247898</td>\n",
       "      <td>232.679993</td>\n",
       "      <td>20.750000</td>\n",
       "      <td>158.518005</td>\n",
       "      <td>14.189702</td>\n",
       "      <td>...</td>\n",
       "      <td>108.412689</td>\n",
       "      <td>46.643410</td>\n",
       "      <td>20.059361</td>\n",
       "      <td>85.769180</td>\n",
       "      <td>65.062546</td>\n",
       "      <td>88.384834</td>\n",
       "      <td>156.330002</td>\n",
       "      <td>100.191460</td>\n",
       "      <td>40.828854</td>\n",
       "      <td>85.502151</td>\n",
       "    </tr>\n",
       "  </tbody>\n",
       "</table>\n",
       "<p>5 rows × 496 columns</p>\n",
       "</div>"
      ],
      "text/plain": [
       "                   MMM        ABT       ABBV        ABMD         ACN  \\\n",
       "date                                                                   \n",
       "2019-01-02  179.635086  67.305016  78.864014  309.959991  136.644974   \n",
       "2019-01-03  172.871124  64.128601  76.265549  302.290009  131.979675   \n",
       "2019-01-04  179.983185  65.958916  78.722588  313.440002  137.111526   \n",
       "2019-01-07  179.569214  66.946693  79.871574  314.799988  137.587784   \n",
       "2019-01-08  180.321808  66.142906  80.242790  318.420013  141.067322   \n",
       "\n",
       "                 ATVI        ADBE        AMD         AAP        AES  ...  \\\n",
       "date                                                                 ...   \n",
       "2019-01-02  46.350380  224.570007  18.830000  156.437698  13.369433  ...   \n",
       "2019-01-03  44.704514  215.699997  17.049999  161.321426  13.360003  ...   \n",
       "2019-01-04  46.488358  226.190002  19.000000  157.319321  13.803139  ...   \n",
       "2019-01-07  47.799141  229.259995  20.570000  159.627472  13.869138  ...   \n",
       "2019-01-08  49.247898  232.679993  20.750000  158.518005  14.189702  ...   \n",
       "\n",
       "                  WYNN        XEL        XRX       XLNX        XYL        YUM  \\\n",
       "date                                                                            \n",
       "2019-01-02  100.250526  46.041862  18.711531  84.600266  65.003914  88.636864   \n",
       "2019-01-03   99.280663  45.860447  18.302540  81.414970  62.775536  86.407372   \n",
       "2019-01-04  103.284927  46.309223  19.008987  85.184715  65.424149  88.656235   \n",
       "2019-01-07  105.119019  46.108707  19.417980  87.434891  64.456589  88.559319   \n",
       "2019-01-08  108.412689  46.643410  20.059361  85.769180  65.062546  88.384834   \n",
       "\n",
       "                  ZBRA         ZBH       ZION        ZTS  \n",
       "date                                                      \n",
       "2019-01-02  156.240005  100.891823  39.315971  83.466866  \n",
       "2019-01-03  146.880005   99.066940  39.098495  80.581871  \n",
       "2019-01-04  152.970001  102.450378  40.299343  83.743507  \n",
       "2019-01-07  155.289993  102.489838  40.460091  84.247383  \n",
       "2019-01-08  156.330002  100.191460  40.828854  85.502151  \n",
       "\n",
       "[5 rows x 496 columns]"
      ]
     },
     "execution_count": 45,
     "metadata": {},
     "output_type": "execute_result"
    }
   ],
   "source": [
    "sp500_adj_close_df.head()\n"
   ]
  },
  {
   "cell_type": "code",
   "execution_count": 46,
   "metadata": {},
   "outputs": [
    {
     "name": "stdout",
     "output_type": "stream",
     "text": [
      "<class 'pandas.core.frame.DataFrame'>\n",
      "Index: 252 entries, 2019-01-02 to 2019-12-31\n",
      "Columns: 496 entries, MMM to ZTS\n",
      "dtypes: float64(496)\n",
      "memory usage: 978.5+ KB\n"
     ]
    }
   ],
   "source": [
    "sp500_adj_close_df.info()"
   ]
  },
  {
   "cell_type": "code",
   "execution_count": 47,
   "metadata": {},
   "outputs": [
    {
     "data": {
      "text/html": [
       "<div>\n",
       "<style scoped>\n",
       "    .dataframe tbody tr th:only-of-type {\n",
       "        vertical-align: middle;\n",
       "    }\n",
       "\n",
       "    .dataframe tbody tr th {\n",
       "        vertical-align: top;\n",
       "    }\n",
       "\n",
       "    .dataframe thead th {\n",
       "        text-align: right;\n",
       "    }\n",
       "</style>\n",
       "<table border=\"1\" class=\"dataframe\">\n",
       "  <thead>\n",
       "    <tr style=\"text-align: right;\">\n",
       "      <th></th>\n",
       "      <th>^GSPC</th>\n",
       "    </tr>\n",
       "    <tr>\n",
       "      <th>date</th>\n",
       "      <th></th>\n",
       "    </tr>\n",
       "  </thead>\n",
       "  <tbody>\n",
       "    <tr>\n",
       "      <th>2019-01-02</th>\n",
       "      <td>2510.030029</td>\n",
       "    </tr>\n",
       "    <tr>\n",
       "      <th>2019-01-03</th>\n",
       "      <td>2447.889893</td>\n",
       "    </tr>\n",
       "    <tr>\n",
       "      <th>2019-01-04</th>\n",
       "      <td>2531.939941</td>\n",
       "    </tr>\n",
       "    <tr>\n",
       "      <th>2019-01-07</th>\n",
       "      <td>2549.689941</td>\n",
       "    </tr>\n",
       "    <tr>\n",
       "      <th>2019-01-08</th>\n",
       "      <td>2574.409912</td>\n",
       "    </tr>\n",
       "  </tbody>\n",
       "</table>\n",
       "</div>"
      ],
      "text/plain": [
       "                  ^GSPC\n",
       "date                   \n",
       "2019-01-02  2510.030029\n",
       "2019-01-03  2447.889893\n",
       "2019-01-04  2531.939941\n",
       "2019-01-07  2549.689941\n",
       "2019-01-08  2574.409912"
      ]
     },
     "execution_count": 47,
     "metadata": {},
     "output_type": "execute_result"
    }
   ],
   "source": [
    "sp500_index_adj_close_df.head()\n"
   ]
  },
  {
   "cell_type": "code",
   "execution_count": 48,
   "metadata": {},
   "outputs": [
    {
     "name": "stdout",
     "output_type": "stream",
     "text": [
      "<class 'pandas.core.frame.DataFrame'>\n",
      "Index: 252 entries, 2019-01-02 to 2019-12-31\n",
      "Columns: 496 entries, MMM to ZTS\n",
      "dtypes: float64(496)\n",
      "memory usage: 978.5+ KB\n"
     ]
    }
   ],
   "source": [
    "sp500_adj_close_df.info()"
   ]
  },
  {
   "cell_type": "code",
   "execution_count": 49,
   "metadata": {},
   "outputs": [
    {
     "data": {
      "text/html": [
       "<div>\n",
       "<style scoped>\n",
       "    .dataframe tbody tr th:only-of-type {\n",
       "        vertical-align: middle;\n",
       "    }\n",
       "\n",
       "    .dataframe tbody tr th {\n",
       "        vertical-align: top;\n",
       "    }\n",
       "\n",
       "    .dataframe thead th {\n",
       "        text-align: right;\n",
       "    }\n",
       "</style>\n",
       "<table border=\"1\" class=\"dataframe\">\n",
       "  <thead>\n",
       "    <tr style=\"text-align: right;\">\n",
       "      <th></th>\n",
       "      <th>sharesOutstanding</th>\n",
       "    </tr>\n",
       "    <tr>\n",
       "      <th>symbol</th>\n",
       "      <th></th>\n",
       "    </tr>\n",
       "  </thead>\n",
       "  <tbody>\n",
       "    <tr>\n",
       "      <th>ATVI</th>\n",
       "      <td>771872000</td>\n",
       "    </tr>\n",
       "    <tr>\n",
       "      <th>ABBV</th>\n",
       "      <td>1764829952</td>\n",
       "    </tr>\n",
       "    <tr>\n",
       "      <th>ACN</th>\n",
       "      <td>635000000</td>\n",
       "    </tr>\n",
       "    <tr>\n",
       "      <th>ABMD</th>\n",
       "      <td>45047300</td>\n",
       "    </tr>\n",
       "    <tr>\n",
       "      <th>MMM</th>\n",
       "      <td>576019008</td>\n",
       "    </tr>\n",
       "  </tbody>\n",
       "</table>\n",
       "</div>"
      ],
      "text/plain": [
       "        sharesOutstanding\n",
       "symbol                   \n",
       "ATVI            771872000\n",
       "ABBV           1764829952\n",
       "ACN             635000000\n",
       "ABMD             45047300\n",
       "MMM             576019008"
      ]
     },
     "execution_count": 49,
     "metadata": {},
     "output_type": "execute_result"
    }
   ],
   "source": [
    "sp500_df.head()\n"
   ]
  },
  {
   "cell_type": "code",
   "execution_count": 50,
   "metadata": {},
   "outputs": [
    {
     "name": "stdout",
     "output_type": "stream",
     "text": [
      "<class 'pandas.core.frame.DataFrame'>\n",
      "Index: 504 entries, ATVI to XYL\n",
      "Data columns (total 1 columns):\n",
      " #   Column             Non-Null Count  Dtype\n",
      "---  ------             --------------  -----\n",
      " 0   sharesOutstanding  504 non-null    int64\n",
      "dtypes: int64(1)\n",
      "memory usage: 7.9+ KB\n"
     ]
    }
   ],
   "source": [
    "sp500_df.info()"
   ]
  },
  {
   "cell_type": "code",
   "execution_count": 51,
   "metadata": {},
   "outputs": [
    {
     "data": {
      "text/plain": [
       "DatetimeIndex(['2019-01-02', '2019-01-03', '2019-01-04', '2019-01-07',\n",
       "               '2019-01-08', '2019-01-09', '2019-01-10', '2019-01-11',\n",
       "               '2019-01-14', '2019-01-15',\n",
       "               ...\n",
       "               '2019-12-17', '2019-12-18', '2019-12-19', '2019-12-20',\n",
       "               '2019-12-23', '2019-12-24', '2019-12-26', '2019-12-27',\n",
       "               '2019-12-30', '2019-12-31'],\n",
       "              dtype='datetime64[ns]', name='date', length=252, freq=None)"
      ]
     },
     "execution_count": 51,
     "metadata": {},
     "output_type": "execute_result"
    }
   ],
   "source": [
    "sp500_adj_close_df.index = pd.to_datetime(sp500_adj_close_df.index)\n",
    "sp500_adj_close_df.index"
   ]
  },
  {
   "cell_type": "code",
   "execution_count": 53,
   "metadata": {},
   "outputs": [
    {
     "data": {
      "text/plain": [
       "DatetimeIndex(['2019-01-02', '2019-01-03', '2019-01-04', '2019-01-07',\n",
       "               '2019-01-08', '2019-01-09', '2019-01-10', '2019-01-11',\n",
       "               '2019-01-14', '2019-01-15',\n",
       "               ...\n",
       "               '2019-12-17', '2019-12-18', '2019-12-19', '2019-12-20',\n",
       "               '2019-12-23', '2019-12-24', '2019-12-26', '2019-12-27',\n",
       "               '2019-12-30', '2019-12-31'],\n",
       "              dtype='datetime64[ns]', name='date', length=252, freq=None)"
      ]
     },
     "execution_count": 53,
     "metadata": {},
     "output_type": "execute_result"
    }
   ],
   "source": [
    "sp500_index_adj_close_df.index = pd.to_datetime(sp500_index_adj_close_df.index)\n",
    "sp500_index_adj_close_df.index"
   ]
  },
  {
   "cell_type": "code",
   "execution_count": null,
   "metadata": {},
   "outputs": [],
   "source": []
  },
  {
   "cell_type": "code",
   "execution_count": 55,
   "metadata": {
    "scrolled": false
   },
   "outputs": [
    {
     "ename": "NameError",
     "evalue": "name 'interact' is not defined",
     "output_type": "error",
     "traceback": [
      "\u001b[0;31m---------------------------------------------------------------------------\u001b[0m",
      "\u001b[0;31mNameError\u001b[0m                                 Traceback (most recent call last)",
      "\u001b[0;32m<ipython-input-55-6e478af71788>\u001b[0m in \u001b[0;36m<module>\u001b[0;34m\u001b[0m\n\u001b[1;32m     22\u001b[0m     \u001b[0;32mreturn\u001b[0m\u001b[0;34m\u001b[0m\u001b[0;34m\u001b[0m\u001b[0m\n\u001b[1;32m     23\u001b[0m \u001b[0;34m\u001b[0m\u001b[0m\n\u001b[0;32m---> 24\u001b[0;31m interact(plot_sector_adj_close, \n\u001b[0m\u001b[1;32m     25\u001b[0m          \u001b[0msector\u001b[0m\u001b[0;34m=\u001b[0m\u001b[0msp_df\u001b[0m\u001b[0;34m,\u001b[0m\u001b[0;34m\u001b[0m\u001b[0;34m\u001b[0m\u001b[0m\n\u001b[1;32m     26\u001b[0m          ticker=sp_df);\n",
      "\u001b[0;31mNameError\u001b[0m: name 'interact' is not defined"
     ]
    }
   ],
   "source": []
  },
  {
   "cell_type": "code",
   "execution_count": null,
   "metadata": {},
   "outputs": [],
   "source": [
    "\n",
    "def plot_adj_close_daily_return_hist(ticker):\n",
    "    \n",
    "    sp_daily_lag_df = sp_df.shift(1)\n",
    "    sp_dr_df = (sp_daily_lag_df/sp_df) - 1\n",
    "\n",
    "    \n",
    "    mean = sp_dr_df.mean()\n",
    "    \n",
    "    \n",
    "    std = sp_dr_df.std()\n",
    "\n",
    "    fig, (ax1, ax2) = plt.subplots(2, figsize=(20, 16))\n",
    "    ax1.set_title(f\"S&P 500 Stocks ({ticker})\", fontsize=s[1])\n",
    "    ax1.set_ylabel(f\"Price\", fontsize=s[2])\n",
    "    ax1.plot(sp_df.index.values, sp_df[ticker], label=ticker, linewidth=w[3], color=c[2])\n",
    "    \n",
    "    ax1.legend(loc='upper left', title = 'Tickers')\n",
    "    ax1.grid(alpha=ga)\n",
    "    \n",
    "    ax2.set_title(f\"S&P 500 Stocks ({ticker})\", fontsize=s[1])\n",
    "    ax2.set_ylabel(f\"Price\", fontsize=s[2])\n",
    "    \n",
    "    ax2.hist(sp_dr_df[ticker], bins=50, label=ticker, linewidth=w[3], color=c[1])\n",
    "    \n",
    "    ax2.axvline(mean[ticker], color='red', linestyle='dashed', linewidth=2)\n",
    "    #to plot the std line we plot both the positive and negative values \n",
    "    ax2.axvline(std[ticker], color='g', linestyle='dashed', linewidth=2)\n",
    "    ax2.axvline(-std[ticker], color='g', linestyle='dashed', linewidth=2)\n",
    "\n",
    "    ax2.legend(loc='upper left', title = 'Tickers')\n",
    "    ax2.grid(alpha=ga)\n",
    "    \n",
    "    plt.xticks(fontsize=s[3])\n",
    "    plt.yticks(fontsize=s[3])\n",
    "    plt.show()\n",
    "    \n",
    "    return \n",
    "\n",
    "interact(plot_adj_close_daily_return_hist, \n",
    "         ticker=sp_df);\n",
    "\n"
   ]
  },
  {
   "cell_type": "markdown",
   "metadata": {},
   "source": [
    "#### Cumulative Returns"
   ]
  },
  {
   "cell_type": "code",
   "execution_count": null,
   "metadata": {},
   "outputs": [],
   "source": [
    "# Cumulative Return\n",
    "def cumulative_return(df):\n",
    "    return (df.iloc[-1,:] / df.iloc[0,:]) - 1\n",
    "\n",
    "sp_cr = cumulative_return(sp_df)\n",
    "sp_cr.head()"
   ]
  },
  {
   "cell_type": "code",
   "execution_count": null,
   "metadata": {},
   "outputs": [],
   "source": []
  },
  {
   "cell_type": "code",
   "execution_count": null,
   "metadata": {},
   "outputs": [],
   "source": [
    "# Calculate percentage returns\n",
    "returns = sp_df.pct_change()"
   ]
  },
  {
   "cell_type": "code",
   "execution_count": null,
   "metadata": {},
   "outputs": [],
   "source": [
    "# Calculate individual mean returns \n",
    "meanDailyReturns = returns.mean()"
   ]
  },
  {
   "cell_type": "code",
   "execution_count": null,
   "metadata": {},
   "outputs": [],
   "source": [
    "# Define weights for the portfolio\n",
    "weights = np.array([100 / sp_df.shape[1] for x in range(sp_df.shape[1])])"
   ]
  },
  {
   "cell_type": "code",
   "execution_count": null,
   "metadata": {},
   "outputs": [],
   "source": [
    "# Calculate expected portfolio performance\n",
    "portReturn = np.sum(meanDailyReturns * weights)"
   ]
  },
  {
   "cell_type": "code",
   "execution_count": null,
   "metadata": {},
   "outputs": [],
   "source": [
    "# Create portfolio returns column\n",
    "returns['Portfolio'] = returns.dot(weights)"
   ]
  },
  {
   "cell_type": "code",
   "execution_count": null,
   "metadata": {},
   "outputs": [],
   "source": []
  },
  {
   "cell_type": "code",
   "execution_count": null,
   "metadata": {},
   "outputs": [],
   "source": [
    "# Calculate cumulative returns\n",
    "daily_cum_ret=(1+returns).cumprod()"
   ]
  },
  {
   "cell_type": "code",
   "execution_count": null,
   "metadata": {},
   "outputs": [],
   "source": [
    "# Plot the portfolio cumulative returns only\n",
    "# fig, ax = plt.subplots()\n",
    "# ax.plot(daily_cum_ret.index, daily_cum_ret.Portfolio, color=c[2], label=\"Portfolio\")\n",
    "# plt.legend()\n",
    "# plt.show()\n",
    "\n",
    "\n",
    "\n",
    "fig, ax = plt.subplots(1, figsize=(20, 8))\n",
    "ax.set_title(\"title\", fontsize=s[1])\n",
    "ax.set_ylabel(\"ylabel\", fontsize=s[2])\n",
    "ax.plot(daily_cum_ret.index, daily_cum_ret.Portfolio, color=c[2], label=\"Portfolio\")\n",
    "\n",
    "ax.legend(loc='upper right')\n",
    "ax.grid(alpha=ga)"
   ]
  },
  {
   "cell_type": "code",
   "execution_count": null,
   "metadata": {},
   "outputs": [],
   "source": [
    "# Get percentage daily returns\n",
    "daily_returns = sp_df.pct_change()\n",
    "\n",
    "# Calculate the covariance matrix \n",
    "cov_matrix = (daily_returns.cov())*252\n",
    "\n",
    "# Calculate the portfolio variance\n",
    "portfolio_variance = np.dot(weights.T, np.dot(cov_matrix, weights))\n",
    "\n",
    "# Print the result\n",
    "print(str(np.round(portfolio_variance, 4) * 100) + '%')\n",
    "\n",
    "# Calculate the standard deviation by taking the square root\n",
    "portfolio_standard_dev = np.sqrt(np.dot(weights.T, np.dot(cov_matrix, weights)))\n",
    "\n",
    "# Print the results \n",
    "print(str(np.round(portfolio_standard_dev, 4) * 100) + '%')\n"
   ]
  },
  {
   "cell_type": "code",
   "execution_count": null,
   "metadata": {},
   "outputs": [],
   "source": [
    "# Calculate total rate of return from start to end\n",
    "total_return = (sp_df.iloc[-1,:] - sp_df.iloc[0,:]) / sp_df.iloc[0,:]\n",
    "print(total_return)"
   ]
  },
  {
   "cell_type": "code",
   "execution_count": null,
   "metadata": {},
   "outputs": [],
   "source": [
    "# Annualize return\n",
    "annualized_return = ((1 + total_return)**(12 / 12)) - 1\n",
    "annualized_return['Portfolio'] = annualized_return.dot(weights)\n",
    "print (annualized_return)"
   ]
  },
  {
   "cell_type": "code",
   "execution_count": null,
   "metadata": {},
   "outputs": [],
   "source": [
    "# risk-free rate\n",
    "rfr = 0\n",
    "\n",
    "# Calculate annualized volatility from the standard deviation\n",
    "vol_sp500 = returns['Portfolio'].std() * np.sqrt(252)\n",
    "\n",
    "# Calculate the Sharpe ratio \n",
    "sharpe_ratio = ((annualized_return['Portfolio'] - rfr) / vol_sp500)\n",
    "print (sharpe_ratio)"
   ]
  },
  {
   "cell_type": "code",
   "execution_count": null,
   "metadata": {},
   "outputs": [],
   "source": [
    "\n",
    "fig, (ax1, ax2) = plt.subplots(2, figsize=(20, 16))\n",
    "ax1.set_title(f\"S&P 500 Stocks Returns (Portfolio)\", fontsize=s[1])\n",
    "ax1.set_ylabel(f\"Percentage of Change\", fontsize=s[2])\n",
    "ax1.plot(returns.index.values, returns.Portfolio*100, label='Portfolio', linewidth=w[3], color=c[2])\n",
    "\n",
    "ax1.legend(loc='upper left')\n",
    "ax1.grid(alpha=ga)\n",
    "\n",
    "\n",
    "returns_mean = returns.mean()\n",
    "returns_std = returns.std()\n",
    "\n",
    "ax2.set_title(f\"S&P 500 Stocks Returns Distribution (Portfolio)\", fontsize=s[1])\n",
    "ax2.set_ylabel(f\"Frequency\", fontsize=s[2])\n",
    "ax2.set_xlabel(f\"Percentage of Change\", fontsize=s[2])\n",
    "\n",
    "ax2.hist(returns.Portfolio*100, bins=50, label='Portfolio', linewidth=w[3], color=c[1])\n",
    "\n",
    "ax2.axvline(returns_mean.Portfolio*100, color='red', linestyle='dashed', linewidth=2)\n",
    "#to plot the std line we plot both the positive and negative values \n",
    "ax2.axvline(returns_std.Portfolio*100, color='g', linestyle='dashed', linewidth=2)\n",
    "ax2.axvline(-returns_std.Portfolio*100, color='g', linestyle='dashed', linewidth=2)\n",
    "\n",
    "ax2.legend(loc='upper left', title = 'Tickers')\n",
    "ax2.grid(alpha=ga)\n",
    "\n",
    "plt.xticks(fontsize=s[3])\n",
    "plt.yticks(fontsize=s[3])\n",
    "plt.show()\n"
   ]
  },
  {
   "cell_type": "code",
   "execution_count": null,
   "metadata": {},
   "outputs": [],
   "source": []
  },
  {
   "cell_type": "code",
   "execution_count": null,
   "metadata": {},
   "outputs": [],
   "source": [
    "returns_skew = returns.skew()\n",
    "returns_kurtosis = returns.kurtosis()\n",
    "\n",
    "print('Returns Skew: ')\n",
    "print(returns_skew.Portfolio)\n",
    "print('---------------------------------')\n",
    "print('Returns Kurtosis: ')\n",
    "print(returns_kurtosis.Portfolio)"
   ]
  },
  {
   "cell_type": "code",
   "execution_count": null,
   "metadata": {},
   "outputs": [],
   "source": [
    "target = 0\n",
    "\n",
    "# Create a downside return column with the negative returns only\n",
    "downside_returns = returns.loc[returns.Portfolio < target]\n",
    "\n",
    "# Calculate expected return and std dev of downside\n",
    "expected_return_mean = returns.Portfolio.mean()\n",
    "downside_returns_std = downside_returns.Portfolio.std()\n",
    "\n",
    "# Calculate the sortino ratio\n",
    "sortino_ratio = (expected_return_mean - rfr)/downside_returns_std\n",
    "\n",
    "# Print the results\n",
    "print(\"Expected return  : \", expected_return_mean*100)\n",
    "print(\"Downside risk   : \", downside_returns_std*100)\n",
    "print(\"Sortino ratio : \", sortino_ratio)"
   ]
  },
  {
   "cell_type": "code",
   "execution_count": null,
   "metadata": {},
   "outputs": [],
   "source": [
    "# Calculate the max value \n",
    "roll_max = sp_df.rolling(center=False, min_periods=1, window=252).max()\n",
    "\n",
    "# Calculate the daily draw-down relative to the max\n",
    "daily_draw_down = sp_df/roll_max - 1.0\n",
    "\n",
    "# Calculate the minimum (negative) daily draw-down\n",
    "max_daily_draw_down = daily_draw_down.rolling(center=False, min_periods=1, window=252).min()\n",
    "\n",
    "\n",
    "\n"
   ]
  },
  {
   "cell_type": "code",
   "execution_count": null,
   "metadata": {},
   "outputs": [],
   "source": [
    "def plot_daily_down(ticker):\n",
    "\n",
    "    fig, ax1 = plt.subplots(1, figsize=(20, 16))\n",
    "    ax1.set_title(f\"S&P 500 Stocks ({ticker})\", fontsize=s[1])\n",
    "    ax1.set_ylabel(f\"Price\", fontsize=s[2])\n",
    "    # Plot the results\n",
    "    ax1.plot(sp_df.index.values, daily_draw_down[ticker], label='Daily drawdown')\n",
    "    ax1.plot(sp_df.index.values, max_daily_draw_down[ticker], label='Maximum daily drawdown in time-window')\n",
    "\n",
    "    ax1.legend(loc='upper right', title = 'Tickers')\n",
    "    ax1.grid(alpha=ga)\n",
    "    \n",
    "    return \n",
    "\n",
    "interact(plot_daily_down, \n",
    "         ticker=sp_df);\n",
    "\n"
   ]
  },
  {
   "cell_type": "code",
   "execution_count": null,
   "metadata": {},
   "outputs": [],
   "source": [
    "weights.sum()"
   ]
  },
  {
   "cell_type": "code",
   "execution_count": null,
   "metadata": {},
   "outputs": [],
   "source": [
    "# Calculate return of the portfolio\n",
    "# total_return_pf = (weights*portfolio_data['mean_return']).sum()"
   ]
  }
 ],
 "metadata": {
  "kernelspec": {
   "display_name": "port-opt-py38",
   "language": "python",
   "name": "port-opt-py38"
  },
  "language_info": {
   "codemirror_mode": {
    "name": "ipython",
    "version": 3
   },
   "file_extension": ".py",
   "mimetype": "text/x-python",
   "name": "python",
   "nbconvert_exporter": "python",
   "pygments_lexer": "ipython3",
   "version": "3.8.0"
  }
 },
 "nbformat": 4,
 "nbformat_minor": 1
}
