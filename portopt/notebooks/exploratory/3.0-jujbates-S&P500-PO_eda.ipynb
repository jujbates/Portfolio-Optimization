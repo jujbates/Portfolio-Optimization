{
 "cells": [
  {
   "cell_type": "markdown",
   "source": [
    "**The Data Science Method**\n",
    "\n",
    "\n",
    "1.   [Problem Identification](https://medium.com/@aiden.dataminer/the-data-science-method-problem-identification-6ffcda1e5152)\n",
    "\n",
    "2.   [Data Wrangling](https://medium.com/@aiden.dataminer/the-data-science-method-dsm-data-collection-organization-and-definitions-d19b6ff141c4)\n",
    "  * Data Collection - Collected data from wikipedia and quandl wiki price dataset. The wikipedia showed us the currect S&P 500 companies and used their ticker symbols to query quandl wiki prices.\n",
    "  * Data Organization - Done using cookiecutter\n",
    "  * Data Definition\n",
    "  * Data Cleaning - The S&P 500 data from quandls wiki price is clean and ready for analysis use but has lost its support from Quandl community as of April 11, 2018. So we will use this dataset to setup the protfolio optimizer with proof of concept then use a different data source later for cost efficiencies.\n",
    "\n",
    "3.   [**Exploratory Data Analysis**](https://medium.com/@aiden.dataminer/the-data-science-method-dsm-exploratory-data-analysis-bc84d4d8d3f9)\n",
    " * Build data profile tables and plots\n",
    "        - Cumulative Return\n",
    "        - Annualized Return\n",
    "        - Daily Return\n",
    "        - Mean Daily Return\n",
    "        - Standard Deviation Daily Return\n",
    "        - Simple Moving Average\n",
    "        - Exponential Moving Average\n",
    "        - Moving Average Convergence Divergence\n",
    "        - Adj. Close & Daily Return Covariance\n",
    "        - Adj. Close & Daily Return Correlation\n",
    "        - Sharpe Ratio\n",
    "        - Skew \n",
    "        - Kurtosis\n",
    " * Explore data relationships\n",
    " * Identification and creation of features \n",
    "\n",
    "4.   [Pre-processing and Training Data Development](https://medium.com/@aiden.dataminer/the-data-science-method-dsm-pre-processing-and-training-data-development-fd2d75182967)\n",
    "  * Create dummy or indicator features for categorical variables\n",
    "  * Standardize the magnitude of numeric features\n",
    "  * Split into testing and training datasets\n",
    "  * Apply scaler to the testing set\n",
    "5.   [Modeling](https://medium.com/@aiden.dataminer/the-data-science-method-dsm-modeling-56b4233cad1b)\n",
    "  * Create dummy or indicator features for categorical variable\n",
    "  * Fit Models with Training Data Set\n",
    "  * Review Model Outcomes — Iterate over additional models as needed.\n",
    "  * Identify the Final Model\n",
    "\n",
    "6.   [Documentation](https://medium.com/@aiden.dataminer/the-data-science-method-dsm-documentation-c92c28bd45e6)\n",
    "\n",
    "  * Review the Results\n",
    "  * Present and share your findings - storytelling\n",
    "  * Finalize Code\n",
    "  * Finalize Documentation\n"
   ],
   "metadata": {
    "collapsed": false
   }
  },
  {
   "cell_type": "markdown",
   "source": [
    "First, loads the needed packages and modules into Python. Then loads the data into a pandas dataframe for ease of use."
   ],
   "metadata": {
    "collapsed": false
   }
  },
  {
   "cell_type": "code",
   "execution_count": null,
   "outputs": [],
   "source": [
    "#load python packages\n",
    "import os\n",
    "import pandas as pd\n",
    "import datetime\n",
    "import seaborn as sns\n",
    "import matplotlib.pyplot as plt\n",
    "import matplotlib\n",
    "import numpy as np\n",
    "# import quandl\n",
    "import pandas as pd \n",
    "import numpy as np\n",
    "from scipy.stats import norm\n",
    "import pypfopt\n",
    "\n",
    "\n",
    "import datetime as dt\n",
    "\n",
    "import dotenv\n",
    "import os\n",
    "\n",
    "from __future__ import print_function\n",
    "from ipywidgets import interact, interactive, fixed, interact_manual\n",
    "import ipywidgets as widgets\n",
    "%matplotlib inline\n",
    "\n"
   ],
   "metadata": {
    "collapsed": false,
    "pycharm": {
     "name": "#%%\n"
    }
   }
  },
  {
   "cell_type": "code",
   "execution_count": null,
   "outputs": [],
   "source": [
    "# prints current directory\n",
    "current_dir = os.getcwd()\n",
    "print(\"Current Directory: \")\n",
    "print(current_dir)"
   ],
   "metadata": {
    "collapsed": false,
    "pycharm": {
     "name": "#%%\n"
    }
   }
  },
  {
   "cell_type": "code",
   "execution_count": null,
   "outputs": [],
   "source": [
    "# prints parent directory\n",
    "project_dir = os.path.abspath(os.path.join(os.path.join(current_dir, os.pardir), os.pardir))\n",
    "print(\"Parent Directory: \")\n",
    "print(project_dir)"
   ],
   "metadata": {
    "collapsed": false,
    "pycharm": {
     "name": "#%%\n"
    }
   }
  },
  {
   "cell_type": "code",
   "execution_count": null,
   "outputs": [],
   "source": [
    "print(os.listdir())"
   ],
   "metadata": {
    "collapsed": false,
    "pycharm": {
     "name": "#%%\n"
    }
   }
  },
  {
   "cell_type": "code",
   "execution_count": null,
   "outputs": [],
   "source": [
    "plt.style.use('dark_background')\n",
    "c = ['white', 'springgreen', 'fuchsia', 'lightcoral', 'red'] # Color\n",
    "s = [24, 20, 16, 12]  # Size\n",
    "w = [0.75, 1, 1.25, 1.50] # Line Width\n",
    "ga = 0.10 # Grid Alpha\n"
   ],
   "metadata": {
    "collapsed": false,
    "pycharm": {
     "name": "#%%\n"
    }
   }
  },
  {
   "cell_type": "code",
   "execution_count": null,
   "outputs": [],
   "source": [
    "\n",
    "wiki_df = pd.read_csv(project_dir + '/data/interim/'+ 'wiki_sp500_interim.csv')\n",
    "slick_df = pd.read_csv(project_dir + '/data/interim/'+ 'slick_sp500_interim.csv', index_col=['#'])\n",
    "yahoo_sp500_adj_close_start_date_df = pd.read_csv(project_dir + '/data/interim/'+ 'yahoo_sp500_adj_close__start_date_interim.csv', index_col=['symbol'])\n",
    "sp500_adj_close_df = pd.read_csv(project_dir + '/data/interim/'+ 'yahoo_sp500_adj_close_interim.csv', index_col=['date'], parse_dates=True)\n",
    "sp500_shares_outstanding_df = pd.read_csv(project_dir + '/data/interim/'+ 'yahoo_sp500_shares_outstanding_interim.csv', index_col=['symbol'])\n",
    "sp500_index_adj_close_df = pd.read_csv(project_dir + '/data/interim/'+ 'yahoo_sp500_index_adj_close_interim.csv', index_col=['date'], parse_dates=True)"
   ],
   "metadata": {
    "collapsed": false,
    "pycharm": {
     "name": "#%%\n"
    }
   }
  },
  {
   "cell_type": "code",
   "execution_count": null,
   "outputs": [],
   "source": [
    "sp500_adj_close_df.info()\n",
    "type(sp500_adj_close_df.index)"
   ],
   "metadata": {
    "collapsed": false,
    "pycharm": {
     "name": "#%%\n"
    }
   }
  },
  {
   "cell_type": "code",
   "execution_count": null,
   "outputs": [],
   "source": [
    "yahoo_sp500_adj_close_start_date_df"
   ],
   "metadata": {
    "collapsed": false,
    "pycharm": {
     "name": "#%%\n"
    }
   }
  },
  {
   "cell_type": "code",
   "execution_count": null,
   "outputs": [],
   "source": [
    "slick_df"
   ],
   "metadata": {
    "collapsed": false,
    "pycharm": {
     "name": "#%%\n"
    }
   }
  },
  {
   "cell_type": "code",
   "execution_count": null,
   "outputs": [],
   "source": [
    "wiki_df"
   ],
   "metadata": {
    "collapsed": false,
    "pycharm": {
     "name": "#%%\n"
    }
   }
  },
  {
   "cell_type": "code",
   "execution_count": null,
   "outputs": [],
   "source": [
    "sp500_adj_close_df.index"
   ],
   "metadata": {
    "collapsed": false,
    "pycharm": {
     "name": "#%%\n"
    }
   }
  },
  {
   "cell_type": "code",
   "execution_count": null,
   "outputs": [],
   "source": [
    "sp500_adj_close_df.head()"
   ],
   "metadata": {
    "collapsed": false,
    "pycharm": {
     "name": "#%%\n"
    }
   }
  },
  {
   "cell_type": "code",
   "execution_count": null,
   "outputs": [],
   "source": [
    "sp500_adj_close_df.info()"
   ],
   "metadata": {
    "collapsed": false,
    "pycharm": {
     "name": "#%%\n"
    }
   }
  },
  {
   "cell_type": "markdown",
   "source": [
    "### Plot S&P 500 Adj Close Prices in  GICS Sectors and/or Sub Sector"
   ],
   "metadata": {
    "collapsed": false
   }
  },
  {
   "cell_type": "code",
   "execution_count": null,
   "outputs": [],
   "source": [
    "ALL = 'SELECT ALL'\n",
    "def unique_sorted_values_plus_ALL(array):\n",
    "    unique = array.unique().tolist()\n",
    "    unique.sort()\n",
    "    unique.insert(0, ALL)\n",
    "    return unique\n"
   ],
   "metadata": {
    "collapsed": false,
    "pycharm": {
     "name": "#%%\n"
    }
   }
  },
  {
   "cell_type": "code",
   "execution_count": null,
   "outputs": [],
   "source": [
    "tickers = None"
   ],
   "metadata": {
    "collapsed": false,
    "pycharm": {
     "name": "#%%\n"
    }
   }
  },
  {
   "cell_type": "code",
   "execution_count": null,
   "outputs": [],
   "source": [
    "\n",
    "def _plot_tickers(ax, df, background_tickers, focus_tickers, legend=True, title=None, ylabel=None):\n",
    "    ax.set_title(title, fontsize=s[1])\n",
    "    ax.set_ylabel(ylabel, fontsize=s[2])\n",
    " \n",
    "    for i in range(len(focus_tickers)):\n",
    "        ax.plot(df.index.values, df[focus_tickers[i]], label=focus_tickers[i], linewidth=w[3], color=c[2])\n",
    "    \n",
    "    if background_tickers is not None:  \n",
    "        for i in focus_tickers:\n",
    "            background_tickers.remove(i)\n",
    "            \n",
    "#         if 10 >= len(background_tickers) > 1:\n",
    "        if len(background_tickers) <= 10 and len(background_tickers) > 1:\n",
    "            for i in range(len(background_tickers)):\n",
    "                ax.plot(df.index.values, df[background_tickers[i]], label=background_tickers[i],  linewidth=w[3], color=c[0], alpha=0.75)\n",
    "        else:\n",
    "            ax.plot(df.index.values, df[background_tickers], linewidth=w[3], color=c[0], alpha=0.75)\n",
    "    \n",
    "    if legend:\n",
    "        ax.legend(bbox_to_anchor=(1.05, 1), loc='upper left', borderaxespad=0., title='Tickers', ncol=2)\n",
    "    ax.grid(alpha=ga)\n",
    "\n",
    "\n",
    "def plot_ticker_list(sector, sub_sector, ticker):\n",
    "\n",
    "    background_tickers = None\n",
    "    legend = True   \n",
    "    if sector == 'SELECT ALL':\n",
    "        legend = False\n",
    "    else:\n",
    "        if ticker != 'SELECT ALL' :\n",
    "            if sub_sector == 'SELECT ALL' : \n",
    "                background_tickers = unique_sorted_values_plus_ALL(wiki_df[wiki_df[\"GICS Sector\"] == sector]['Symbol'])\n",
    "                background_tickers.remove('SELECT ALL')   \n",
    "            elif sub_sector != 'SELECT ALL' : \n",
    "                background_tickers = unique_sorted_values_plus_ALL(wiki_df[wiki_df[\"GICS Sub-Industry\"] == sub_sector]['Symbol'])\n",
    "                background_tickers.remove('SELECT ALL')              \n",
    "              \n",
    "    fig, (ax1) = plt.subplots(1, figsize=(20, 10))\n",
    "    \n",
    "    _plot_tickers(ax1, sp500_adj_close_df, background_tickers, tickers, legend=legend, \n",
    "                  title=f\"S&P 500 Stocks\\nSector: {sector} \\n Sub Industry: {sub_sector} \\n Tickers: {ticker}\",\n",
    "                    ylabel=f\"Price\")\n",
    "    plt.xticks(fontsize=s[3])\n",
    "    plt.yticks(fontsize=s[3])\n",
    "    plt.show()\n",
    "\n",
    "    \n",
    "    \n",
    "def select_ticker_list(ticker):\n",
    "\n",
    "    global tickers\n",
    "    \n",
    "    if ticker != 'SELECT ALL':        \n",
    "        tickers = [dropdown_ticker.value]\n",
    "    else:\n",
    "        if dropdown_sector.value != 'SELECT ALL':\n",
    "            if dropdown_sub_sector.value == 'SELECT ALL':\n",
    "                tickers = unique_sorted_values_plus_ALL(wiki_df[wiki_df[\"GICS Sector\"] == dropdown_sector.value]['Symbol'])\n",
    "                tickers.remove('SELECT ALL')\n",
    "            elif dropdown_sub_sector.value != 'SELECT ALLf':\n",
    "                tickers = unique_sorted_values_plus_ALL(wiki_df[wiki_df[\"GICS Sub-Industry\"] == dropdown_sub_sector.value]['Symbol'])\n",
    "                tickers.remove('SELECT ALL')\n",
    "        else:\n",
    "            tickers = unique_sorted_values_plus_ALL(wiki_df['Symbol'])\n",
    "            tickers.remove('SELECT ALL')\n",
    "    return tickers\n",
    "\n",
    "\n",
    "def get_ticker(sub_sector):\n",
    "    global tickers\n",
    "\n",
    "    if sub_sector != 'SELECT ALL':\n",
    "        dropdown_ticker.options = unique_sorted_values_plus_ALL(\n",
    "            wiki_df[wiki_df[\"GICS Sub-Industry\"] == dropdown_sub_sector.value]['Symbol']\n",
    "        )\n",
    "        tickers = unique_sorted_values_plus_ALL(wiki_df[wiki_df[\"GICS Sub-Industry\"] == dropdown_sub_sector.value]['Symbol'])\n",
    "    else:\n",
    "        dropdown_ticker.options = unique_sorted_values_plus_ALL(\n",
    "            wiki_df[wiki_df[\"GICS Sector\"] == dropdown_sector.value]['Symbol']\n",
    "        )\n",
    "        tickers = unique_sorted_values_plus_ALL(wiki_df[wiki_df[\"GICS Sector\"] == dropdown_sector.value]['Symbol'])\n",
    "    tickers.remove('SELECT ALL')\n",
    "\n",
    "\n",
    "def get_sub_sector(sector):   \n",
    "    global tickers\n",
    "\n",
    "    dropdown_sub_sector.options = unique_sorted_values_plus_ALL(\n",
    "        wiki_df[wiki_df[\"GICS Sector\"] == dropdown_sector.value]['GICS Sub-Industry']\n",
    "    )\n",
    "    get_ticker(dropdown_sub_sector.value)\n",
    "    if  dropdown_sector.value != 'SELECT ALL':\n",
    "        tickers = unique_sorted_values_plus_ALL(wiki_df[wiki_df[\"GICS Sector\"] == dropdown_sector.value]['Symbol'])\n",
    "    else:\n",
    "        tickers = unique_sorted_values_plus_ALL(wiki_df['Symbol'])\n",
    "    tickers.remove('SELECT ALL')\n",
    "\n",
    "\n",
    "dropdown_sector = widgets.Dropdown(\n",
    "    options=unique_sorted_values_plus_ALL(wiki_df['GICS Sector']),\n",
    "        description='GICS Sector:'\n",
    ")\n",
    "\n",
    "dropdown_sub_sector = widgets.Dropdown(\n",
    "    options=unique_sorted_values_plus_ALL(wiki_df[wiki_df[\"GICS Sector\"] == dropdown_sector.value]['GICS Sub-Industry']),\n",
    "    description='Sub Sector:'\n",
    ")\n",
    "\n",
    "dropdown_ticker = widgets.Dropdown(\n",
    "    options=unique_sorted_values_plus_ALL(wiki_df[wiki_df[\"GICS Sector\"] == dropdown_sector.value]['Symbol']),\n",
    "    description='Ticker:'\n",
    ")\n",
    "\n",
    "btn_plot = widgets.Button(description='Plot')\n",
    "\n",
    "\n",
    "i = widgets.interactive(get_sub_sector, sector=dropdown_sector)\n",
    "j = widgets.interactive(get_ticker, sub_sector=dropdown_sub_sector)\n",
    "k = widgets.interactive(select_ticker_list, ticker=dropdown_ticker)\n",
    "\n",
    "output_ticker = widgets.Output()\n",
    "\n",
    "def btn_plot_event_handler(obj):\n",
    "    output_ticker.clear_output()\n",
    "    with output_ticker:\n",
    "        plot_ticker_list(dropdown_sector.value, dropdown_sub_sector.value, dropdown_ticker.value)\n",
    "\n",
    "\n",
    "display(i)\n",
    "display(j)\n",
    "display(k)\n",
    "\n",
    "display(btn_plot)\n",
    "\n",
    "btn_plot.on_click(btn_plot_event_handler)\n",
    "\n",
    "tickers = unique_sorted_values_plus_ALL(wiki_df['Symbol'])\n",
    "tickers.remove('SELECT ALL')\n",
    "\n"
   ],
   "metadata": {
    "collapsed": false,
    "pycharm": {
     "name": "#%%\n"
    }
   }
  },
  {
   "cell_type": "code",
   "execution_count": null,
   "outputs": [],
   "source": [
    "display(output_ticker)"
   ],
   "metadata": {
    "collapsed": false,
    "pycharm": {
     "name": "#%%\n"
    }
   }
  },
  {
   "cell_type": "markdown",
   "source": [
    "#### Cumulative Returns"
   ],
   "metadata": {
    "collapsed": false
   }
  },
  {
   "cell_type": "code",
   "execution_count": null,
   "outputs": [],
   "source": [
    "# Cumulative Return\n",
    "def cumulative_return(df, start_date=None):\n",
    "    if start_date is None:\n",
    "        cr_df = (df.iloc[-1] / df.iloc[0]) - 1\n",
    "    else:\n",
    "        cr_df = pd.DataFrame(pd.DataFrame(index=df.columns, columns=['cumulative_return']))\n",
    "        cr_df.index.name = 'symbol'\n",
    "        for sym in df.columns:\n",
    "            cr_df.loc[sym, 'cumulative_return'] = (df.loc[:, sym].iloc[-1] / df.loc[:, sym].loc[start_date.loc[sym,:].start_date]) - 1\n",
    "    return cr_df \n",
    "            \n",
    "\n",
    "cr = cumulative_return(sp500_adj_close_df, start_date=yahoo_sp500_adj_close_start_date_df)\n",
    "print(cr.sort_values(by='cumulative_return', ascending=False).head(50))\n",
    "cr_highest_25 = cr.sort_values(by='cumulative_return', ascending=False).iloc[:25, :].index.values.tolist()\n"
   ],
   "metadata": {
    "collapsed": false,
    "pycharm": {
     "name": "#%%\n"
    }
   }
  },
  {
   "cell_type": "markdown",
   "source": [
    "#### Expected Annualized Return"
   ],
   "metadata": {
    "collapsed": false
   }
  },
  {
   "cell_type": "code",
   "execution_count": null,
   "outputs": [],
   "source": [
    "# Annualizes Return\n",
    "def annualized_return(df, start_date=None):\n",
    "    if start_date is None:\n",
    "        ar_df = ((df.iloc[-1] / df.iloc[0]) ** (252 / df.count())) - 1\n",
    "    else:\n",
    "        ar_df = pd.DataFrame(pd.DataFrame(index=df.columns, columns=['annualized_return']))\n",
    "        ar_df.index.name = 'symbol'\n",
    "        for sym in df.columns:\n",
    "            ar_df.loc[sym, 'annualized_return'] = ((df.loc[:, sym].iloc[-1] / df.loc[:, sym].loc[start_date.loc[sym,:].start_date]) ** (252 / df[sym].dropna().shape[0])) - 1\n",
    "    return ar_df * 100\n",
    "\n",
    "            \n",
    "\n",
    "# annualized_return = annualized_return(sp500_adj_close_df)#, start_date=yahoo_sp500_adj_close_start_date_df)\n",
    "ar = annualized_return(sp500_adj_close_df, start_date=yahoo_sp500_adj_close_start_date_df)\n",
    "print(ar.sort_values(by='annualized_return', ascending=False).head(50))\n"
   ],
   "metadata": {
    "collapsed": false,
    "pycharm": {
     "name": "#%%\n"
    }
   }
  },
  {
   "cell_type": "markdown",
   "source": [
    "#### Daily Returns"
   ],
   "metadata": {
    "collapsed": false
   }
  },
  {
   "cell_type": "code",
   "execution_count": null,
   "outputs": [],
   "source": [
    "# Calculate daily percentage returns  \n",
    "def daily_returns(df):\n",
    "    return df.pct_change() * 100\n",
    "\n",
    "dr = daily_returns(sp500_adj_close_df) \n",
    "print(dr.head())"
   ],
   "metadata": {
    "collapsed": false,
    "pycharm": {
     "name": "#%%\n"
    }
   }
  },
  {
   "cell_type": "markdown",
   "source": [
    "#### Mean Daily Returns for Each Stock"
   ],
   "metadata": {
    "collapsed": false
   }
  },
  {
   "cell_type": "code",
   "execution_count": null,
   "outputs": [],
   "source": [
    "# Calculate individual mean returns for each stock\n",
    "def daily_returns_mean(df, daily_return=True):\n",
    "    if daily_return:\n",
    "        return df.mean()\n",
    "    return daily_returns(df).mean()\n",
    "        \n",
    "\n",
    "mdr_s = daily_returns_mean(dr, daily_return=True)\n",
    "mdr_s.name = 'mean_daily_return'\n",
    "mdr = mdr_s.to_frame()\n",
    "print(mdr.sort_values(by='mean_daily_return', ascending=False).head(50))\n",
    "mdr_highest_25 = mdr.sort_values(by='mean_daily_return', ascending=False).iloc[:25, :].index.values.tolist()"
   ],
   "metadata": {
    "collapsed": false,
    "pycharm": {
     "name": "#%%\n"
    }
   }
  },
  {
   "cell_type": "markdown",
   "source": [
    "#### Standard Deviation of Daily Returns for Each Stock"
   ],
   "metadata": {
    "collapsed": false
   }
  },
  {
   "cell_type": "code",
   "execution_count": null,
   "outputs": [],
   "source": [
    "# Calculate individual std of daily returns for each stock\n",
    "def daily_returns_std(df, daily_return=True):\n",
    "    if daily_return:\n",
    "        return df.std()\n",
    "    return daily_returns(df).std()\n",
    "\n",
    "sdr_s = daily_returns_std(dr, daily_return=True)\n",
    "sdr_s.name = 'std_daily_return'\n",
    "sdr = sdr_s.to_frame()\n",
    "print('25 Highest Risk to Lower Risk')\n",
    "print(sdr.sort_values(by='std_daily_return', ascending=False).head(25))\n",
    "print('----------------------------------')\n",
    "print('25 Lowest Risk to Higher Risk')\n",
    "print(sdr.sort_values(by='std_daily_return', ascending=True).head(25))\n"
   ],
   "metadata": {
    "collapsed": false,
    "pycharm": {
     "name": "#%%\n"
    }
   }
  },
  {
   "cell_type": "markdown",
   "source": [
    "### Plot S&P 500 \n",
    "- Simple Moving Average\n",
    "- Moving Average Convergence Divergence\n",
    "- Adj Close Daily Return Histogram"
   ],
   "metadata": {
    "collapsed": false
   }
  },
  {
   "cell_type": "code",
   "execution_count": null,
   "outputs": [],
   "source": [
    "left, width = .25, .6\n",
    "bottom, height = .25, .6\n",
    "right = left + width\n",
    "top = bottom + height\n",
    "\n",
    "def simpleMovingAverage(values_df, window):\n",
    "    return values_df.rolling(window=window).mean()\n",
    "\n",
    "def expMovingAverage(values_df, window):\n",
    "    return pd.Series.ewm(values_df, span=window, adjust=False).mean()\n",
    "\n",
    "\n",
    "def movingAverageConvergenceDivergence(values_df, window_1 = 12, window_2 = 26, macd_signal_window=9):\n",
    "    ema12 = expMovingAverage(values_df, window_1)\n",
    "    ema26 = expMovingAverage(values_df, window_2)\n",
    "    macd = ema12 - ema26\n",
    "    macd_signal = expMovingAverage(macd, macd_signal_window)\n",
    "    macd_hist = macd - macd_signal\n",
    "    return macd, macd_signal, macd_hist\n",
    "\n",
    "def plot_daily_return_hist(ticker):\n",
    "    \n",
    "    sp500_14_day_moving_average_df = simpleMovingAverage(sp500_adj_close_df, 14)\n",
    "    sp500_50_day_moving_average_df = simpleMovingAverage(sp500_adj_close_df, 50)\n",
    "\n",
    "    sp500_macd_df_window, sp500_macd_signal_df_window, sp500_macd_hist_df_window = movingAverageConvergenceDivergence(sp500_adj_close_df)\n",
    "    \n",
    "    fig, (ax1, ax2, ax3) = plt.subplots(3, figsize=(20, 16))\n",
    "    ax1.set_title(f\"Stock Price & SMA ({ticker})\", fontsize=s[1])\n",
    "    ax1.set_ylabel(f\"Price\", fontsize=s[2])\n",
    "    ax1.plot(sp500_adj_close_df.index.values, sp500_adj_close_df[ticker], label='Adj. Close', linewidth=w[3], color=c[1])\n",
    "    ax1.plot(sp500_14_day_moving_average_df.index.values, sp500_14_day_moving_average_df[ticker], label='14 Day SMA', linewidth=w[3], color=c[2])\n",
    "    ax1.plot(sp500_50_day_moving_average_df.index.values, sp500_50_day_moving_average_df[ticker], label='50 Day SMA', linewidth=w[3], color=c[3])\n",
    "    \n",
    "    ax1.legend(loc='upper left', title = 'Tickers')\n",
    "    ax1.grid(alpha=ga)\n",
    "    \n",
    "    \n",
    "    ax2.set_title(f\"MACD ({ticker})\", fontsize=s[1])\n",
    "    ax2.set_ylabel(f\"Price\", fontsize=s[2])\n",
    "    ax2.plot(sp500_macd_df_window.index.values, sp500_macd_df_window[ticker], label='MACD', linewidth=w[3], color=c[2])\n",
    "    ax2.plot(sp500_macd_signal_df_window.index.values, sp500_macd_signal_df_window[ticker], label='MACD Singnal', linewidth=w[3], color=c[3])\n",
    "    \n",
    "    ax2.legend(loc='upper left', title = 'Tickers')\n",
    "    ax2.grid(alpha=ga)\n",
    "    \n",
    "    ax3.set_title(f\"Daily Return ({ticker})\", fontsize=s[1])\n",
    "    ax3.set_ylabel(f\"Frequency\", fontsize=s[2])\n",
    "    \n",
    "    ax3.hist(dr[ticker], bins=50, label=ticker, linewidth=w[3], color=c[1])\n",
    "    \n",
    "    ax3.axvline(mdr.loc[ticker].values, color='red', linestyle='dashed', linewidth=2)\n",
    "    \n",
    "    # To plot the std lines we plot both the positive and negative values \n",
    "    ax3.axvline(sdr.loc[ticker].values, color='g', linestyle='dashed', linewidth=2)\n",
    "    ax3.axvline(-sdr.loc[ticker].values, color='g', linestyle='dashed', linewidth=2)\n",
    "\n",
    "\n",
    "    text = \"Daily Returns\\nMean: {}\\nSTD: +/- {}\\nSkew: {}\\nKurtosis: {}\".format(round(mdr.loc[ticker].values[0], 4), round(sdr.loc[ticker].values[0], 4), round(dr[ticker].skew(), 4), round(dr[ticker].kurtosis(), 4))\n",
    "    ax3.text(right, top, text,\n",
    "        fontsize='large',\n",
    "        horizontalalignment='right',\n",
    "        verticalalignment='top',\n",
    "        transform=ax3.transAxes)\n",
    "    \n",
    "    ax3.legend(loc='upper left', title = 'Tickers')\n",
    "    ax3.grid(alpha=ga)\n",
    "    \n",
    "    plt.xticks(fontsize=s[3])\n",
    "    plt.yticks(fontsize=s[3])\n",
    "    plt.show()\n",
    "    \n",
    "    return \n",
    "\n",
    "interact(plot_daily_return_hist, \n",
    "         ticker=sp500_adj_close_df);\n",
    "\n",
    "\n"
   ],
   "metadata": {
    "collapsed": false,
    "pycharm": {
     "name": "#%%\n"
    }
   }
  },
  {
   "cell_type": "code",
   "execution_count": null,
   "outputs": [],
   "source": [
    "dr_cov_matrix = (dr.cov())*252\n",
    "dr_cov_matrix"
   ],
   "metadata": {
    "collapsed": false,
    "pycharm": {
     "name": "#%%\n"
    }
   }
  },
  {
   "cell_type": "code",
   "execution_count": null,
   "outputs": [],
   "source": [
    "returns_fig = sns.PairGrid(sp500_adj_close_df[cr_highest_25])\n",
    "returns_fig.map_upper(plt.scatter,color='purple')\n",
    "returns_fig.map_lower(sns.kdeplot,cmap='cool_d')\n",
    "returns_fig.map_diag(plt.hist,bins=50)"
   ],
   "metadata": {
    "collapsed": false,
    "pycharm": {
     "name": "#%%\n"
    }
   }
  },
  {
   "cell_type": "code",
   "execution_count": null,
   "outputs": [],
   "source": [
    "returns_fig = sns.PairGrid(dr[mdr_highest_25].dropna())\n",
    "returns_fig.map_upper(plt.scatter,color='purple')\n",
    "returns_fig.map_lower(sns.kdeplot,cmap='cool_d')\n",
    "returns_fig.map_diag(plt.hist,bins=50)"
   ],
   "metadata": {
    "collapsed": false,
    "pycharm": {
     "name": "#%%\n"
    }
   }
  },
  {
   "cell_type": "code",
   "execution_count": null,
   "outputs": [],
   "source": [
    "# Correlation plot for the closing price\n",
    "fig, ax = plt.subplots(figsize=(20,20))\n",
    "sns.heatmap(sp500_adj_close_df[cr_highest_25].corr(), annot=True, vmin=-1.0, vmax=1.0, cmap='RdBu',ax=ax)"
   ],
   "metadata": {
    "collapsed": false,
    "pycharm": {
     "name": "#%%\n"
    }
   }
  },
  {
   "cell_type": "code",
   "execution_count": null,
   "outputs": [],
   "source": [
    "# Correlation plot for the daily returns\n",
    "fig, ax = plt.subplots(figsize=(20,20))\n",
    "sns.heatmap(dr[mdr_highest_25].corr(), annot=True, vmin=-1.0, vmax=1.0, cmap='RdBu',ax=ax)"
   ],
   "metadata": {
    "collapsed": false,
    "pycharm": {
     "name": "#%%\n"
    }
   }
  },
  {
   "cell_type": "code",
   "execution_count": null,
   "outputs": [],
   "source": [
    "rets = dr[mdr_highest_25].dropna()\n",
    "plt.figure(figsize=(12, 10))\n",
    "plt.scatter( rets.std(), rets.mean(), s=80)\n",
    "plt.ylabel('Expected return')\n",
    "plt.xlabel('Risk')\n",
    "for label, x, y in zip(rets.columns, rets.std(), rets.mean()):\n",
    "    plt.annotate(label, xy=(x, y), xytext=(50, 50), textcoords='offset points', ha='right', va='bottom',\n",
    "    arrowprops=dict(arrowstyle='-', color='blue', connectionstyle='arc3,rad=-0.3'))"
   ],
   "metadata": {
    "collapsed": false,
    "pycharm": {
     "name": "#%%\n"
    }
   }
  },
  {
   "cell_type": "code",
   "execution_count": null,
   "outputs": [],
   "source": [
    "# risk-free rate\n",
    "rfr = 0\n",
    "# Calculate the Sharpe ratio \n",
    "sr_s = (mdr['mean_daily_return'] - rfr)/sdr['std_daily_return']\n",
    "\n",
    "sr_s.name = 'sharpe_ratio'\n",
    "sr = sr_s.to_frame()\n",
    "\n",
    "print('25 Highest Risk to Lower Risk')\n",
    "sr_highest_25 = sr.sort_values(by='sharpe_ratio', ascending=False).head(25)\n",
    "print(sr_highest_25)\n",
    "print()\n",
    "sr_highest_25.sharpe_ratio[0:5]"
   ],
   "metadata": {
    "collapsed": false,
    "pycharm": {
     "name": "#%%\n"
    }
   }
  },
  {
   "cell_type": "code",
   "execution_count": null,
   "outputs": [],
   "source": [
    "# Calculate the Annualized Sharpe ratio \n",
    "ars_s = sr['sharpe_ratio'] * np.sqrt(252)\n",
    "ars_s.name = 'annualized_sharpe_ratio'\n",
    "sr = ars_s.to_frame()\n",
    "sr"
   ],
   "metadata": {
    "collapsed": false,
    "pycharm": {
     "name": "#%%\n"
    }
   }
  },
  {
   "cell_type": "code",
   "execution_count": null,
   "outputs": [],
   "source": [
    "left, width = .30 , .7\n",
    "bottom, height = .25, .7\n",
    "right = left + width\n",
    "top = bottom + height\n",
    "\n",
    "\n",
    "start_date = dt.datetime(1999, 1, 1)\n",
    "end_date = dt.datetime(start_date.year + 1, 1, 1)\n",
    "w = 4\n",
    "h = 5\n",
    "fig, ax = plt.subplots(w, h, figsize=(30, 20))\n",
    "\n",
    "for i in range(w):\n",
    "    for j in range(h):\n",
    "        dr_year = daily_returns(sp500_adj_close_df.loc[start_date:end_date, :]).mean(1)[1:]\n",
    "        dr_year.name = 'dr'\n",
    "        dr_year = dr_year.to_frame()\n",
    "        mdr_year = round(dr_year.mean().values[0], 4)\n",
    "        sdr_year = round(dr_year.std().values[0], 4)\n",
    "        skew_year = round(dr_year.dr.skew(), 4)\n",
    "        kurtosis_year = round(dr_year.dr.kurtosis(), 4)\n",
    "        \n",
    "        \n",
    "        ax[i][j].set_title(f\"{str(start_date.year) + ' - ' + str(end_date.year)}\", fontsize=s[1])\n",
    "        ax[i][j].set_ylabel(f\"Frequency\", fontsize=s[2])\n",
    "        ax[i][j].set_ylim(0, 50)\n",
    "        ax[i][j].set_xlim(-12.0, 12.0)\n",
    "        ax[i][j].hist(dr_year, bins=30)\n",
    "        ax[i][j].axvline(mdr_year, color='red', linestyle='dashed', linewidth=2)\n",
    "\n",
    "        # To plot the std lines we plot both the positive and negative values \n",
    "        ax[i][j].axvline(sdr_year, color='g', linestyle='dashed', linewidth=2)\n",
    "        ax[i][j].axvline(-sdr_year, color='g', linestyle='dashed', linewidth=2)\n",
    "        \n",
    " \n",
    "        sr_s = (daily_returns_mean(sp500_adj_close_df.loc[start_date:end_date, :]) - rfr) / daily_returns_std(sp500_adj_close_df.loc[start_date:end_date, :]                                                                                                             )\n",
    "        sr_s.name = 'sharpe_ratio'\n",
    "        sr = sr_s.to_frame()   \n",
    "        sr_highest_25 = sr.sort_values(by='sharpe_ratio', ascending=False).head(25)\n",
    "        \n",
    "        text1 = \"\\nDaily Returns\\nMean: {}\\nSTD: +/- {}\\nSkew: {}\\nKurtosis: {}\".format(mdr_year, sdr_year, skew_year, kurtosis_year)\n",
    "        text2 = \"Top 5 Highest\\nSharpe Ratio:\\n{} - {}\\n{} - {}\\n{} - {}\\n{} - {}\\n{} - {}\\n\".format(\n",
    "            sr_highest_25.index[0],  round(sr_highest_25.sharpe_ratio[0], 2),\n",
    "            sr_highest_25.index[1],  round(sr_highest_25.sharpe_ratio[1], 2),\n",
    "            sr_highest_25.index[2],  round(sr_highest_25.sharpe_ratio[2], 2),\n",
    "            sr_highest_25.index[3],  round(sr_highest_25.sharpe_ratio[3], 2),\n",
    "            sr_highest_25.index[4],  round(sr_highest_25.sharpe_ratio[4], 2))\n",
    "        ax[i][j].text(right, top, text1,\n",
    "            fontsize='large',\n",
    "            horizontalalignment='right',\n",
    "            verticalalignment='top',\n",
    "            transform=ax[i][j].transAxes)\n",
    "        ax[i][j].text(left, top, text2,\n",
    "            fontsize='large',\n",
    "            horizontalalignment='right',\n",
    "            verticalalignment='top',\n",
    "            transform=ax[i][j].transAxes)\n",
    "\n",
    "              \n",
    "        start_date = dt.datetime(start_date.year + 1, 1, 1)\n",
    "        end_date = dt.datetime(end_date.year + 1, 1, 1)\n",
    "\n",
    "plt.show()"
   ],
   "metadata": {
    "collapsed": false,
    "pycharm": {
     "name": "#%%\n"
    }
   }
  },
  {
   "cell_type": "code",
   "execution_count": null,
   "outputs": [],
   "source": [],
   "metadata": {
    "collapsed": false,
    "pycharm": {
     "name": "#%%\n"
    }
   }
  },
  {
   "cell_type": "code",
   "execution_count": null,
   "outputs": [],
   "source": [],
   "metadata": {
    "collapsed": false,
    "pycharm": {
     "name": "#%%\n"
    }
   }
  }
 ],
 "metadata": {
  "kernelspec": {
   "display_name": "port-opt-py38",
   "language": "python",
   "name": "port-opt-py38"
  },
  "language_info": {
   "codemirror_mode": {
    "name": "ipython",
    "version": 3
   },
   "file_extension": ".py",
   "mimetype": "text/x-python",
   "name": "python",
   "nbconvert_exporter": "python",
   "pygments_lexer": "ipython3",
   "version": "3.8.0"
  }
 },
 "nbformat": 4,
 "nbformat_minor": 1
}