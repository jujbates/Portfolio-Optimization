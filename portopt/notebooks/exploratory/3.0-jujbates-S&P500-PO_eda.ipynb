{
 "cells": [
  {
   "cell_type": "markdown",
   "metadata": {},
   "source": [
    "**The Data Science Method**\n",
    "\n",
    "\n",
    "1.   [Problem Identification](https://medium.com/@aiden.dataminer/the-data-science-method-problem-identification-6ffcda1e5152)\n",
    "\n",
    "2.   [Data Wrangling](https://medium.com/@aiden.dataminer/the-data-science-method-dsm-data-collection-organization-and-definitions-d19b6ff141c4)\n",
    "  * Data Collection - Collected data from wikipedia and quandl wiki price dataset. The wikipedia showed us the currect S&P 500 companies and used their ticker symbols to query quandl wiki prices.\n",
    "  * Data Organization - Done using cookiecutter\n",
    "  * Data Definition\n",
    "  * Data Cleaning - The S&P 500 data from quandls wiki price is clean and ready for analysis use but has lost its support from Quandl community as of April 11, 2018. So we will use this dataset to setup the protfolio optimizer with proof of concept then use a different data source later for cost efficiencies.\n",
    "\n",
    "3.   [**Exploratory Data Analysis**](https://medium.com/@aiden.dataminer/the-data-science-method-dsm-exploratory-data-analysis-bc84d4d8d3f9)\n",
    " * Build data profile tables and plots\n",
    "        - Outliers & Anomalies\n",
    " * Explore data relationships\n",
    " * Identification and creation of features\n",
    "\n",
    "4.   [Pre-processing and Training Data Development](https://medium.com/@aiden.dataminer/the-data-science-method-dsm-pre-processing-and-training-data-development-fd2d75182967)\n",
    "  * Create dummy or indicator features for categorical variables\n",
    "  * Standardize the magnitude of numeric features\n",
    "  * Split into testing and training datasets\n",
    "  * Apply scaler to the testing set\n",
    "5.   [Modeling](https://medium.com/@aiden.dataminer/the-data-science-method-dsm-modeling-56b4233cad1b)\n",
    "  * Create dummy or indicator features for categorical variable\n",
    "  * Fit Models with Training Data Set\n",
    "  * Review Model Outcomes — Iterate over additional models as needed.\n",
    "  * Identify the Final Model\n",
    "\n",
    "6.   [Documentation](https://medium.com/@aiden.dataminer/the-data-science-method-dsm-documentation-c92c28bd45e6)\n",
    "\n",
    "  * Review the Results\n",
    "  * Present and share your findings - storytelling\n",
    "  * Finalize Code\n",
    "  * Finalize Documentation\n"
   ]
  },
  {
   "cell_type": "markdown",
   "metadata": {},
   "source": [
    "First, loads the needed packages and modules into Python. Then loads the data into a pandas dataframe for ease of use."
   ]
  },
  {
   "cell_type": "code",
   "execution_count": 1,
   "metadata": {
    "pycharm": {
     "name": "#%%\n"
    }
   },
   "outputs": [],
   "source": [
    "#load python packages\n",
    "import os\n",
    "import pandas as pd\n",
    "import datetime\n",
    "import seaborn as sns\n",
    "import matplotlib.pyplot as plt\n",
    "import matplotlib\n",
    "import numpy as np\n",
    "# import quandl\n",
    "import pandas as pd \n",
    "import numpy as np\n",
    "from scipy.stats import norm\n",
    "\n",
    "import dotenv\n",
    "import os\n",
    "\n",
    "from __future__ import print_function\n",
    "from ipywidgets import interact, interactive, fixed, interact_manual\n",
    "import ipywidgets as widgets\n",
    "%matplotlib inline\n",
    "\n"
   ]
  },
  {
   "cell_type": "code",
   "execution_count": 2,
   "metadata": {
    "pycharm": {
     "name": "#%%\n"
    }
   },
   "outputs": [
    {
     "name": "stdout",
     "output_type": "stream",
     "text": [
      "Current Directory: \n",
      "/Users/jb/Development/courses/springboard/ds/Assignments/Portfolio-Optimization/portopt/notebooks/exploratory\n"
     ]
    }
   ],
   "source": [
    "# prints current directory\n",
    "current_dir = os.getcwd()\n",
    "print(\"Current Directory: \")\n",
    "print(current_dir)"
   ]
  },
  {
   "cell_type": "code",
   "execution_count": 3,
   "metadata": {
    "pycharm": {
     "name": "#%%\n"
    }
   },
   "outputs": [
    {
     "name": "stdout",
     "output_type": "stream",
     "text": [
      "Parent Directory: \n",
      "/Users/jb/Development/courses/springboard/ds/Assignments/Portfolio-Optimization/portopt\n"
     ]
    }
   ],
   "source": [
    "# prints parent directory\n",
    "project_dir = os.path.abspath(os.path.join(os.path.join(current_dir, os.pardir), os.pardir))\n",
    "print(\"Parent Directory: \")\n",
    "print(project_dir)"
   ]
  },
  {
   "cell_type": "code",
   "execution_count": 4,
   "metadata": {
    "pycharm": {
     "name": "#%%\n"
    }
   },
   "outputs": [
    {
     "name": "stdout",
     "output_type": "stream",
     "text": [
      "['3.0-jujbates-S&P500-PO_eda.ipynb', '.DS_Store', '.ipynb_checkpoints', '3.0-jujbates-S&P500-PO_eda1.ipynb', '2.0-jujbates-S&P500-PO_data_wrangling.ipynb']\n"
     ]
    }
   ],
   "source": [
    "print(os.listdir())"
   ]
  },
  {
   "cell_type": "code",
   "execution_count": 5,
   "metadata": {},
   "outputs": [],
   "source": [
    "plt.style.use('dark_background')\n",
    "c = ['white', 'springgreen', 'fuchsia', 'lightcoral', 'red'] # Color\n",
    "s = [24, 20, 16, 12]  # Size\n",
    "w = [0.75, 1, 1.25, 1.50] # Line Width\n",
    "ga = 0.10 # Grid Alpha"
   ]
  },
  {
   "cell_type": "code",
   "execution_count": 6,
   "metadata": {
    "pycharm": {
     "name": "#%%\n"
    }
   },
   "outputs": [],
   "source": [
    "sp_df = pd.read_csv(project_dir + '/data/interim/'+ 'yahoo_sp500_adj_close_interim.csv', index_col=['date'])\n",
    "\n",
    "sp_wiki_df =  pd.read_csv(project_dir + '/data/interim/'+ 'wiki_sp500_interim.csv', index_col=['Symbol'])\n",
    "sp_slick_df = pd.read_csv(project_dir + '/data/interim/'+ 'slick_sp500_interim.csv', index_col=['#'])\n",
    "\n"
   ]
  },
  {
   "cell_type": "code",
   "execution_count": 7,
   "metadata": {},
   "outputs": [
    {
     "name": "stdout",
     "output_type": "stream",
     "text": [
      "<class 'pandas.core.frame.DataFrame'>\n",
      "Index: 252 entries, 2019-01-02 to 2019-12-31\n",
      "Columns: 495 entries, F to NVR\n",
      "dtypes: float64(495)\n",
      "memory usage: 976.5+ KB\n"
     ]
    }
   ],
   "source": [
    "sp_df.info()"
   ]
  },
  {
   "cell_type": "code",
   "execution_count": 8,
   "metadata": {},
   "outputs": [
    {
     "data": {
      "text/html": [
       "<div>\n",
       "<style scoped>\n",
       "    .dataframe tbody tr th:only-of-type {\n",
       "        vertical-align: middle;\n",
       "    }\n",
       "\n",
       "    .dataframe tbody tr th {\n",
       "        vertical-align: top;\n",
       "    }\n",
       "\n",
       "    .dataframe thead th {\n",
       "        text-align: right;\n",
       "    }\n",
       "</style>\n",
       "<table border=\"1\" class=\"dataframe\">\n",
       "  <thead>\n",
       "    <tr style=\"text-align: right;\">\n",
       "      <th></th>\n",
       "      <th>Company</th>\n",
       "      <th>Symbol</th>\n",
       "      <th>Weight</th>\n",
       "      <th>Price</th>\n",
       "      <th>Chg</th>\n",
       "      <th>% Chg</th>\n",
       "    </tr>\n",
       "    <tr>\n",
       "      <th>#</th>\n",
       "      <th></th>\n",
       "      <th></th>\n",
       "      <th></th>\n",
       "      <th></th>\n",
       "      <th></th>\n",
       "      <th></th>\n",
       "    </tr>\n",
       "  </thead>\n",
       "  <tbody>\n",
       "    <tr>\n",
       "      <th>1</th>\n",
       "      <td>Apple Inc.</td>\n",
       "      <td>AAPL</td>\n",
       "      <td>6.499271</td>\n",
       "      <td>115.09</td>\n",
       "      <td>0.05</td>\n",
       "      <td>(0.04%)</td>\n",
       "    </tr>\n",
       "    <tr>\n",
       "      <th>2</th>\n",
       "      <td>Microsoft Corporation</td>\n",
       "      <td>MSFT</td>\n",
       "      <td>5.679779</td>\n",
       "      <td>217.00</td>\n",
       "      <td>0.77</td>\n",
       "      <td>(0.36%)</td>\n",
       "    </tr>\n",
       "    <tr>\n",
       "      <th>3</th>\n",
       "      <td>Amazon.com Inc.</td>\n",
       "      <td>AMZN</td>\n",
       "      <td>4.723456</td>\n",
       "      <td>3215.00</td>\n",
       "      <td>10.60</td>\n",
       "      <td>(0.33%)</td>\n",
       "    </tr>\n",
       "    <tr>\n",
       "      <th>4</th>\n",
       "      <td>Facebook Inc. Class A</td>\n",
       "      <td>FB</td>\n",
       "      <td>2.335458</td>\n",
       "      <td>286.30</td>\n",
       "      <td>1.51</td>\n",
       "      <td>(0.53%)</td>\n",
       "    </tr>\n",
       "    <tr>\n",
       "      <th>5</th>\n",
       "      <td>Alphabet Inc. Class A</td>\n",
       "      <td>GOOGL</td>\n",
       "      <td>1.686059</td>\n",
       "      <td>1636.50</td>\n",
       "      <td>3.52</td>\n",
       "      <td>(0.22%)</td>\n",
       "    </tr>\n",
       "    <tr>\n",
       "      <th>...</th>\n",
       "      <td>...</td>\n",
       "      <td>...</td>\n",
       "      <td>...</td>\n",
       "      <td>...</td>\n",
       "      <td>...</td>\n",
       "      <td>...</td>\n",
       "    </tr>\n",
       "    <tr>\n",
       "      <th>501</th>\n",
       "      <td>HollyFrontier Corporation</td>\n",
       "      <td>HFC</td>\n",
       "      <td>0.010314</td>\n",
       "      <td>20.39</td>\n",
       "      <td>0.00</td>\n",
       "      <td>(0.00%)</td>\n",
       "    </tr>\n",
       "    <tr>\n",
       "      <th>502</th>\n",
       "      <td>TechnipFMC Plc</td>\n",
       "      <td>FTI</td>\n",
       "      <td>0.010055</td>\n",
       "      <td>6.47</td>\n",
       "      <td>0.00</td>\n",
       "      <td>(0.00%)</td>\n",
       "    </tr>\n",
       "    <tr>\n",
       "      <th>503</th>\n",
       "      <td>Under Armour Inc. Class A</td>\n",
       "      <td>UAA</td>\n",
       "      <td>0.008978</td>\n",
       "      <td>14.66</td>\n",
       "      <td>0.00</td>\n",
       "      <td>(0.00%)</td>\n",
       "    </tr>\n",
       "    <tr>\n",
       "      <th>504</th>\n",
       "      <td>Under Armour Inc. Class C</td>\n",
       "      <td>UA</td>\n",
       "      <td>0.008397</td>\n",
       "      <td>12.77</td>\n",
       "      <td>0.03</td>\n",
       "      <td>(0.24%)</td>\n",
       "    </tr>\n",
       "    <tr>\n",
       "      <th>505</th>\n",
       "      <td>News Corporation Class B</td>\n",
       "      <td>NWS</td>\n",
       "      <td>0.005973</td>\n",
       "      <td>13.91</td>\n",
       "      <td>0.00</td>\n",
       "      <td>(0.00%)</td>\n",
       "    </tr>\n",
       "  </tbody>\n",
       "</table>\n",
       "<p>505 rows × 6 columns</p>\n",
       "</div>"
      ],
      "text/plain": [
       "                       Company Symbol    Weight    Price    Chg    % Chg\n",
       "#                                                                       \n",
       "1                   Apple Inc.   AAPL  6.499271   115.09   0.05  (0.04%)\n",
       "2        Microsoft Corporation   MSFT  5.679779   217.00   0.77  (0.36%)\n",
       "3              Amazon.com Inc.   AMZN  4.723456  3215.00  10.60  (0.33%)\n",
       "4        Facebook Inc. Class A     FB  2.335458   286.30   1.51  (0.53%)\n",
       "5        Alphabet Inc. Class A  GOOGL  1.686059  1636.50   3.52  (0.22%)\n",
       "..                         ...    ...       ...      ...    ...      ...\n",
       "501  HollyFrontier Corporation    HFC  0.010314    20.39   0.00  (0.00%)\n",
       "502             TechnipFMC Plc    FTI  0.010055     6.47   0.00  (0.00%)\n",
       "503  Under Armour Inc. Class A    UAA  0.008978    14.66   0.00  (0.00%)\n",
       "504  Under Armour Inc. Class C     UA  0.008397    12.77   0.03  (0.24%)\n",
       "505   News Corporation Class B    NWS  0.005973    13.91   0.00  (0.00%)\n",
       "\n",
       "[505 rows x 6 columns]"
      ]
     },
     "execution_count": 8,
     "metadata": {},
     "output_type": "execute_result"
    }
   ],
   "source": [
    "sp_slick_df"
   ]
  },
  {
   "cell_type": "code",
   "execution_count": 9,
   "metadata": {},
   "outputs": [
    {
     "data": {
      "text/plain": [
       "Index(['2019-01-02', '2019-01-03', '2019-01-04', '2019-01-07', '2019-01-08',\n",
       "       '2019-01-09', '2019-01-10', '2019-01-11', '2019-01-14', '2019-01-15',\n",
       "       ...\n",
       "       '2019-12-17', '2019-12-18', '2019-12-19', '2019-12-20', '2019-12-23',\n",
       "       '2019-12-24', '2019-12-26', '2019-12-27', '2019-12-30', '2019-12-31'],\n",
       "      dtype='object', name='date', length=252)"
      ]
     },
     "execution_count": 9,
     "metadata": {},
     "output_type": "execute_result"
    }
   ],
   "source": [
    "sp_df.index"
   ]
  },
  {
   "cell_type": "code",
   "execution_count": 10,
   "metadata": {},
   "outputs": [
    {
     "data": {
      "text/plain": [
       "DatetimeIndex(['2019-01-02', '2019-01-03', '2019-01-04', '2019-01-07',\n",
       "               '2019-01-08', '2019-01-09', '2019-01-10', '2019-01-11',\n",
       "               '2019-01-14', '2019-01-15',\n",
       "               ...\n",
       "               '2019-12-17', '2019-12-18', '2019-12-19', '2019-12-20',\n",
       "               '2019-12-23', '2019-12-24', '2019-12-26', '2019-12-27',\n",
       "               '2019-12-30', '2019-12-31'],\n",
       "              dtype='datetime64[ns]', name='date', length=252, freq=None)"
      ]
     },
     "execution_count": 10,
     "metadata": {},
     "output_type": "execute_result"
    }
   ],
   "source": [
    "sp_df.index = pd.to_datetime(sp_df.index)\n",
    "sp_df.index"
   ]
  },
  {
   "cell_type": "code",
   "execution_count": 11,
   "metadata": {},
   "outputs": [
    {
     "name": "stdout",
     "output_type": "stream",
     "text": [
      "<class 'pandas.core.frame.DataFrame'>\n",
      "DatetimeIndex: 252 entries, 2019-01-02 to 2019-12-31\n",
      "Columns: 495 entries, F to NVR\n",
      "dtypes: float64(495)\n",
      "memory usage: 976.5 KB\n"
     ]
    }
   ],
   "source": [
    "sp_df.info()"
   ]
  },
  {
   "cell_type": "code",
   "execution_count": 12,
   "metadata": {
    "scrolled": false
   },
   "outputs": [
    {
     "data": {
      "application/vnd.jupyter.widget-view+json": {
       "model_id": "8442be8095ae4ee4a5a7085246af9627",
       "version_major": 2,
       "version_minor": 0
      },
      "text/plain": [
       "interactive(children=(Dropdown(description='sector', options=('F', 'AMCR', 'GE', 'FCX', 'NWSA', 'NWS', 'HBAN',…"
      ]
     },
     "metadata": {},
     "output_type": "display_data"
    }
   ],
   "source": [
    "def _plot_adj_close(ax, df, df_cols, ticker, title=None, ylabel=None):\n",
    "    ax.set_title(title, fontsize=s[1])\n",
    "    ax.set_ylabel(ylabel, fontsize=s[2])\n",
    "    ax.plot(df.index.values, df.iloc[:,:100], linewidth=w[0], color=c[0], alpha=0.15)\n",
    "    ax.plot(df.index.values, df[ticker], label=ticker, linewidth=w[3], color=c[2])\n",
    "    \n",
    "    ax.legend(loc='upper left', title = 'Tickers')\n",
    "    ax.grid(alpha=ga)\n",
    "\n",
    "\n",
    "def plot_sector_adj_close(sector, ticker):\n",
    "    \n",
    "    fig, (ax1) = plt.subplots(1, figsize=(20, 24))\n",
    "\n",
    "    _plot_adj_close(ax1, sp_df, sp_df.loc[:,ticker], ticker,\n",
    "                   f\"S&P 500 Stocks ({sector} - {ticker})\",\n",
    "                   f\"Price\")\n",
    "    \n",
    "    plt.xticks(fontsize=s[3])\n",
    "    plt.yticks(fontsize=s[3])\n",
    "    plt.show()\n",
    "    return \n",
    "\n",
    "interact(plot_sector_adj_close, \n",
    "         sector=sp_df, \n",
    "         ticker=sp_df);\n",
    "\n"
   ]
  },
  {
   "cell_type": "code",
   "execution_count": 13,
   "metadata": {},
   "outputs": [
    {
     "data": {
      "application/vnd.jupyter.widget-view+json": {
       "model_id": "5205dbe7aa994e1e99a8df3599d8e5bf",
       "version_major": 2,
       "version_minor": 0
      },
      "text/plain": [
       "interactive(children=(Dropdown(description='ticker', options=('F', 'AMCR', 'GE', 'FCX', 'NWSA', 'NWS', 'HBAN',…"
      ]
     },
     "metadata": {},
     "output_type": "display_data"
    }
   ],
   "source": [
    "\n",
    "def plot_adj_close_daily_return_hist(ticker):\n",
    "    \n",
    "    sp_daily_lag_df = sp_df.shift(1)\n",
    "    sp_dr_df = (sp_daily_lag_df/sp_df) - 1\n",
    "\n",
    "    \n",
    "    mean = sp_dr_df.mean()\n",
    "    \n",
    "    \n",
    "    std = sp_dr_df.std()\n",
    "\n",
    "    fig, (ax1, ax2) = plt.subplots(2, figsize=(20, 16))\n",
    "    ax1.set_title(f\"S&P 500 Stocks ({ticker})\", fontsize=s[1])\n",
    "    ax1.set_ylabel(f\"Price\", fontsize=s[2])\n",
    "    ax1.plot(sp_df.index.values, sp_df[ticker], label=ticker, linewidth=w[3], color=c[2])\n",
    "    \n",
    "    ax1.legend(loc='upper left', title = 'Tickers')\n",
    "    ax1.grid(alpha=ga)\n",
    "    \n",
    "    ax2.set_title(f\"S&P 500 Stocks ({ticker})\", fontsize=s[1])\n",
    "    ax2.set_ylabel(f\"Price\", fontsize=s[2])\n",
    "    \n",
    "    ax2.hist(sp_dr_df[ticker], bins=50, label=ticker, linewidth=w[3], color=c[1])\n",
    "    \n",
    "    ax2.axvline(mean[ticker], color='red', linestyle='dashed', linewidth=2)\n",
    "    #to plot the std line we plot both the positive and negative values \n",
    "    ax2.axvline(std[ticker], color='g', linestyle='dashed', linewidth=2)\n",
    "    ax2.axvline(-std[ticker], color='g', linestyle='dashed', linewidth=2)\n",
    "\n",
    "    ax2.legend(loc='upper left', title = 'Tickers')\n",
    "    ax2.grid(alpha=ga)\n",
    "    \n",
    "    plt.xticks(fontsize=s[3])\n",
    "    plt.yticks(fontsize=s[3])\n",
    "    plt.show()\n",
    "    \n",
    "    return \n",
    "\n",
    "interact(plot_adj_close_daily_return_hist, \n",
    "         ticker=sp_df);\n",
    "\n"
   ]
  },
  {
   "cell_type": "markdown",
   "metadata": {},
   "source": [
    "#### Cumulative Returns"
   ]
  },
  {
   "cell_type": "code",
   "execution_count": 14,
   "metadata": {},
   "outputs": [
    {
     "data": {
      "text/plain": [
       "F       0.277604\n",
       "AMCR    0.230817\n",
       "GE      0.447578\n",
       "FCX     0.289625\n",
       "NWSA    0.259801\n",
       "dtype: float64"
      ]
     },
     "execution_count": 14,
     "metadata": {},
     "output_type": "execute_result"
    }
   ],
   "source": [
    "# Cumulative Return\n",
    "def cumulative_return(df):\n",
    "    return (df.iloc[-1,:] / df.iloc[0,:]) - 1\n",
    "\n",
    "sp_cr = cumulative_return(sp_df)\n",
    "sp_cr.head()"
   ]
  },
  {
   "cell_type": "code",
   "execution_count": null,
   "metadata": {},
   "outputs": [],
   "source": []
  },
  {
   "cell_type": "code",
   "execution_count": 15,
   "metadata": {},
   "outputs": [],
   "source": [
    "# Calculate percentage returns\n",
    "returns = sp_df.pct_change()"
   ]
  },
  {
   "cell_type": "code",
   "execution_count": 16,
   "metadata": {},
   "outputs": [],
   "source": [
    "# Calculate individual mean returns \n",
    "meanDailyReturns = returns.mean()"
   ]
  },
  {
   "cell_type": "code",
   "execution_count": 17,
   "metadata": {},
   "outputs": [],
   "source": [
    "# Define weights for the portfolio\n",
    "weights = np.array([100 / sp_df.shape[1] for x in range(sp_df.shape[1])])"
   ]
  },
  {
   "cell_type": "code",
   "execution_count": 18,
   "metadata": {},
   "outputs": [],
   "source": [
    "# Calculate expected portfolio performance\n",
    "portReturn = np.sum(meanDailyReturns * weights)"
   ]
  },
  {
   "cell_type": "code",
   "execution_count": 19,
   "metadata": {},
   "outputs": [],
   "source": [
    "# Create portfolio returns column\n",
    "returns['Portfolio'] = returns.dot(weights)"
   ]
  },
  {
   "cell_type": "code",
   "execution_count": null,
   "metadata": {},
   "outputs": [],
   "source": []
  },
  {
   "cell_type": "code",
   "execution_count": 20,
   "metadata": {},
   "outputs": [],
   "source": [
    "# Calculate cumulative returns\n",
    "daily_cum_ret=(1+returns).cumprod()"
   ]
  },
  {
   "cell_type": "code",
   "execution_count": 21,
   "metadata": {},
   "outputs": [
    {
     "data": {
      "image/png": "[encoded data removed]",
      "text/plain": [
       "<Figure size 1440x576 with 1 Axes>"
      ]
     },
     "metadata": {},
     "output_type": "display_data"
    }
   ],
   "source": [
    "# Plot the portfolio cumulative returns only\n",
    "# fig, ax = plt.subplots()\n",
    "# ax.plot(daily_cum_ret.index, daily_cum_ret.Portfolio, color=c[2], label=\"Portfolio\")\n",
    "# plt.legend()\n",
    "# plt.show()\n",
    "\n",
    "\n",
    "\n",
    "fig, ax = plt.subplots(1, figsize=(20, 8))\n",
    "ax.set_title(\"title\", fontsize=s[1])\n",
    "ax.set_ylabel(\"ylabel\", fontsize=s[2])\n",
    "ax.plot(daily_cum_ret.index, daily_cum_ret.Portfolio, color=c[2], label=\"Portfolio\")\n",
    "\n",
    "ax.legend(loc='upper right')\n",
    "ax.grid(alpha=ga)"
   ]
  },
  {
   "cell_type": "code",
   "execution_count": 22,
   "metadata": {},
   "outputs": [
    {
     "name": "stdout",
     "output_type": "stream",
     "text": [
      "16143.72%\n",
      "1270.58%\n"
     ]
    }
   ],
   "source": [
    "# Get percentage daily returns\n",
    "daily_returns = sp_df.pct_change()\n",
    "\n",
    "# Calculate the covariance matrix \n",
    "cov_matrix = (daily_returns.cov())*252\n",
    "\n",
    "# Calculate the portfolio variance\n",
    "portfolio_variance = np.dot(weights.T, np.dot(cov_matrix, weights))\n",
    "\n",
    "# Print the result\n",
    "print(str(np.round(portfolio_variance, 4) * 100) + '%')\n",
    "\n",
    "# Calculate the standard deviation by taking the square root\n",
    "portfolio_standard_dev = np.sqrt(np.dot(weights.T, np.dot(cov_matrix, weights)))\n",
    "\n",
    "# Print the results \n",
    "print(str(np.round(portfolio_standard_dev, 4) * 100) + '%')\n"
   ]
  },
  {
   "cell_type": "code",
   "execution_count": 23,
   "metadata": {},
   "outputs": [
    {
     "name": "stdout",
     "output_type": "stream",
     "text": [
      "F        0.277604\n",
      "AMCR     0.230817\n",
      "GE       0.447578\n",
      "FCX      0.289625\n",
      "NWSA     0.259801\n",
      "           ...   \n",
      "GOOG     0.278405\n",
      "GOOGL    0.269949\n",
      "AMZN     0.200574\n",
      "BKNG     0.192850\n",
      "NVR      0.573190\n",
      "Length: 495, dtype: float64\n"
     ]
    }
   ],
   "source": [
    "# Calculate total rate of return from start to end\n",
    "total_return = (sp_df.iloc[-1,:] - sp_df.iloc[0,:]) / sp_df.iloc[0,:]\n",
    "print(total_return)"
   ]
  },
  {
   "cell_type": "code",
   "execution_count": 24,
   "metadata": {},
   "outputs": [
    {
     "name": "stdout",
     "output_type": "stream",
     "text": [
      "F             0.277604\n",
      "AMCR          0.230817\n",
      "GE            0.447578\n",
      "FCX           0.289625\n",
      "NWSA          0.259801\n",
      "               ...    \n",
      "GOOGL         0.269949\n",
      "AMZN          0.200574\n",
      "BKNG          0.192850\n",
      "NVR           0.573190\n",
      "Portfolio    32.267996\n",
      "Length: 496, dtype: float64\n"
     ]
    }
   ],
   "source": [
    "# Annualize return\n",
    "annualized_return = ((1 + total_return)**(12 / 12)) - 1\n",
    "annualized_return['Portfolio'] = annualized_return.dot(weights)\n",
    "print (annualized_return)"
   ]
  },
  {
   "cell_type": "code",
   "execution_count": 25,
   "metadata": {},
   "outputs": [
    {
     "name": "stdout",
     "output_type": "stream",
     "text": [
      "2.5396286759464766\n"
     ]
    }
   ],
   "source": [
    "# risk-free rate\n",
    "rfr = 0\n",
    "\n",
    "# Calculate annualized volatility from the standard deviation\n",
    "vol_sp500 = returns['Portfolio'].std() * np.sqrt(252)\n",
    "\n",
    "# Calculate the Sharpe ratio \n",
    "sharpe_ratio = ((annualized_return['Portfolio'] - rfr) / vol_sp500)\n",
    "print (sharpe_ratio)"
   ]
  },
  {
   "cell_type": "code",
   "execution_count": 26,
   "metadata": {},
   "outputs": [
    {
     "data": {
      "image/png": "[encoded data removed]",
      "text/plain": [
       "<Figure size 1440x1152 with 2 Axes>"
      ]
     },
     "metadata": {},
     "output_type": "display_data"
    }
   ],
   "source": [
    "\n",
    "fig, (ax1, ax2) = plt.subplots(2, figsize=(20, 16))\n",
    "ax1.set_title(f\"S&P 500 Stocks Returns (Portfolio)\", fontsize=s[1])\n",
    "ax1.set_ylabel(f\"Percentage of Change\", fontsize=s[2])\n",
    "ax1.plot(returns.index.values, returns.Portfolio*100, label='Portfolio', linewidth=w[3], color=c[2])\n",
    "\n",
    "ax1.legend(loc='upper left')\n",
    "ax1.grid(alpha=ga)\n",
    "\n",
    "\n",
    "returns_mean = returns.mean()\n",
    "returns_std = returns.std()\n",
    "\n",
    "ax2.set_title(f\"S&P 500 Stocks Returns Distribution (Portfolio)\", fontsize=s[1])\n",
    "ax2.set_ylabel(f\"Frequency\", fontsize=s[2])\n",
    "ax2.set_xlabel(f\"Percentage of Change\", fontsize=s[2])\n",
    "\n",
    "ax2.hist(returns.Portfolio*100, bins=50, label='Portfolio', linewidth=w[3], color=c[1])\n",
    "\n",
    "ax2.axvline(returns_mean.Portfolio*100, color='red', linestyle='dashed', linewidth=2)\n",
    "#to plot the std line we plot both the positive and negative values \n",
    "ax2.axvline(returns_std.Portfolio*100, color='g', linestyle='dashed', linewidth=2)\n",
    "ax2.axvline(-returns_std.Portfolio*100, color='g', linestyle='dashed', linewidth=2)\n",
    "\n",
    "ax2.legend(loc='upper left', title = 'Tickers')\n",
    "ax2.grid(alpha=ga)\n",
    "\n",
    "plt.xticks(fontsize=s[3])\n",
    "plt.yticks(fontsize=s[3])\n",
    "plt.show()\n"
   ]
  },
  {
   "cell_type": "code",
   "execution_count": null,
   "metadata": {},
   "outputs": [],
   "source": []
  },
  {
   "cell_type": "code",
   "execution_count": 27,
   "metadata": {},
   "outputs": [
    {
     "name": "stdout",
     "output_type": "stream",
     "text": [
      "Returns Skew: \n",
      "-0.583266264291717\n",
      "---------------------------------\n",
      "Returns Kurtosis: \n",
      "2.7614877057618377\n"
     ]
    }
   ],
   "source": [
    "returns_skew = returns.skew()\n",
    "returns_kurtosis = returns.kurtosis()\n",
    "\n",
    "print('Returns Skew: ')\n",
    "print(returns_skew.Portfolio)\n",
    "print('---------------------------------')\n",
    "print('Returns Kurtosis: ')\n",
    "print(returns_kurtosis.Portfolio)"
   ]
  },
  {
   "cell_type": "code",
   "execution_count": 28,
   "metadata": {},
   "outputs": [
    {
     "name": "stdout",
     "output_type": "stream",
     "text": [
      "Expected return  :  11.81922517931064\n",
      "Downside risk   :  63.389791269990944\n",
      "Sortino ratio :  0.18645313294959406\n"
     ]
    }
   ],
   "source": [
    "target = 0\n",
    "\n",
    "# Create a downside return column with the negative returns only\n",
    "downside_returns = returns.loc[returns.Portfolio < target]\n",
    "\n",
    "# Calculate expected return and std dev of downside\n",
    "expected_return_mean = returns.Portfolio.mean()\n",
    "downside_returns_std = downside_returns.Portfolio.std()\n",
    "\n",
    "# Calculate the sortino ratio\n",
    "sortino_ratio = (expected_return_mean - rfr)/downside_returns_std\n",
    "\n",
    "# Print the results\n",
    "print(\"Expected return  : \", expected_return_mean*100)\n",
    "print(\"Downside risk   : \", downside_returns_std*100)\n",
    "print(\"Sortino ratio : \", sortino_ratio)"
   ]
  },
  {
   "cell_type": "code",
   "execution_count": 29,
   "metadata": {},
   "outputs": [],
   "source": [
    "# Calculate the max value \n",
    "roll_max = sp_df.rolling(center=False, min_periods=1, window=252).max()\n",
    "\n",
    "# Calculate the daily draw-down relative to the max\n",
    "daily_draw_down = sp_df/roll_max - 1.0\n",
    "\n",
    "# Calculate the minimum (negative) daily draw-down\n",
    "max_daily_draw_down = daily_draw_down.rolling(center=False, min_periods=1, window=252).min()\n",
    "\n",
    "\n",
    "\n"
   ]
  },
  {
   "cell_type": "code",
   "execution_count": 30,
   "metadata": {},
   "outputs": [
    {
     "data": {
      "application/vnd.jupyter.widget-view+json": {
       "model_id": "b9069a1ca5f7462d91f643e4ee7222f8",
       "version_major": 2,
       "version_minor": 0
      },
      "text/plain": [
       "interactive(children=(Dropdown(description='ticker', options=('F', 'AMCR', 'GE', 'FCX', 'NWSA', 'NWS', 'HBAN',…"
      ]
     },
     "metadata": {},
     "output_type": "display_data"
    }
   ],
   "source": [
    "def plot_daily_down(ticker):\n",
    "\n",
    "    fig, ax1 = plt.subplots(1, figsize=(20, 16))\n",
    "    ax1.set_title(f\"S&P 500 Stocks ({ticker})\", fontsize=s[1])\n",
    "    ax1.set_ylabel(f\"Price\", fontsize=s[2])\n",
    "    # Plot the results\n",
    "    ax1.plot(sp_df.index.values, daily_draw_down[ticker], label='Daily drawdown')\n",
    "    ax1.plot(sp_df.index.values, max_daily_draw_down[ticker], label='Maximum daily drawdown in time-window')\n",
    "\n",
    "    ax1.legend(loc='upper right', title = 'Tickers')\n",
    "    ax1.grid(alpha=ga)\n",
    "    \n",
    "    return \n",
    "\n",
    "interact(plot_daily_down, \n",
    "         ticker=sp_df);\n",
    "\n"
   ]
  },
  {
   "cell_type": "code",
   "execution_count": 31,
   "metadata": {},
   "outputs": [
    {
     "data": {
      "text/plain": [
       "100.0"
      ]
     },
     "execution_count": 31,
     "metadata": {},
     "output_type": "execute_result"
    }
   ],
   "source": [
    "weights.sum()"
   ]
  },
  {
   "cell_type": "code",
   "execution_count": 35,
   "metadata": {},
   "outputs": [],
   "source": [
    "# Calculate return of the portfolio\n",
    "# total_return_pf = (weights*portfolio_data['mean_return']).sum()"
   ]
  },
  {
   "cell_type": "code",
   "execution_count": null,
   "outputs": [],
   "source": [],
   "metadata": {
    "collapsed": false,
    "pycharm": {
     "name": "#%%\n"
    }
   }
  },
  {
   "cell_type": "code",
   "execution_count": null,
   "metadata": {},
   "outputs": [],
   "source": []
  },
  {
   "cell_type": "code",
   "execution_count": null,
   "metadata": {},
   "outputs": [],
   "source": []
  }
 ],
 "metadata": {
  "kernelspec": {
   "display_name": "port-opt-py38",
   "language": "python",
   "name": "port-opt-py38"
  },
  "language_info": {
   "codemirror_mode": {
    "name": "ipython",
    "version": 3
   },
   "file_extension": ".py",
   "mimetype": "text/x-python",
   "name": "python",
   "nbconvert_exporter": "python",
   "pygments_lexer": "ipython3",
   "version": "3.8.0"
  }
 },
 "nbformat": 4,
 "nbformat_minor": 1
}