{
 "cells": [
  {
   "cell_type": "markdown",
   "metadata": {},
   "source": [
    "**The Data Science Method**\n",
    "\n",
    "\n",
    "1.   [Problem Identification](https://medium.com/@aiden.dataminer/the-data-science-method-problem-identification-6ffcda1e5152)\n",
    "\n",
    "2.   [Data Wrangling](https://medium.com/@aiden.dataminer/the-data-science-method-dsm-data-collection-organization-and-definitions-d19b6ff141c4)\n",
    "  * Data Collection - Collected data from wikipedia and quandl wiki price dataset. The wikipedia showed us the currect S&P 500 companies and used their ticker symbols to query quandl wiki prices.\n",
    "  * Data Organization - Done using cookiecutter\n",
    "  * Data Definition\n",
    "  * Data Cleaning - The S&P 500 data from quandls wiki price is clean and ready for analysis use but has lost its support from Quandl community as of April 11, 2018. So we will use this dataset to setup the protfolio optimizer with proof of concept then use a different data source later for cost efficiencies.\n",
    "\n",
    "3.   [**Exploratory Data Analysis**](https://medium.com/@aiden.dataminer/the-data-science-method-dsm-exploratory-data-analysis-bc84d4d8d3f9)\n",
    " * Build data profile tables and plots\n",
    "        - Outliers & Anomalies\n",
    " * Explore data relationships\n",
    " * Identification and creation of features\n",
    "\n",
    "4.   [Pre-processing and Training Data Development](https://medium.com/@aiden.dataminer/the-data-science-method-dsm-pre-processing-and-training-data-development-fd2d75182967)\n",
    "  * Create dummy or indicator features for categorical variables\n",
    "  * Standardize the magnitude of numeric features\n",
    "  * Split into testing and training datasets\n",
    "  * Apply scaler to the testing set\n",
    "5.   [Modeling](https://medium.com/@aiden.dataminer/the-data-science-method-dsm-modeling-56b4233cad1b)\n",
    "  * Create dummy or indicator features for categorical variable\n",
    "  * Fit Models with Training Data Set\n",
    "  * Review Model Outcomes — Iterate over additional models as needed.\n",
    "  * Identify the Final Model\n",
    "\n",
    "6.   [Documentation](https://medium.com/@aiden.dataminer/the-data-science-method-dsm-documentation-c92c28bd45e6)\n",
    "\n",
    "  * Review the Results\n",
    "  * Present and share your findings - storytelling\n",
    "  * Finalize Code\n",
    "  * Finalize Documentation\n"
   ]
  },
  {
   "cell_type": "markdown",
   "metadata": {},
   "source": [
    "First, loads the needed packages and modules into Python. Then loads the data into a pandas dataframe for ease of use."
   ]
  },
  {
   "cell_type": "code",
   "execution_count": 1,
   "metadata": {
    "pycharm": {
     "name": "#%%\n"
    }
   },
   "outputs": [
    {
     "ename": "ModuleNotFoundError",
     "evalue": "No module named 'portopt.src.get_data'",
     "output_type": "error",
     "traceback": [
      "\u001b[0;31m---------------------------------------------------------------------------\u001b[0m",
      "\u001b[0;31mModuleNotFoundError\u001b[0m                       Traceback (most recent call last)",
      "\u001b[0;32m<ipython-input-1-5ab1a25afcfa>\u001b[0m in \u001b[0;36m<module>\u001b[0;34m\u001b[0m\n\u001b[1;32m      8\u001b[0m \u001b[0;32mfrom\u001b[0m \u001b[0mscipy\u001b[0m\u001b[0;34m.\u001b[0m\u001b[0mstats\u001b[0m \u001b[0;32mimport\u001b[0m \u001b[0mnorm\u001b[0m\u001b[0;34m\u001b[0m\u001b[0;34m\u001b[0m\u001b[0m\n\u001b[1;32m      9\u001b[0m \u001b[0;34m\u001b[0m\u001b[0m\n\u001b[0;32m---> 10\u001b[0;31m \u001b[0;32mfrom\u001b[0m  \u001b[0mportopt\u001b[0m\u001b[0;34m.\u001b[0m\u001b[0msrc\u001b[0m\u001b[0;34m.\u001b[0m\u001b[0mget_data\u001b[0m \u001b[0;32mimport\u001b[0m \u001b[0mWikipediaData\u001b[0m\u001b[0;34m,\u001b[0m \u001b[0mSlickData\u001b[0m\u001b[0;34m,\u001b[0m \u001b[0mYahooFinanceData\u001b[0m\u001b[0;34m\u001b[0m\u001b[0;34m\u001b[0m\u001b[0m\n\u001b[0m\u001b[1;32m     11\u001b[0m \u001b[0;34m\u001b[0m\u001b[0m\n\u001b[1;32m     12\u001b[0m \u001b[0;34m\u001b[0m\u001b[0m\n",
      "\u001b[0;31mModuleNotFoundError\u001b[0m: No module named 'portopt.src.get_data'"
     ]
    }
   ],
   "source": [
    "#load python packages\n",
    "import os\n",
    "import pandas as pd\n",
    "import datetime\n",
    "import seaborn as sns\n",
    "import matplotlib.pyplot as plt\n",
    "import numpy as np\n",
    "from scipy.stats import norm\n",
    "\n",
    "from portopt.src.get_data import WikipediaData, SlickData, YahooFinanceData\n",
    "\n",
    "\n",
    "import ipywidgets as widgets\n",
    "%matplotlib inline\n",
    "\n"
   ]
  },
  {
   "cell_type": "code",
   "execution_count": 2,
   "metadata": {
    "pycharm": {
     "name": "#%%\n"
    }
   },
   "outputs": [
    {
     "name": "stdout",
     "output_type": "stream",
     "text": [
      "Current Directory: \n",
      "/Users/jb/Development/courses/springboard/ds/Assignments/Portfolio-Optimization/notebooks/exploratory\n"
     ]
    }
   ],
   "source": [
    "# prints current directory\n",
    "current_dir = os.getcwd()\n",
    "print(\"Current Directory: \")\n",
    "print(current_dir)"
   ]
  },
  {
   "cell_type": "code",
   "execution_count": 3,
   "metadata": {
    "pycharm": {
     "name": "#%%\n"
    }
   },
   "outputs": [
    {
     "name": "stdout",
     "output_type": "stream",
     "text": [
      "Parent Directory: \n",
      "/Users/jb/Development/courses/springboard/ds/Assignments/Portfolio-Optimization\n"
     ]
    }
   ],
   "source": [
    "# prints parent directory\n",
    "project_dir = os.path.abspath(os.path.join(os.path.join(current_dir, os.pardir), os.pardir))\n",
    "print(\"Parent Directory: \")\n",
    "print(project_dir)"
   ]
  },
  {
   "cell_type": "code",
   "execution_count": 4,
   "metadata": {
    "pycharm": {
     "name": "#%%\n"
    }
   },
   "outputs": [
    {
     "name": "stdout",
     "output_type": "stream",
     "text": [
      "['3.0-jujbates-S&P500-PO_eda.ipynb', '.DS_Store', '.ipynb_checkpoints', '2.0-jujbates-S&P500-PO_data_wrangling.ipynb']\n"
     ]
    }
   ],
   "source": [
    "print(os.listdir())"
   ]
  },
  {
   "cell_type": "code",
   "execution_count": 5,
   "metadata": {},
   "outputs": [],
   "source": [
    "plt.style.use('dark_background')\n",
    "c = ['white', 'springgreen', 'fuchsia', 'lightcoral', 'red'] # Color\n",
    "s = [24, 20, 16, 12]  # Size\n",
    "w = [0.75, 1, 1.25, 1.50] # Line Width\n",
    "ga = 0.10 # Grid Alpha"
   ]
  },
  {
   "cell_type": "code",
   "execution_count": null,
   "metadata": {
    "pycharm": {
     "name": "#%%\n"
    }
   },
   "outputs": [],
   "source": [
    "Uses "
   ]
  },
  {
   "cell_type": "code",
   "execution_count": null,
   "metadata": {},
   "outputs": [],
   "source": [
    "sp_df.info()"
   ]
  },
  {
   "cell_type": "code",
   "execution_count": null,
   "metadata": {},
   "outputs": [],
   "source": [
    "sp_slick_df"
   ]
  },
  {
   "cell_type": "code",
   "execution_count": null,
   "metadata": {},
   "outputs": [],
   "source": [
    "sp_df.index"
   ]
  },
  {
   "cell_type": "code",
   "execution_count": null,
   "metadata": {},
   "outputs": [],
   "source": [
    "sp_df.index = pd.to_datetime(sp_df.index)\n",
    "sp_df.index"
   ]
  },
  {
   "cell_type": "code",
   "execution_count": null,
   "metadata": {},
   "outputs": [],
   "source": [
    "sp_df.info()"
   ]
  },
  {
   "cell_type": "code",
   "execution_count": null,
   "metadata": {
    "scrolled": false
   },
   "outputs": [],
   "source": [
    "# def _plot_adj_close(ax, df, df_cols, ticker, title=None, ylabel=None):\n",
    "    ax.set_title(title, fontsize=s[1])\n",
    "    ax.set_ylabel(ylabel, fontsize=s[2])\n",
    "    ax.plot(df.index.values, df.iloc[:,:100], linewidth=w[0], color=c[0], alpha=0.15)\n",
    "    ax.plot(df.index.values, df[ticker], label=ticker, linewidth=w[3], color=c[2])\n",
    "    \n",
    "    ax.legend(loc='upper left', title = 'Tickers')\n",
    "    ax.grid(alpha=ga)\n",
    "\n",
    "\n",
    "def plot_sector_adj_close(sector, ticker):\n",
    "    \n",
    "    fig, (ax1) = plt.subplots(1, figsize=(20, 24))\n",
    "\n",
    "    _plot_adj_close(ax1, sp_df, sp_df.loc[:,ticker], ticker,\n",
    "                   f\"S&P 500 Stocks ({sector} - {ticker})\",\n",
    "                   f\"Price\")\n",
    "    \n",
    "    plt.xticks(fontsize=s[3])\n",
    "    plt.yticks(fontsize=s[3])\n",
    "    plt.show()\n",
    "    return \n",
    "\n",
    "interact(plot_sector_adj_close, \n",
    "         sector=sp_df, \n",
    "         ticker=sp_df);\n",
    "\n"
   ]
  },
  {
   "cell_type": "code",
   "execution_count": null,
   "metadata": {},
   "outputs": [],
   "source": [
    "\n",
    "def plot_adj_close_daily_return_hist(ticker):\n",
    "    \n",
    "    sp_daily_lag_df = sp_df.shift(1)\n",
    "    sp_dr_df = (sp_daily_lag_df/sp_df) - 1\n",
    "\n",
    "    \n",
    "    mean = sp_dr_df.mean()\n",
    "    \n",
    "    \n",
    "    std = sp_dr_df.std()\n",
    "\n",
    "    fig, (ax1, ax2) = plt.subplots(2, figsize=(20, 16))\n",
    "    ax1.set_title(f\"S&P 500 Stocks ({ticker})\", fontsize=s[1])\n",
    "    ax1.set_ylabel(f\"Price\", fontsize=s[2])\n",
    "    ax1.plot(sp_df.index.values, sp_df[ticker], label=ticker, linewidth=w[3], color=c[2])\n",
    "    \n",
    "    ax1.legend(loc='upper left', title = 'Tickers')\n",
    "    ax1.grid(alpha=ga)\n",
    "    \n",
    "    ax2.set_title(f\"S&P 500 Stocks ({ticker})\", fontsize=s[1])\n",
    "    ax2.set_ylabel(f\"Price\", fontsize=s[2])\n",
    "    \n",
    "    ax2.hist(sp_dr_df[ticker], bins=50, label=ticker, linewidth=w[3], color=c[1])\n",
    "    \n",
    "    ax2.axvline(mean[ticker], color='red', linestyle='dashed', linewidth=2)\n",
    "    #to plot the std line we plot both the positive and negative values \n",
    "    ax2.axvline(std[ticker], color='g', linestyle='dashed', linewidth=2)\n",
    "    ax2.axvline(-std[ticker], color='g', linestyle='dashed', linewidth=2)\n",
    "\n",
    "    ax2.legend(loc='upper left', title = 'Tickers')\n",
    "    ax2.grid(alpha=ga)\n",
    "    \n",
    "    plt.xticks(fontsize=s[3])\n",
    "    plt.yticks(fontsize=s[3])\n",
    "    plt.show()\n",
    "    \n",
    "    return \n",
    "\n",
    "interact(plot_adj_close_daily_return_hist, \n",
    "         ticker=sp_df);\n",
    "\n"
   ]
  },
  {
   "cell_type": "markdown",
   "metadata": {},
   "source": [
    "#### Cumulative Returns"
   ]
  },
  {
   "cell_type": "code",
   "execution_count": null,
   "metadata": {},
   "outputs": [],
   "source": [
    "# Cumulative Return\n",
    "def cumulative_return(df):\n",
    "    return (df.iloc[-1,:] / df.iloc[0,:]) - 1\n",
    "\n",
    "sp_cr = cumulative_return(sp_df)\n",
    "sp_cr.head()"
   ]
  },
  {
   "cell_type": "code",
   "execution_count": null,
   "metadata": {},
   "outputs": [],
   "source": []
  },
  {
   "cell_type": "code",
   "execution_count": null,
   "metadata": {},
   "outputs": [],
   "source": [
    "# Calculate percentage returns\n",
    "returns = sp_df.pct_change()"
   ]
  },
  {
   "cell_type": "code",
   "execution_count": null,
   "metadata": {},
   "outputs": [],
   "source": [
    "# Calculate individual mean returns \n",
    "meanDailyReturns = returns.mean()"
   ]
  },
  {
   "cell_type": "code",
   "execution_count": null,
   "metadata": {},
   "outputs": [],
   "source": [
    "# Define weights for the portfolio\n",
    "weights = np.array([100 / sp_df.shape[1] for x in range(sp_df.shape[1])])"
   ]
  },
  {
   "cell_type": "code",
   "execution_count": null,
   "metadata": {},
   "outputs": [],
   "source": [
    "# Calculate expected portfolio performance\n",
    "portReturn = np.sum(meanDailyReturns * weights)"
   ]
  },
  {
   "cell_type": "code",
   "execution_count": null,
   "metadata": {},
   "outputs": [],
   "source": [
    "# Create portfolio returns column\n",
    "returns['Portfolio'] = returns.dot(weights)"
   ]
  },
  {
   "cell_type": "code",
   "execution_count": null,
   "metadata": {},
   "outputs": [],
   "source": []
  },
  {
   "cell_type": "code",
   "execution_count": null,
   "metadata": {},
   "outputs": [],
   "source": [
    "# Calculate cumulative returns\n",
    "daily_cum_ret=(1+returns).cumprod()"
   ]
  },
  {
   "cell_type": "code",
   "execution_count": null,
   "metadata": {},
   "outputs": [],
   "source": [
    "# Plot the portfolio cumulative returns only\n",
    "# fig, ax = plt.subplots()\n",
    "# ax.plot(daily_cum_ret.index, daily_cum_ret.Portfolio, color=c[2], label=\"Portfolio\")\n",
    "# plt.legend()\n",
    "# plt.show()\n",
    "\n",
    "\n",
    "\n",
    "fig, ax = plt.subplots(1, figsize=(20, 8))\n",
    "ax.set_title(\"title\", fontsize=s[1])\n",
    "ax.set_ylabel(\"ylabel\", fontsize=s[2])\n",
    "ax.plot(daily_cum_ret.index, daily_cum_ret.Portfolio, color=c[2], label=\"Portfolio\")\n",
    "\n",
    "ax.legend(loc='upper right')\n",
    "ax.grid(alpha=ga)"
   ]
  },
  {
   "cell_type": "code",
   "execution_count": null,
   "metadata": {},
   "outputs": [],
   "source": [
    "# Get percentage daily returns\n",
    "daily_returns = sp_df.pct_change()\n",
    "\n",
    "# Calculate the covariance matrix \n",
    "cov_matrix = (daily_returns.cov())*252\n",
    "\n",
    "# Calculate the portfolio variance\n",
    "portfolio_variance = np.dot(weights.T, np.dot(cov_matrix, weights))\n",
    "\n",
    "# Print the result\n",
    "print(str(np.round(portfolio_variance, 4) * 100) + '%')\n",
    "\n",
    "# Calculate the standard deviation by taking the square root\n",
    "portfolio_standard_dev = np.sqrt(np.dot(weights.T, np.dot(cov_matrix, weights)))\n",
    "\n",
    "# Print the results \n",
    "print(str(np.round(portfolio_standard_dev, 4) * 100) + '%')\n"
   ]
  },
  {
   "cell_type": "code",
   "execution_count": null,
   "metadata": {},
   "outputs": [],
   "source": [
    "# Calculate total rate of return from start to end\n",
    "total_return = (sp_df.iloc[-1,:] - sp_df.iloc[0,:]) / sp_df.iloc[0,:]\n",
    "print(total_return)"
   ]
  },
  {
   "cell_type": "code",
   "execution_count": null,
   "metadata": {},
   "outputs": [],
   "source": [
    "# Annualize return\n",
    "annualized_return = ((1 + total_return)**(12 / 12)) - 1\n",
    "annualized_return['Portfolio'] = annualized_return.dot(weights)\n",
    "print (annualized_return)"
   ]
  },
  {
   "cell_type": "code",
   "execution_count": null,
   "metadata": {},
   "outputs": [],
   "source": [
    "# risk-free rate\n",
    "rfr = 0\n",
    "\n",
    "# Calculate annualized volatility from the standard deviation\n",
    "vol_sp500 = returns['Portfolio'].std() * np.sqrt(252)\n",
    "\n",
    "# Calculate the Sharpe ratio \n",
    "sharpe_ratio = ((annualized_return['Portfolio'] - rfr) / vol_sp500)\n",
    "print (sharpe_ratio)"
   ]
  },
  {
   "cell_type": "code",
   "execution_count": null,
   "metadata": {},
   "outputs": [],
   "source": [
    "\n",
    "fig, (ax1, ax2) = plt.subplots(2, figsize=(20, 16))\n",
    "ax1.set_title(f\"S&P 500 Stocks Returns (Portfolio)\", fontsize=s[1])\n",
    "ax1.set_ylabel(f\"Percentage of Change\", fontsize=s[2])\n",
    "ax1.plot(returns.index.values, returns.Portfolio*100, label='Portfolio', linewidth=w[3], color=c[2])\n",
    "\n",
    "ax1.legend(loc='upper left')\n",
    "ax1.grid(alpha=ga)\n",
    "\n",
    "\n",
    "returns_mean = returns.mean()\n",
    "returns_std = returns.std()\n",
    "\n",
    "ax2.set_title(f\"S&P 500 Stocks Returns Distribution (Portfolio)\", fontsize=s[1])\n",
    "ax2.set_ylabel(f\"Frequency\", fontsize=s[2])\n",
    "ax2.set_xlabel(f\"Percentage of Change\", fontsize=s[2])\n",
    "\n",
    "ax2.hist(returns.Portfolio*100, bins=50, label='Portfolio', linewidth=w[3], color=c[1])\n",
    "\n",
    "ax2.axvline(returns_mean.Portfolio*100, color='red', linestyle='dashed', linewidth=2)\n",
    "#to plot the std line we plot both the positive and negative values \n",
    "ax2.axvline(returns_std.Portfolio*100, color='g', linestyle='dashed', linewidth=2)\n",
    "ax2.axvline(-returns_std.Portfolio*100, color='g', linestyle='dashed', linewidth=2)\n",
    "\n",
    "ax2.legend(loc='upper left', title = 'Tickers')\n",
    "ax2.grid(alpha=ga)\n",
    "\n",
    "plt.xticks(fontsize=s[3])\n",
    "plt.yticks(fontsize=s[3])\n",
    "plt.show()\n"
   ]
  },
  {
   "cell_type": "code",
   "execution_count": null,
   "metadata": {},
   "outputs": [],
   "source": []
  },
  {
   "cell_type": "code",
   "execution_count": null,
   "metadata": {},
   "outputs": [],
   "source": [
    "returns_skew = returns.skew()\n",
    "returns_kurtosis = returns.kurtosis()\n",
    "\n",
    "print('Returns Skew: ')\n",
    "print(returns_skew.Portfolio)\n",
    "print('---------------------------------')\n",
    "print('Returns Kurtosis: ')\n",
    "print(returns_kurtosis.Portfolio)"
   ]
  },
  {
   "cell_type": "code",
   "execution_count": null,
   "metadata": {},
   "outputs": [],
   "source": [
    "target = 0\n",
    "\n",
    "# Create a downside return column with the negative returns only\n",
    "downside_returns = returns.loc[returns.Portfolio < target]\n",
    "\n",
    "# Calculate expected return and std dev of downside\n",
    "expected_return_mean = returns.Portfolio.mean()\n",
    "downside_returns_std = downside_returns.Portfolio.std()\n",
    "\n",
    "# Calculate the sortino ratio\n",
    "sortino_ratio = (expected_return_mean - rfr)/downside_returns_std\n",
    "\n",
    "# Print the results\n",
    "print(\"Expected return  : \", expected_return_mean*100)\n",
    "print(\"Downside risk   : \", downside_returns_std*100)\n",
    "print(\"Sortino ratio : \", sortino_ratio)"
   ]
  },
  {
   "cell_type": "code",
   "execution_count": null,
   "metadata": {},
   "outputs": [],
   "source": [
    "# Calculate the max value \n",
    "roll_max = sp_df.rolling(center=False, min_periods=1, window=252).max()\n",
    "\n",
    "# Calculate the daily draw-down relative to the max\n",
    "daily_draw_down = sp_df/roll_max - 1.0\n",
    "\n",
    "# Calculate the minimum (negative) daily draw-down\n",
    "max_daily_draw_down = daily_draw_down.rolling(center=False, min_periods=1, window=252).min()\n",
    "\n",
    "\n",
    "\n"
   ]
  },
  {
   "cell_type": "code",
   "execution_count": null,
   "metadata": {},
   "outputs": [],
   "source": [
    "def plot_daily_down(ticker):\n",
    "\n",
    "    fig, ax1 = plt.subplots(1, figsize=(20, 16))\n",
    "    ax1.set_title(f\"S&P 500 Stocks ({ticker})\", fontsize=s[1])\n",
    "    ax1.set_ylabel(f\"Price\", fontsize=s[2])\n",
    "    # Plot the results\n",
    "    ax1.plot(sp_df.index.values, daily_draw_down[ticker], label='Daily drawdown')\n",
    "    ax1.plot(sp_df.index.values, max_daily_draw_down[ticker], label='Maximum daily drawdown in time-window')\n",
    "\n",
    "    ax1.legend(loc='upper right', title = 'Tickers')\n",
    "    ax1.grid(alpha=ga)\n",
    "    \n",
    "    return \n",
    "\n",
    "interact(plot_daily_down, \n",
    "         ticker=sp_df);\n",
    "\n"
   ]
  },
  {
   "cell_type": "code",
   "execution_count": null,
   "metadata": {},
   "outputs": [],
   "source": [
    "weights.sum()"
   ]
  },
  {
   "cell_type": "code",
   "execution_count": null,
   "metadata": {},
   "outputs": [],
   "source": [
    "# Calculate return of the portfolio\n",
    "# total_return_pf = (weights*portfolio_data['mean_return']).sum()"
   ]
  }
 ],
 "metadata": {
  "kernelspec": {
   "display_name": "port-opt-py38",
   "language": "python",
   "name": "port-opt-py38"
  },
  "language_info": {
   "codemirror_mode": {
    "name": "ipython",
    "version": 3
   },
   "file_extension": ".py",
   "mimetype": "text/x-python",
   "name": "python",
   "nbconvert_exporter": "python",
   "pygments_lexer": "ipython3",
   "version": "3.8.0"
  }
 },
 "nbformat": 4,
 "nbformat_minor": 1
}
