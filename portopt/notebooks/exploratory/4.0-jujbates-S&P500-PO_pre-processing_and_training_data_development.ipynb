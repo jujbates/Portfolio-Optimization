{
 "cells": [
  {
   "cell_type": "markdown",
   "metadata": {},
   "source": [
    "**The Data Science Method**\n",
    "\n",
    "\n",
    "1.   [Problem Identification](https://medium.com/@aiden.dataminer/the-data-science-method-problem-identification-6ffcda1e5152)\n",
    "\n",
    "2.   [Data Wrangling](https://medium.com/@aiden.dataminer/the-data-science-method-dsm-data-collection-organization-and-definitions-d19b6ff141c4)\n",
    "  * Data Collection - Collected data from wikipedia and quandl wiki price dataset. The wikipedia showed us the currect S&P 500 companies and used their ticker symbols to query quandl wiki prices.\n",
    "  * Data Organization - Done using cookiecutter\n",
    "  * Data Definition\n",
    "  * Data Cleaning - The S&P 500 data from quandls wiki price is clean and ready for analysis use but has lost its support from Quandl community as of April 11, 2018. So we will use this dataset to setup the protfolio optimizer with proof of concept then use a different data source later for cost efficiencies.\n",
    "\n",
    "3.   [Exploratory Data Analysis](https://medium.com/@aiden.dataminer/the-data-science-method-dsm-exploratory-data-analysis-bc84d4d8d3f9)\n",
    " * Build data profile tables and plots\n",
    "        - Cumulative Return\n",
    "        - Annualized Return\n",
    "        - Daily Return\n",
    "        - Mean Daily Return\n",
    "        - Standard Deviation Daily Return\n",
    "        - Simple Moving Average\n",
    "        - Exponential Moving Average\n",
    "        - Moving Average Convergence Divergence\n",
    "        - Adj. Close & Daily Return Covariance\n",
    "        - Adj. Close & Daily Return Correlation\n",
    "        - Sharpe Ratio\n",
    "        - Skew \n",
    "        - Kurtosis\n",
    " * Explore data relationships\n",
    " * Identification and creation of features \n",
    "\n",
    "4.   [**Pre-processing and Training Data Development**](https://medium.com/@aiden.dataminer/the-data-science-method-dsm-pre-processing-and-training-data-development-fd2d75182967)\n",
    "  * Create dummy or indicator features for categorical variables\n",
    "  * Standardize the magnitude of numeric features\n",
    "  * Split into testing and training datasets\n",
    "  * Apply scaler to the testing set\n",
    "5.   [Modeling](https://medium.com/@aiden.dataminer/the-data-science-method-dsm-modeling-56b4233cad1b)\n",
    "  * Fit Models with Training Data Set\n",
    "  * Review Model Outcomes — Iterate over additional models as needed.\n",
    "  * Identify the Final Model\n",
    "\n",
    "6.   [Documentation](https://medium.com/@aiden.dataminer/the-data-science-method-dsm-documentation-c92c28bd45e6)\n",
    "\n",
    "  * Review the Results\n",
    "  * Present and share your findings - storytelling\n",
    "  * Finalize Code\n",
    "  * Finalize Documentation\n"
   ]
  },
  {
   "cell_type": "markdown",
   "metadata": {},
   "source": [
    "First, loads the needed packages and modules into Python. Then loads the data into a pandas dataframe for ease of use."
   ]
  },
  {
   "cell_type": "code",
   "execution_count": 1,
   "metadata": {
    "pycharm": {
     "name": "#%%\n"
    }
   },
   "outputs": [],
   "source": [
    "#load python packages\n",
    "import os\n",
    "import pandas as pd\n",
    "import random\n",
    "import datetime as dt\n",
    "from tqdm import tqdm\n",
    "\n",
    "import seaborn as sns\n",
    "import matplotlib.pyplot as plt"
   ]
  },
  {
   "cell_type": "code",
   "execution_count": 2,
   "metadata": {},
   "outputs": [],
   "source": [
    "random.seed(42)"
   ]
  },
  {
   "cell_type": "code",
   "execution_count": 3,
   "metadata": {
    "pycharm": {
     "name": "#%%\n"
    }
   },
   "outputs": [
    {
     "name": "stdout",
     "output_type": "stream",
     "text": [
      "Current Directory: \n",
      "/Users/jb/Development/courses/springboard/ds/Assignments/Portfolio-Optimization/portopt/notebooks/exploratory\n"
     ]
    }
   ],
   "source": [
    "# prints current directory\n",
    "current_dir = os.getcwd()\n",
    "print(\"Current Directory: \")\n",
    "print(current_dir)"
   ]
  },
  {
   "cell_type": "code",
   "execution_count": 4,
   "metadata": {},
   "outputs": [
    {
     "name": "stdout",
     "output_type": "stream",
     "text": [
      "Parent Directory: \n",
      "/Users/jb/Development/courses/springboard/ds/Assignments/Portfolio-Optimization/portopt\n"
     ]
    }
   ],
   "source": [
    "# prints parent directory\n",
    "project_dir = os.path.abspath(os.path.join(os.path.join(current_dir, os.pardir), os.pardir))\n",
    "print(\"Parent Directory: \")\n",
    "print(project_dir)"
   ]
  },
  {
   "cell_type": "code",
   "execution_count": 5,
   "metadata": {},
   "outputs": [
    {
     "name": "stdout",
     "output_type": "stream",
     "text": [
      "['3.0-jujbates-S&P500-PO_eda.ipynb', '.DS_Store', '5.0-jujbates-S&P500-PO_modeling.ipynb', '4.0-jujbates-S&P500-PO_pre-processing_and_training_data_development.ipynb', '.ipynb_checkpoints', '1.0-jujbates-S&P500-PO_problem_identification.ipynb', '2.0-jujbates-S&P500-PO_data_wrangling.ipynb']\n"
     ]
    }
   ],
   "source": [
    "print(os.listdir())"
   ]
  },
  {
   "cell_type": "code",
   "execution_count": 6,
   "metadata": {},
   "outputs": [],
   "source": [
    "plt.style.use('dark_background')\n",
    "c = ['white', 'springgreen', 'fuchsia', 'lightcoral', 'red'] # Color\n",
    "s = [24, 20, 16, 12]  # Size\n",
    "w = [0.75, 1, 1.25, 1.50] # Line Width\n",
    "ga = 0.10 # Grid Alpha"
   ]
  },
  {
   "cell_type": "code",
   "execution_count": 7,
   "metadata": {},
   "outputs": [],
   "source": [
    "sp500_adj_close_df = pd.read_csv(project_dir + '/data/interim/'+ 'yahoo_sp500_adj_close_interim.csv', index_col=['date'])\n",
    "sp500_index_adj_close_df = pd.read_csv(project_dir + '/data/interim/'+ 'yahoo_sp500_index_adj_close_interim.csv', index_col=['date'])\n",
    "\n",
    "sp500_adj_close_df.index = pd.to_datetime(sp500_adj_close_df.index)\n",
    "sp500_index_adj_close_df.index = pd.to_datetime(sp500_index_adj_close_df.index)\n"
   ]
  },
  {
   "cell_type": "code",
   "execution_count": 8,
   "metadata": {},
   "outputs": [],
   "source": [
    "from pypfopt import EfficientFrontier\n",
    "from pypfopt import risk_models\n",
    "from pypfopt import expected_returns\n",
    "\n",
    "def optimize_ef_max_sharpe_ratio(df):\n",
    "    # Calculate expected returns and sample covariance\n",
    "    mu = expected_returns.ema_historical_return(df)\n",
    "    S = risk_models.semicovariance(df)\n",
    "\n",
    "    # Optimise for maximal Sharpe ratio\n",
    "    ef = EfficientFrontier(mu, S)\n",
    "    raw_weights = ef.max_sharpe()\n",
    "    cleaned_weights = ef.clean_weights()\n",
    "    \n",
    "    # Expected return, Volatility, and the Sharpe ratio\n",
    "    er, vol, sr = ef.portfolio_performance()\n",
    "    return cleaned_weights, er, vol, sr\n",
    "\n",
    "\n",
    "    \n",
    "def get_daily_portfolio_values(prices, allocs, sv):\n",
    "    \"\"\" \n",
    "    Get the daily portfolio values.\n",
    "\n",
    "    To get the daily values the function normalizes portfolio's adjusted closing prices, \n",
    "    allocates the normalized symbol by the portfolio allocations, scales to the the portfolio's \n",
    "    psition values with the start values and finally sums by each day.\n",
    "  \n",
    "    Parameters: \n",
    "    prices (dataFrame): Adjusted closing prices for symbols in portfolio  \n",
    "    allocs (list): A list of 2 or more allocations to the stocks, must sum to 1.0\n",
    "    sv (float): Start value of the portfolio\n",
    "    \n",
    "\n",
    "    Returns: \n",
    "    dataFrame: Portfolio values\n",
    "  \n",
    "    \"\"\"\n",
    "    \n",
    "    normed_price = prices / prices.iloc[0]  # Normalize Adj Close Prices\n",
    "    alloced_price = normed_price * allocs  # Allocated Normalize Adj Close Prices\n",
    "    pos_val = alloced_price * sv  # Position Values\n",
    "    return pos_val.sum(axis=1)  # Portfolio Values\n",
    "\n"
   ]
  },
  {
   "cell_type": "code",
   "execution_count": 9,
   "metadata": {},
   "outputs": [],
   "source": [
    "def cumulative_return(df):\n",
    "    return (df.iloc[-1] / df.iloc[0]) - 1\n",
    "\n",
    "def daily_returns(df):\n",
    "    return df.pct_change() * 100\n",
    "\n",
    "def sharpe_ratio(adr, sddr, rfr=0):\n",
    "    return (adr - rfr) / sddr "
   ]
  },
  {
   "cell_type": "code",
   "execution_count": 10,
   "metadata": {},
   "outputs": [],
   "source": [
    "\n",
    "\n",
    "def get_top_50_symbols_with_sharpe_ratio(date_ranges, df):\n",
    "    sym_df = pd.DataFrame({})\n",
    "    for sd, ed in tqdm(date_ranges):\n",
    "        prices = df.copy(deep=True).loc[sd : ed]\n",
    "        dr = daily_returns(prices)\n",
    "        sr = sharpe_ratio(dr.mean(), dr.std(), rfr=0)\n",
    "        idx = str(sd) + '-->' + str(ed)\n",
    "        if len(sr) == 1 and sr.index[0] == '^GSPC':\n",
    "            sym_df[idx] = sr.index.tolist()\n",
    "        else:\n",
    "            sym_df[idx] = sr.sort_values(ascending=False)[:20].index.tolist()\n",
    "    return sym_df"
   ]
  },
  {
   "cell_type": "code",
   "execution_count": 11,
   "metadata": {},
   "outputs": [],
   "source": [
    "def get_random_date_ranges(start_date='1999-01-01', end_date='2019-12-31', range_window=365, evaluation_window=365, n_ranges=3):\n",
    "    random_date_ranges = []\n",
    "\n",
    "    range_window_dd = dt.timedelta(days=range_window)\n",
    "    evaluation_window_dd = dt.timedelta(days=evaluation_window)\n",
    "\n",
    "    start_date =  dt.datetime.strptime('1999-01-01', '%Y-%m-%d') \n",
    "    end_date =  dt.datetime.strptime('2019-12-31', '%Y-%m-%d') - (range_window_dd + evaluation_window_dd)    \n",
    "    \n",
    "    time_between_dates = end_date - start_date\n",
    "    days_between_dates = time_between_dates.days    \n",
    "    \n",
    "    for i in range(n_ranges):\n",
    "        random_number_of_days = random.randrange(days_between_dates)        \n",
    "        random_start_date = start_date + dt.timedelta(days=random_number_of_days)\n",
    "        \n",
    "        random_end_date = random_start_date + range_window_dd\n",
    "        random_date_ranges.append((random_start_date, random_end_date))\n",
    "    return random_date_ranges"
   ]
  },
  {
   "cell_type": "code",
   "execution_count": 12,
   "metadata": {},
   "outputs": [],
   "source": [
    "def plot_portfolio_window_performance(pv_df, p_df):\n",
    "        # Build plot figure\n",
    "        fig, (ax1, ax2) = plt.subplots(2, figsize=(20, 16))\n",
    "        ax1.set_title(f\"Portfolio Values\", fontsize=s[1])\n",
    "        ax1.set_xlabel(f\"Date\", fontsize=s[2])\n",
    "        ax1.set_ylabel(f\"Price\", fontsize=s[2])\n",
    "        \n",
    "        # Plot the results\n",
    "        pv_df.plot(kind='line', ax=ax1, legend=None)\n",
    "        \n",
    "        ax2.set_title(f\"Cumulative Return Distribution\", fontsize=s[1])\n",
    "        ax2.set_xlabel(f\"Cumulative Return (%)\", fontsize=s[2])\n",
    "        ax2.set_ylabel(f\"Frequence\", fontsize=s[2])\n",
    "        \n",
    "        # Plot the results\n",
    "        sns.histplot(data=p_df, x='Cumulative Return', bins=30, ax=ax2)\n",
    "\n",
    "        plt.show()\n",
    "\n",
    "def portfolio_window_performance(prices, window_sym_df, projection_window_days=365, optimize=True, plot_flag=False):\n",
    "    pv_df = pd.DataFrame(index=prices.index)\n",
    "    dr_df = pd.DataFrame(index=prices.index)\n",
    "    performance_df = pd.DataFrame(index=window_sym_df.columns)\n",
    "    performance_df['Cumulative Return'] = 0\n",
    "    for i in window_sym_df:\n",
    "        sv = 1\n",
    "        ii = i.split('-->')\n",
    "        sd = dt.datetime.strptime(ii[0], '%Y-%m-%d %H:%M:%S') \n",
    "        ed = dt.datetime.strptime(ii[1], '%Y-%m-%d %H:%M:%S')   \n",
    "        dd = dt.timedelta(days=projection_window_days)\n",
    "        \n",
    "        sym_list = window_sym_df[i].to_list()\n",
    "        w_prices = prices.loc[sd:ed, sym_list].copy(deep=True)\n",
    "        if optimize:\n",
    "            cleaned_weights, er, vol, sr = optimize_ef_max_sharpe_ratio(w_prices)\n",
    "            allocs = pd.DataFrame({'cleaned_weights': cleaned_weights}, index=w_prices.columns)['cleaned_weights'].to_list()\n",
    "        else:\n",
    "            allocs = 1  \n",
    "        e_price = prices.loc[ed:ed+dd, sym_list]\n",
    "\n",
    "        pv = get_daily_portfolio_values(e_price, allocs, sv=sv)\n",
    "        pv_df.insert(0, i, pd.Series(pv, index=e_price.index))\n",
    "        \n",
    "        cr = cumulative_return(pv_df.loc[ed:ed+dd, i])            \n",
    "        performance_df.loc[i, 'Cumulative Return'] = cr * 100\n",
    "\n",
    "    pv = get_daily_portfolio_values(e_price, allocs, sv=sv)\n",
    "    \n",
    "    if plot_flag:\n",
    "        plot_portfolio_window_performance(pv_df, performance_df)\n",
    "        \n",
    "       \n",
    "    return performance_df\n"
   ]
  },
  {
   "cell_type": "code",
   "execution_count": 13,
   "metadata": {
    "scrolled": false
   },
   "outputs": [
    {
     "name": "stderr",
     "output_type": "stream",
     "text": [
      "100%|██████████| 5/5 [00:00<00:00, 41.79it/s]\n",
      "100%|██████████| 5/5 [00:00<00:00, 450.29it/s]\n"
     ]
    }
   ],
   "source": [
    "rand_one_year_window_date_ranges = get_random_date_ranges(n_ranges=5)\n",
    "\n",
    "rand_one_year_window_sym_50_df = get_top_50_symbols_with_sharpe_ratio(rand_one_year_window_date_ranges, sp500_adj_close_df)\n",
    "rand_one_year_window_sp500_index_df = get_top_50_symbols_with_sharpe_ratio(rand_one_year_window_date_ranges, sp500_index_adj_close_df)"
   ]
  },
  {
   "cell_type": "code",
   "execution_count": 14,
   "metadata": {},
   "outputs": [
    {
     "data": {
      "image/png": "[encoded data removed]",
      "text/plain": [
       "<Figure size 1440x1152 with 2 Axes>"
      ]
     },
     "metadata": {},
     "output_type": "display_data"
    }
   ],
   "source": [
    "sp500_index_performance_df = portfolio_window_performance(sp500_index_adj_close_df, rand_one_year_window_sp500_index_df, projection_window_days=365, optimize=False, plot_flag=True)"
   ]
  },
  {
   "cell_type": "code",
   "execution_count": null,
   "metadata": {},
   "outputs": [],
   "source": [
    " "
   ]
  },
  {
   "cell_type": "code",
   "execution_count": null,
   "metadata": {},
   "outputs": [],
   "source": []
  },
  {
   "cell_type": "code",
   "execution_count": 15,
   "metadata": {},
   "outputs": [],
   "source": [
    "rand_one_year_window_sym_50_df.index.name = 'index'\n",
    "rand_one_year_window_sp500_index_df.index.name = 'index'\n",
    "\n",
    "rand_one_year_window_sym_50_df.to_csv(project_dir + '/data/interim/'+ 'sp500_rand_one_year_window_sym_50_interim.csv', index=True)\n",
    "rand_one_year_window_sp500_index_df.to_csv(project_dir + '/data/interim/'+ 'sp500_rand_one_year_window_sp500_index_interim.csv', index=True)"
   ]
  },
  {
   "cell_type": "code",
   "execution_count": null,
   "metadata": {},
   "outputs": [],
   "source": []
  }
 ],
 "metadata": {
  "kernelspec": {
   "display_name": "port-opt-py38",
   "language": "python",
   "name": "port-opt-py38"
  },
  "language_info": {
   "codemirror_mode": {
    "name": "ipython",
    "version": 3
   },
   "file_extension": ".py",
   "mimetype": "text/x-python",
   "name": "python",
   "nbconvert_exporter": "python",
   "pygments_lexer": "ipython3",
   "version": "3.8.0"
  }
 },
 "nbformat": 4,
 "nbformat_minor": 1
}
