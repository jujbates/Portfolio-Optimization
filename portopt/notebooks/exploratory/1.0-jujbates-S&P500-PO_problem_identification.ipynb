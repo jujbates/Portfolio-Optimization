{
 "cells": [
  {
   "cell_type": "markdown",
   "metadata": {},
   "source": [
    "\n",
    "# **The Data Science Method**  \n",
    "\n",
    "\n",
    "1.   [**Problem Identification**](https://medium.com/@aiden.dataminer/the-data-science-method-problem-identification-6ffcda1e5152)\n",
    "\n",
    "2.   [Data Wrangling](https://medium.com/@aiden.dataminer/the-data-science-method-dsm-data-collection-organization-and-definitions-d19b6ff141c4) \n",
    "  * Data Organization - Using cookiecutter template with some modifications to start.\n",
    "  * Data Collection - Collected data from wikipedia and yahoo finance price dataset. The wikipedia showed us the current S&P 500 companies and then used their ticker symbols to query yahoo finance adj. close prices.\n",
    "      - Load the S&P 500 tickers from wikipedia page\n",
    "      - Get S&P 500 Index (^GSPC) as a Bench Mark\n",
    "      - Use S&P Symbols to Get Adj Close from Yahoo Finance\n",
    "  * Data Cleaning - The S&P 500 data from yahoo finance price is almost clean and ready for analysis use. Need to remove tickers that IPO or die mid year, creating usable Nan values.\n",
    "  * Basic Data Visualizations \n",
    "  * Data Definition \n",
    "\n",
    " \n",
    "3.   [Exploratory Data Analysis](https://medium.com/@aiden.dataminer/the-data-science-method-dsm-exploratory-data-analysis-bc84d4d8d3f9)\n",
    " * Build data profile tables and plots\n",
    "        - Cumulative Return\n",
    "        - Annualized Return\n",
    "        - Daily Return\n",
    "        - Mean Daily Return\n",
    "        - Standard Deviation Daily Return\n",
    "        - Simple Moving Average\n",
    "        - Exponential Moving Average\n",
    "        - Moving Average Convergence Divergence\n",
    "        - Adj. Close & Daily Return Covariance\n",
    "        - Adj. Close & Daily Return Correlation\n",
    "        - Sharpe Ratio\n",
    "        - Skew \n",
    "        - Kurtosis\n",
    " * Explore data relationships\n",
    " * Identification and creation of features \n",
    "\n",
    "4.   [Pre-processing and Training Data Development](https://medium.com/@aiden.dataminer/the-data-science-method-dsm-pre-processing-and-training-data-development-fd2d75182967)\n",
    "  * Create dummy or indicator features for categorical variables\n",
    "  * Standardize the magnitude of numeric features\n",
    "  * Split into testing and training datasets\n",
    "  * Apply scalar to the testing set\n",
    "5.   [Modeling](https://medium.com/@aiden.dataminer/the-data-science-method-dsm-modeling-56b4233cad1b)\n",
    "  * Create dummy or indicator features for categorical variable\n",
    "  * Fit Models with Training Data Set\n",
    "  * Review Model Outcomes — Iterate over additional models as needed.\n",
    "  * Identify the Final Model\n",
    "\n",
    "6.   [Documentation](https://medium.com/@aiden.dataminer/the-data-science-method-dsm-documentation-c92c28bd45e6)\n",
    "\n",
    "  * Review the Results\n",
    "  * Present and share your findings - storytelling\n",
    "  * Finalize Code \n",
    "  * Finalize Documentation\n",
    "\n"
   ]
  },
  {
   "cell_type": "markdown",
   "metadata": {
    "pycharm": {
     "name": "#%% md\n"
    }
   },
   "source": [
    "# Problem Identification"
   ]
  },
  {
   "cell_type": "markdown",
   "metadata": {},
   "source": [
    "The world of financial asset management is difficult to understand. It takes time and money to research and analyze assets. Some of the most interesting and high profile assets are assets in the form of securities. In the United States, financial securities are simply tradable assets such as debts, equities, and derivatives. Nowadays, the financial asset that most U.S. citizens think of is equities and more specifically common stocks. They have begun to believe it is the best indicator of economic growth. \n",
    "\n",
    "Sure you can buckle down and evaluate stock after stock, company after company, CEO after CEO, quarter after quarter. But is there an easier way for common folks without the financial know how or even just time. ETFs, Exchange-Traded Funds are portfolios that are traded on stock exchanges just like any other stock. ETF portfolios can contain assets such as stocks, bonds, currencies, and/or commodities. This makes it much easier for an everyday investor to invest with lower risk and little to no supervision. \n",
    "\n",
    "The most common ETFs follow the S&P 500 index (^GSPC)  like The Vanguard Group (VOO), iShares (IVV), and State Street Corporation (SPY). The S&P is a capitalization-weighted index, which means it indexes the equities by allocating with capitalization, the stock’s share price multiplied by the number of outstanding shares.\n"
   ]
  },
  {
   "cell_type": "code",
   "execution_count": null,
   "metadata": {},
   "outputs": [],
   "source": []
  }
 ],
 "metadata": {
  "kernelspec": {
   "display_name": "port-opt-py38",
   "language": "python",
   "name": "port-opt-py38"
  },
  "language_info": {
   "codemirror_mode": {
    "name": "ipython",
    "version": 3
   },
   "file_extension": ".py",
   "mimetype": "text/x-python",
   "name": "python",
   "nbconvert_exporter": "python",
   "pygments_lexer": "ipython3",
   "version": "3.8.0"
  }
 },
 "nbformat": 4,
 "nbformat_minor": 4
}
